{
 "cells": [
  {
   "cell_type": "code",
   "execution_count": 1,
   "metadata": {},
   "outputs": [],
   "source": [
    "from ltlcross_runner import LtlcrossRunner\n",
    "from IPython.display import display\n",
    "import pandas as pd\n",
    "import spot\n",
    "import sys\n",
    "spot.setup(show_default='.a')\n",
    "pd.options.display.float_format = '{: .0f}'.format\n",
    "pd.options.display.latex.multicolumn_format = 'c'"
   ]
  },
  {
   "cell_type": "markdown",
   "metadata": {},
   "source": [
    "$\\newcommand{\\F}{\\mathsf{F}}$\n",
    "$\\newcommand{\\G}{\\mathsf{G}}$\n",
    "$\\newcommand{\\FG}{\\mathsf{F,G}}$\n",
    "## Formulae\n",
    "We evaluate our translation on randomly generated formulae. We use Spot to generate them. The following function uses spot's randltl to generate and process formulae. It allows to filter the formulae using the function `func` (this feature is not used here) and also removes formulae $\\top$ and $\\bot$. Further, we remove all $\\mathsf{M}$ and $\\mathsf{W}$ operators as LTL3BA does not understand them. The `relabel_bse` function renames $\\G(a \\lor b)$ into $\\G a$ and thus it keeps only on formula of such type."
   ]
  },
  {
   "cell_type": "code",
   "execution_count": 2,
   "metadata": {},
   "outputs": [],
   "source": [
    "def generate(n=100,func=(lambda x: True),filename=None,priorities='M=0,W=0,xor=0',ap=['a','b','c','d','e']):\n",
    "    if filename is None:\n",
    "        file_h = sys.stdout\n",
    "    else:\n",
    "        file_h = open(filename,'w')\n",
    "    f = spot.randltl(ap,\n",
    "                     ltl_priorities=priorities,\n",
    "                     simplify=3,tree_size=15).relabel_bse(spot.Abc)\\\n",
    "                     .unabbreviate('WM')\n",
    "    i = 0\n",
    "    printed = set()\n",
    "    while(i < n):\n",
    "        form = next(f)\n",
    "        if form in printed:\n",
    "            continue\n",
    "        if func(form) and not form.is_tt() and not form.is_ff():\n",
    "            print(form,file=file_h)\n",
    "            printed.add(form)\n",
    "            i += 1"
   ]
  },
  {
   "cell_type": "markdown",
   "metadata": {},
   "source": [
    "### Generate Formulae\n",
    "We generate 100 random formulae from the $LTL(\\F,\\G)$ fragment and save them to the file `formulae/fg.ltl`."
   ]
  },
  {
   "cell_type": "code",
   "execution_count": 3,
   "metadata": {},
   "outputs": [],
   "source": [
    "fg_f = 'formulae/fg.ltl'\n",
    "!mkdir -p formulae\n",
    "generate(100,filename=fg_f,priorities='xor=0,implies=0,equiv=0,X=0,W=0,M=0,R=0,U=0,F=3,G=3')"
   ]
  },
  {
   "cell_type": "markdown",
   "metadata": {},
   "source": [
    "## Tools' settings"
   ]
  },
  {
   "cell_type": "code",
   "execution_count": 72,
   "metadata": {},
   "outputs": [],
   "source": [
    "### Tools' setting ###\n",
    "end = \" > %O\"\n",
    "tools = {#\"R1\" : 'java -jar Rab1/Rabinizer.jar -ltl2dstar %F a; mv a.dst %O',\n",
    "         #\"R2\" : 'java -jar Rab2/rabinizer.jar -ltl2dstar %F > %O',\n",
    "         \"R3\" : 'java -jar Rab3/rabinizer3.1.jar -silent -format=hoa -auto=sr -out=std %f > %O',\n",
    "         \"R4\" : 'Rab4/bin/ltl2dra %f | autfilt -S > %O',\n",
    "        }\n",
    "### Order in which we want to sort the translations\n",
    "rab_order = [\"R1\",\"R2\",\"R3\",\"R4\"]\n",
    "### File with measured statistics ###\n",
    "rab_csv = 'rabinizers.csv'"
   ]
  },
  {
   "cell_type": "code",
   "execution_count": 73,
   "metadata": {},
   "outputs": [],
   "source": [
    "rerun = True"
   ]
  },
  {
   "cell_type": "code",
   "execution_count": 79,
   "metadata": {},
   "outputs": [],
   "source": [
    "rab = LtlcrossRunner(tools,res_filename=rab_csv,\n",
    "                        formula_files=[fg_f],\n",
    "                        cols=[\"states\",\"transitions\",\"acc\",\"time\"])\n",
    "if rerun:\n",
    "    rab.run_ltlcross(timeout='60')\n",
    "rab.parse_results()"
   ]
  },
  {
   "cell_type": "code",
   "execution_count": 80,
   "metadata": {},
   "outputs": [
    {
     "data": {
      "text/plain": [
       "tool\n",
       "R3    607\n",
       "R4    375\n",
       "dtype: int64"
      ]
     },
     "execution_count": 80,
     "metadata": {},
     "output_type": "execute_result"
    }
   ],
   "source": [
    "rab.cummulative()"
   ]
  },
  {
   "cell_type": "code",
   "execution_count": 81,
   "metadata": {},
   "outputs": [
    {
     "data": {
      "text/html": [
       "<div>\n",
       "<style scoped>\n",
       "    .dataframe tbody tr th:only-of-type {\n",
       "        vertical-align: middle;\n",
       "    }\n",
       "\n",
       "    .dataframe tbody tr th {\n",
       "        vertical-align: top;\n",
       "    }\n",
       "\n",
       "    .dataframe thead th {\n",
       "        text-align: right;\n",
       "    }\n",
       "</style>\n",
       "<table border=\"1\" class=\"dataframe\">\n",
       "  <thead>\n",
       "    <tr style=\"text-align: right;\">\n",
       "      <th></th>\n",
       "      <th>tool</th>\n",
       "      <th>R3</th>\n",
       "      <th>R4</th>\n",
       "    </tr>\n",
       "    <tr>\n",
       "      <th>form_id</th>\n",
       "      <th>formula</th>\n",
       "      <th></th>\n",
       "      <th></th>\n",
       "    </tr>\n",
       "  </thead>\n",
       "  <tbody>\n",
       "    <tr>\n",
       "      <th>38</th>\n",
       "      <th>G(a | b) | GF(b | c)</th>\n",
       "      <td>4</td>\n",
       "      <td>5</td>\n",
       "    </tr>\n",
       "  </tbody>\n",
       "</table>\n",
       "</div>"
      ],
      "text/plain": [
       "tool                          R3  R4\n",
       "form_id formula                     \n",
       "38      G(a | b) | GF(b | c)   4   5"
      ]
     },
     "execution_count": 81,
     "metadata": {},
     "output_type": "execute_result"
    }
   ],
   "source": [
    "rab.smaller_than('R3','R4')"
   ]
  },
  {
   "cell_type": "code",
   "execution_count": 82,
   "metadata": {},
   "outputs": [
    {
     "data": {
      "text/plain": [
       "72"
      ]
     },
     "execution_count": 82,
     "metadata": {},
     "output_type": "execute_result"
    }
   ],
   "source": [
    "len(rab.smaller_than('R4','R3'))"
   ]
  },
  {
   "cell_type": "markdown",
   "metadata": {},
   "source": [
    "## Conclusions\n",
    "* Rabinizer 2 had many failures and its results were much worse than those of Rab1 and Rab4\n",
    "* On the 100 formulae we had many errors for Rab1. Overall, it did not work with ltlcross check where about half the formula failed. And We had at least one error confirmed with Rab3 & Rab4 against Rab1.\n",
    "\n",
    "Therfore, we only include Rab3 and Rab4 into the comparison."
   ]
  },
  {
   "cell_type": "code",
   "execution_count": 83,
   "metadata": {},
   "outputs": [
    {
     "data": {
      "image/svg+xml": [
       "<?xml version=\"1.0\" encoding=\"UTF-8\" standalone=\"no\"?>\n",
       "<!DOCTYPE svg PUBLIC \"-//W3C//DTD SVG 1.1//EN\"\n",
       " \"http://www.w3.org/Graphics/SVG/1.1/DTD/svg11.dtd\">\n",
       "<!-- Generated by graphviz version 2.36.0 (20140111.2315)\n",
       " -->\n",
       "<!-- Title: G Pages: 1 -->\n",
       "<svg width=\"734pt\" height=\"87pt\"\n",
       " viewBox=\"0.00 0.00 734.00 87.44\" xmlns=\"http://www.w3.org/2000/svg\" xmlns:xlink=\"http://www.w3.org/1999/xlink\">\n",
       "<g id=\"graph0\" class=\"graph\" transform=\"scale(0.38349 0.38349) rotate(0) translate(4 224)\">\n",
       "<title>G</title>\n",
       "<polygon fill=\"white\" stroke=\"none\" points=\"-4,4 -4,-224 1910,-224 1910,4 -4,4\"/>\n",
       "<text text-anchor=\"start\" x=\"722.5\" y=\"-205.8\" font-family=\"Lato\" font-size=\"14.00\">(Fin(</text>\n",
       "<text text-anchor=\"start\" x=\"752.5\" y=\"-205.8\" font-family=\"Lato\" font-size=\"14.00\" fill=\"#1f78b4\">⓿</text>\n",
       "<text text-anchor=\"start\" x=\"763.5\" y=\"-205.8\" font-family=\"Lato\" font-size=\"14.00\">) &amp; Inf(</text>\n",
       "<text text-anchor=\"start\" x=\"806.5\" y=\"-205.8\" font-family=\"Lato\" font-size=\"14.00\" fill=\"#ff4da0\">❶</text>\n",
       "<text text-anchor=\"start\" x=\"819.5\" y=\"-205.8\" font-family=\"Lato\" font-size=\"14.00\">)) | (Fin(</text>\n",
       "<text text-anchor=\"start\" x=\"868.5\" y=\"-205.8\" font-family=\"Lato\" font-size=\"14.00\" fill=\"#ff7f00\">❷</text>\n",
       "<text text-anchor=\"start\" x=\"881.5\" y=\"-205.8\" font-family=\"Lato\" font-size=\"14.00\">) &amp; Inf(</text>\n",
       "<text text-anchor=\"start\" x=\"924.5\" y=\"-205.8\" font-family=\"Lato\" font-size=\"14.00\" fill=\"#6a3d9a\">❸</text>\n",
       "<text text-anchor=\"start\" x=\"937.5\" y=\"-205.8\" font-family=\"Lato\" font-size=\"14.00\">)) | (Fin(</text>\n",
       "<text text-anchor=\"start\" x=\"986.5\" y=\"-205.8\" font-family=\"Lato\" font-size=\"14.00\" fill=\"#33a02c\">❹</text>\n",
       "<text text-anchor=\"start\" x=\"999.5\" y=\"-205.8\" font-family=\"Lato\" font-size=\"14.00\">) &amp; Inf(</text>\n",
       "<text text-anchor=\"start\" x=\"1042.5\" y=\"-205.8\" font-family=\"Lato\" font-size=\"14.00\" fill=\"#e31a1c\">❺</text>\n",
       "<text text-anchor=\"start\" x=\"1055.5\" y=\"-205.8\" font-family=\"Lato\" font-size=\"14.00\">)) | (Fin(</text>\n",
       "<text text-anchor=\"start\" x=\"1104.5\" y=\"-205.8\" font-family=\"Lato\" font-size=\"14.00\" fill=\"#c4c400\">❻</text>\n",
       "<text text-anchor=\"start\" x=\"1117.5\" y=\"-205.8\" font-family=\"Lato\" font-size=\"14.00\">) &amp; Inf(</text>\n",
       "<text text-anchor=\"start\" x=\"1160.5\" y=\"-205.8\" font-family=\"Lato\" font-size=\"14.00\" fill=\"#505050\">❼</text>\n",
       "<text text-anchor=\"start\" x=\"1173.5\" y=\"-205.8\" font-family=\"Lato\" font-size=\"14.00\">))</text>\n",
       "<text text-anchor=\"start\" x=\"924\" y=\"-191.8\" font-family=\"Lato\" font-size=\"14.00\">[Rabin 4]</text>\n",
       "<!-- I -->\n",
       "<!-- 0 -->\n",
       "<g id=\"node2\" class=\"node\"><title>0</title>\n",
       "<ellipse fill=\"#ffffaa\" stroke=\"black\" cx=\"269\" cy=\"-101\" rx=\"229.205\" ry=\"26.7407\"/>\n",
       "<text text-anchor=\"start\" x=\"115\" y=\"-104.8\" font-family=\"Lato\" font-size=\"14.00\">(G(a|b)|GF(b|c)):: (a|b)=1; F(b|c)=1; {0=0, 1=0} +1</text>\n",
       "<text text-anchor=\"start\" x=\"262.5\" y=\"-89.8\" font-family=\"Lato\" font-size=\"14.00\" fill=\"#ff4da0\">❶</text>\n",
       "</g>\n",
       "<!-- I&#45;&gt;0 -->\n",
       "<g id=\"edge1\" class=\"edge\"><title>I&#45;&gt;0</title>\n",
       "<path fill=\"none\" stroke=\"black\" d=\"M2.04845,-101C2.88445,-101 14.4817,-101 32.4078,-101\"/>\n",
       "<polygon fill=\"black\" stroke=\"black\" points=\"39.8707,-101 32.8707,-104.15 36.3707,-101 32.8707,-101 32.8707,-101 32.8707,-101 36.3707,-101 32.8707,-97.8501 39.8707,-101 39.8707,-101\"/>\n",
       "</g>\n",
       "<!-- 0&#45;&gt;0 -->\n",
       "<g id=\"edge5\" class=\"edge\"><title>0&#45;&gt;0</title>\n",
       "<path fill=\"none\" stroke=\"black\" d=\"M222.602,-127.199C221.081,-136.963 236.547,-145 269,-145 293.34,-145 308.124,-140.479 313.354,-134.1\"/>\n",
       "<polygon fill=\"black\" stroke=\"black\" points=\"315.398,-127.199 316.43,-134.806 314.404,-130.555 313.409,-133.911 313.409,-133.911 313.409,-133.911 314.404,-130.555 310.389,-133.016 315.398,-127.199 315.398,-127.199\"/>\n",
       "<text text-anchor=\"start\" x=\"236.5\" y=\"-148.8\" font-family=\"Lato\" font-size=\"14.00\">a &amp; !b &amp; !c</text>\n",
       "</g>\n",
       "<!-- 1 -->\n",
       "<g id=\"node3\" class=\"node\"><title>1</title>\n",
       "<ellipse fill=\"#ffffaa\" stroke=\"black\" cx=\"1344\" cy=\"-80\" rx=\"152.056\" ry=\"26.7407\"/>\n",
       "<text text-anchor=\"start\" x=\"1244.5\" y=\"-83.8\" font-family=\"Lato\" font-size=\"14.00\">GF(b|c):: F(b|c)=1; {0=0, 1=0} &#45;1</text>\n",
       "<text text-anchor=\"start\" x=\"1338.5\" y=\"-68.8\" font-family=\"Lato\" font-size=\"14.00\" fill=\"#1f78b4\">⓿</text>\n",
       "</g>\n",
       "<!-- 0&#45;&gt;1 -->\n",
       "<g id=\"edge2\" class=\"edge\"><title>0&#45;&gt;1</title>\n",
       "<path fill=\"none\" stroke=\"black\" d=\"M498.232,-100.657C661.879,-99.8795 887.56,-97.7254 1086,-92 1119.97,-91.0199 1156.45,-89.5623 1190.95,-87.9977\"/>\n",
       "<polygon fill=\"black\" stroke=\"black\" points=\"1198.28,-87.6623 1191.43,-91.129 1194.78,-87.8223 1191.29,-87.9823 1191.29,-87.9823 1191.29,-87.9823 1194.78,-87.8223 1191.14,-84.8356 1198.28,-87.6623 1198.28,-87.6623\"/>\n",
       "<text text-anchor=\"start\" x=\"808\" y=\"-103.8\" font-family=\"Lato\" font-size=\"14.00\">!a &amp; !b &amp; !c</text>\n",
       "</g>\n",
       "<!-- 3 -->\n",
       "<g id=\"node4\" class=\"node\"><title>3</title>\n",
       "<ellipse fill=\"#ffffaa\" stroke=\"black\" cx=\"1740\" cy=\"-85\" rx=\"166.34\" ry=\"25.4118\"/>\n",
       "<text text-anchor=\"start\" x=\"1630.5\" y=\"-88.8\" font-family=\"Lato\" font-size=\"14.00\">GF(b|c):: F(b|c)=1; {0=0, 1=1} &#45;1 +2</text>\n",
       "<text text-anchor=\"start\" x=\"1728\" y=\"-74.8\" font-family=\"Lato\" font-size=\"14.00\" fill=\"#1f78b4\">⓿</text>\n",
       "<text text-anchor=\"start\" x=\"1739\" y=\"-74.8\" font-family=\"Lato\" font-size=\"14.00\" fill=\"#6a3d9a\">❸</text>\n",
       "</g>\n",
       "<!-- 0&#45;&gt;3 -->\n",
       "<g id=\"edge3\" class=\"edge\"><title>0&#45;&gt;3</title>\n",
       "<path fill=\"none\" stroke=\"black\" d=\"M412.724,-121.645C642.07,-151.419 1106.43,-197.679 1496,-148 1552.97,-140.735 1615.67,-124.258 1663.11,-109.977\"/>\n",
       "<polygon fill=\"black\" stroke=\"black\" points=\"1670,-107.887 1664.21,-112.934 1666.65,-108.903 1663.3,-109.92 1663.3,-109.92 1663.3,-109.92 1666.65,-108.903 1662.38,-106.905 1670,-107.887 1670,-107.887\"/>\n",
       "<text text-anchor=\"start\" x=\"1106.5\" y=\"-172.8\" font-family=\"Lato\" font-size=\"14.00\">!a &amp; !b &amp; c</text>\n",
       "</g>\n",
       "<!-- 2 -->\n",
       "<g id=\"node5\" class=\"node\"><title>2</title>\n",
       "<ellipse fill=\"#ffffaa\" stroke=\"black\" cx=\"843\" cy=\"-25\" rx=\"243.49\" ry=\"25.4118\"/>\n",
       "<text text-anchor=\"start\" x=\"679\" y=\"-28.8\" font-family=\"Lato\" font-size=\"14.00\">(G(a|b)|GF(b|c)):: (a|b)=1; F(b|c)=1; {0=0, 1=1} +1 +2</text>\n",
       "<text text-anchor=\"start\" x=\"830\" y=\"-14.8\" font-family=\"Lato\" font-size=\"14.00\" fill=\"#ff4da0\">❶</text>\n",
       "<text text-anchor=\"start\" x=\"843\" y=\"-14.8\" font-family=\"Lato\" font-size=\"14.00\" fill=\"#6a3d9a\">❸</text>\n",
       "</g>\n",
       "<!-- 0&#45;&gt;2 -->\n",
       "<g id=\"edge4\" class=\"edge\"><title>0&#45;&gt;2</title>\n",
       "<path fill=\"none\" stroke=\"black\" d=\"M419.913,-81.0815C501.526,-70.2379 602.417,-56.8326 685.094,-45.8476\"/>\n",
       "<polygon fill=\"black\" stroke=\"black\" points=\"692.529,-44.8597 686.005,-48.9043 689.06,-45.3208 685.59,-45.7818 685.59,-45.7818 685.59,-45.7818 689.06,-45.3208 685.175,-42.6592 692.529,-44.8597 692.529,-44.8597\"/>\n",
       "<text text-anchor=\"start\" x=\"520\" y=\"-71.8\" font-family=\"Lato\" font-size=\"14.00\">b | (a &amp; c)</text>\n",
       "</g>\n",
       "<!-- 1&#45;&gt;1 -->\n",
       "<g id=\"edge6\" class=\"edge\"><title>1&#45;&gt;1</title>\n",
       "<path fill=\"none\" stroke=\"black\" d=\"M1308.51,-105.761C1306.94,-115.721 1318.77,-124 1344,-124 1362.93,-124 1374.31,-119.343 1378.16,-112.813\"/>\n",
       "<polygon fill=\"black\" stroke=\"black\" points=\"1379.49,-105.761 1381.28,-113.224 1378.84,-109.2 1378.19,-112.64 1378.19,-112.64 1378.19,-112.64 1378.84,-109.2 1375.09,-112.056 1379.49,-105.761 1379.49,-105.761\"/>\n",
       "<text text-anchor=\"start\" x=\"1323\" y=\"-127.8\" font-family=\"Lato\" font-size=\"14.00\">!b &amp; !c</text>\n",
       "</g>\n",
       "<!-- 1&#45;&gt;3 -->\n",
       "<g id=\"edge7\" class=\"edge\"><title>1&#45;&gt;3</title>\n",
       "<path fill=\"none\" stroke=\"black\" d=\"M1481.46,-68.5997C1492.46,-67.9558 1503.41,-67.4065 1514,-67 1542.64,-65.9001 1573.28,-66.8978 1602.44,-68.8844\"/>\n",
       "<polygon fill=\"black\" stroke=\"black\" points=\"1609.42,-69.3807 1602.22,-72.0264 1605.93,-69.1325 1602.44,-68.8843 1602.44,-68.8843 1602.44,-68.8843 1605.93,-69.1325 1602.66,-65.7422 1609.42,-69.3807 1609.42,-69.3807\"/>\n",
       "<text text-anchor=\"start\" x=\"1522\" y=\"-70.8\" font-family=\"Lato\" font-size=\"14.00\">b | c</text>\n",
       "</g>\n",
       "<!-- 3&#45;&gt;1 -->\n",
       "<g id=\"edge12\" class=\"edge\"><title>3&#45;&gt;1</title>\n",
       "<path fill=\"none\" stroke=\"black\" d=\"M1574.33,-82.9103C1550.69,-82.6103 1526.41,-82.3022 1502.91,-82.0039\"/>\n",
       "<polygon fill=\"black\" stroke=\"black\" points=\"1495.64,-81.9117 1502.68,-78.8509 1499.14,-81.9561 1502.64,-82.0006 1502.64,-82.0006 1502.64,-82.0006 1499.14,-81.9561 1502.6,-85.1504 1495.64,-81.9117 1495.64,-81.9117\"/>\n",
       "<text text-anchor=\"start\" x=\"1514\" y=\"-86.8\" font-family=\"Lato\" font-size=\"14.00\">!b &amp; !c</text>\n",
       "</g>\n",
       "<!-- 3&#45;&gt;3 -->\n",
       "<g id=\"edge13\" class=\"edge\"><title>3&#45;&gt;3</title>\n",
       "<path fill=\"none\" stroke=\"black\" d=\"M1701.98,-109.745C1699.84,-119.67 1712.51,-128 1740,-128 1760.62,-128 1772.9,-123.314 1776.85,-116.784\"/>\n",
       "<polygon fill=\"black\" stroke=\"black\" points=\"1778.02,-109.745 1779.98,-117.166 1777.44,-113.198 1776.87,-116.651 1776.87,-116.651 1776.87,-116.651 1777.44,-113.198 1773.76,-116.135 1778.02,-109.745 1778.02,-109.745\"/>\n",
       "<text text-anchor=\"start\" x=\"1727\" y=\"-131.8\" font-family=\"Lato\" font-size=\"14.00\">b | c</text>\n",
       "</g>\n",
       "<!-- 2&#45;&gt;0 -->\n",
       "<g id=\"edge11\" class=\"edge\"><title>2&#45;&gt;0</title>\n",
       "<path fill=\"none\" stroke=\"black\" d=\"M609.091,-31.9297C577.711,-34.386 546.008,-37.6565 516,-42 464.527,-49.4505 408.035,-62.633 362.182,-74.6502\"/>\n",
       "<polygon fill=\"black\" stroke=\"black\" points=\"355.207,-76.4907 361.171,-71.6589 358.591,-75.5977 361.975,-74.7047 361.975,-74.7047 361.975,-74.7047 358.591,-75.5977 362.779,-77.7504 355.207,-76.4907 355.207,-76.4907\"/>\n",
       "<text text-anchor=\"start\" x=\"516.5\" y=\"-45.8\" font-family=\"Lato\" font-size=\"14.00\">a &amp; !b &amp; !c</text>\n",
       "</g>\n",
       "<!-- 2&#45;&gt;1 -->\n",
       "<g id=\"edge8\" class=\"edge\"><title>2&#45;&gt;1</title>\n",
       "<path fill=\"none\" stroke=\"black\" d=\"M1010.51,-43.3524C1074.78,-50.4361 1147.34,-58.4338 1208.24,-65.1463\"/>\n",
       "<polygon fill=\"black\" stroke=\"black\" points=\"1215.22,-65.9165 1207.92,-68.2806 1211.75,-65.533 1208.27,-65.1495 1208.27,-65.1495 1208.27,-65.1495 1211.75,-65.533 1208.61,-62.0185 1215.22,-65.9165 1215.22,-65.9165\"/>\n",
       "<text text-anchor=\"start\" x=\"1104\" y=\"-64.8\" font-family=\"Lato\" font-size=\"14.00\">!a &amp; !b &amp; !c</text>\n",
       "</g>\n",
       "<!-- 2&#45;&gt;3 -->\n",
       "<g id=\"edge9\" class=\"edge\"><title>2&#45;&gt;3</title>\n",
       "<path fill=\"none\" stroke=\"black\" d=\"M1063.56,-14.3512C1190.36,-11.1927 1352.65,-12.2504 1496,-29 1549.58,-35.2606 1608.57,-48.6936 1655.01,-60.8337\"/>\n",
       "<polygon fill=\"black\" stroke=\"black\" points=\"1662.06,-62.692 1654.49,-63.9538 1658.68,-61.7999 1655.29,-60.9078 1655.29,-60.9078 1655.29,-60.9078 1658.68,-61.7999 1656.1,-57.8619 1662.06,-62.692 1662.06,-62.692\"/>\n",
       "<text text-anchor=\"start\" x=\"1311.5\" y=\"-32.8\" font-family=\"Lato\" font-size=\"14.00\">!a &amp; !b &amp; c</text>\n",
       "</g>\n",
       "<!-- 2&#45;&gt;2 -->\n",
       "<g id=\"edge10\" class=\"edge\"><title>2&#45;&gt;2</title>\n",
       "<path fill=\"none\" stroke=\"black\" d=\"M788.211,-49.7451C785.116,-59.6698 803.379,-68 843,-68 872.716,-68 890.418,-63.3143 896.105,-56.7844\"/>\n",
       "<polygon fill=\"black\" stroke=\"black\" points=\"897.789,-49.7451 899.224,-57.2858 896.975,-53.1492 896.161,-56.5532 896.161,-56.5532 896.161,-56.5532 896.975,-53.1492 893.097,-55.8207 897.789,-49.7451 897.789,-49.7451\"/>\n",
       "<text text-anchor=\"start\" x=\"814\" y=\"-71.8\" font-family=\"Lato\" font-size=\"14.00\">b | (a &amp; c)</text>\n",
       "</g>\n",
       "</g>\n",
       "</svg>\n"
      ],
      "text/plain": [
       "<spot.impl.twa_graph; proxy of <Swig Object of type 'std::shared_ptr< spot::twa_graph > *' at 0x7fd06c3c2210> >"
      ]
     },
     "execution_count": 83,
     "metadata": {},
     "output_type": "execute_result"
    }
   ],
   "source": [
    "rab.aut_for_id(38,'R3')"
   ]
  },
  {
   "cell_type": "code",
   "execution_count": 84,
   "metadata": {},
   "outputs": [
    {
     "data": {
      "image/svg+xml": [
       "<?xml version=\"1.0\" encoding=\"UTF-8\" standalone=\"no\"?>\n",
       "<!DOCTYPE svg PUBLIC \"-//W3C//DTD SVG 1.1//EN\"\n",
       " \"http://www.w3.org/Graphics/SVG/1.1/DTD/svg11.dtd\">\n",
       "<!-- Generated by graphviz version 2.36.0 (20140111.2315)\n",
       " -->\n",
       "<!-- Title: G Pages: 1 -->\n",
       "<svg width=\"618pt\" height=\"280pt\"\n",
       " viewBox=\"0.00 0.00 618.00 279.86\" xmlns=\"http://www.w3.org/2000/svg\" xmlns:xlink=\"http://www.w3.org/1999/xlink\">\n",
       "<g id=\"graph0\" class=\"graph\" transform=\"scale(1 1) rotate(0) translate(4 275.864)\">\n",
       "<title>G</title>\n",
       "<polygon fill=\"white\" stroke=\"none\" points=\"-4,4 -4,-275.864 614,-275.864 614,4 -4,4\"/>\n",
       "<text text-anchor=\"start\" x=\"192.5\" y=\"-257.664\" font-family=\"Lato\" font-size=\"14.00\">(Fin(</text>\n",
       "<text text-anchor=\"start\" x=\"222.5\" y=\"-257.664\" font-family=\"Lato\" font-size=\"14.00\" fill=\"#1f78b4\">⓿</text>\n",
       "<text text-anchor=\"start\" x=\"233.5\" y=\"-257.664\" font-family=\"Lato\" font-size=\"14.00\">) &amp; Inf(</text>\n",
       "<text text-anchor=\"start\" x=\"276.5\" y=\"-257.664\" font-family=\"Lato\" font-size=\"14.00\" fill=\"#ff4da0\">❶</text>\n",
       "<text text-anchor=\"start\" x=\"289.5\" y=\"-257.664\" font-family=\"Lato\" font-size=\"14.00\">)) | (Fin(</text>\n",
       "<text text-anchor=\"start\" x=\"338.5\" y=\"-257.664\" font-family=\"Lato\" font-size=\"14.00\" fill=\"#ff7f00\">❷</text>\n",
       "<text text-anchor=\"start\" x=\"351.5\" y=\"-257.664\" font-family=\"Lato\" font-size=\"14.00\">) &amp; Inf(</text>\n",
       "<text text-anchor=\"start\" x=\"394.5\" y=\"-257.664\" font-family=\"Lato\" font-size=\"14.00\" fill=\"#6a3d9a\">❸</text>\n",
       "<text text-anchor=\"start\" x=\"407.5\" y=\"-257.664\" font-family=\"Lato\" font-size=\"14.00\">))</text>\n",
       "<text text-anchor=\"start\" x=\"276\" y=\"-243.664\" font-family=\"Lato\" font-size=\"14.00\">[Rabin 2]</text>\n",
       "<!-- I -->\n",
       "<!-- 0 -->\n",
       "<g id=\"node2\" class=\"node\"><title>0</title>\n",
       "<ellipse fill=\"#ffffaa\" stroke=\"black\" cx=\"67\" cy=\"-48.864\" rx=\"26.7407\" ry=\"26.7407\"/>\n",
       "<text text-anchor=\"start\" x=\"62.5\" y=\"-52.664\" font-family=\"Lato\" font-size=\"14.00\">0</text>\n",
       "<text text-anchor=\"start\" x=\"60.5\" y=\"-37.664\" font-family=\"Lato\" font-size=\"14.00\" fill=\"#6a3d9a\">❸</text>\n",
       "</g>\n",
       "<!-- I&#45;&gt;0 -->\n",
       "<g id=\"edge1\" class=\"edge\"><title>I&#45;&gt;0</title>\n",
       "<path fill=\"none\" stroke=\"black\" d=\"M2.04639,-48.864C2.9702,-48.864 17.5453,-48.864 32.5471,-48.864\"/>\n",
       "<polygon fill=\"black\" stroke=\"black\" points=\"39.888,-48.864 32.888,-52.0141 36.388,-48.8641 32.888,-48.8641 32.888,-48.8641 32.888,-48.8641 36.388,-48.8641 32.8879,-45.7141 39.888,-48.864 39.888,-48.864\"/>\n",
       "</g>\n",
       "<!-- 0&#45;&gt;0 -->\n",
       "<g id=\"edge2\" class=\"edge\"><title>0&#45;&gt;0</title>\n",
       "<path fill=\"none\" stroke=\"black\" d=\"M58.4276,-74.1847C57.9433,-84.3401 60.8008,-92.864 67,-92.864 71.6494,-92.864 74.4191,-88.0693 75.309,-81.3876\"/>\n",
       "<polygon fill=\"black\" stroke=\"black\" points=\"75.5724,-74.1847 78.4644,-81.2951 75.4444,-77.6823 75.3165,-81.18 75.3165,-81.18 75.3165,-81.18 75.4444,-77.6823 72.1686,-81.0649 75.5724,-74.1847 75.5724,-74.1847\"/>\n",
       "<text text-anchor=\"start\" x=\"53.5\" y=\"-96.664\" font-family=\"Lato\" font-size=\"14.00\">a | b</text>\n",
       "</g>\n",
       "<!-- 1 -->\n",
       "<g id=\"node3\" class=\"node\"><title>1</title>\n",
       "<ellipse fill=\"#ffffaa\" stroke=\"black\" cx=\"201\" cy=\"-48.864\" rx=\"26.7407\" ry=\"26.7407\"/>\n",
       "<text text-anchor=\"start\" x=\"196.5\" y=\"-52.664\" font-family=\"Lato\" font-size=\"14.00\">1</text>\n",
       "<text text-anchor=\"start\" x=\"194.5\" y=\"-37.664\" font-family=\"Lato\" font-size=\"14.00\" fill=\"#6a3d9a\">❸</text>\n",
       "</g>\n",
       "<!-- 0&#45;&gt;1 -->\n",
       "<g id=\"edge3\" class=\"edge\"><title>0&#45;&gt;1</title>\n",
       "<path fill=\"none\" stroke=\"black\" d=\"M94.079,-48.864C114.96,-48.864 144.382,-48.864 166.919,-48.864\"/>\n",
       "<polygon fill=\"black\" stroke=\"black\" points=\"173.975,-48.864 166.975,-52.0141 170.475,-48.8641 166.975,-48.8641 166.975,-48.8641 166.975,-48.8641 170.475,-48.8641 166.975,-45.7141 173.975,-48.864 173.975,-48.864\"/>\n",
       "<text text-anchor=\"start\" x=\"112.5\" y=\"-52.664\" font-family=\"Lato\" font-size=\"14.00\">!a &amp; !b</text>\n",
       "</g>\n",
       "<!-- 1&#45;&gt;1 -->\n",
       "<g id=\"edge4\" class=\"edge\"><title>1&#45;&gt;1</title>\n",
       "<path fill=\"none\" stroke=\"black\" d=\"M188.818,-72.8513C187.658,-83.5828 191.719,-92.864 201,-92.864 208.106,-92.864 212.152,-87.4235 213.137,-80.0571\"/>\n",
       "<polygon fill=\"black\" stroke=\"black\" points=\"213.182,-72.8513 216.288,-79.8708 213.16,-76.3513 213.138,-79.8512 213.138,-79.8512 213.138,-79.8512 213.16,-76.3513 209.988,-79.8317 213.182,-72.8513 213.182,-72.8513\"/>\n",
       "<text text-anchor=\"start\" x=\"182.5\" y=\"-96.664\" font-family=\"Lato\" font-size=\"14.00\">!b &amp; c</text>\n",
       "</g>\n",
       "<!-- 2 -->\n",
       "<g id=\"node4\" class=\"node\"><title>2</title>\n",
       "<ellipse fill=\"#ffffaa\" stroke=\"black\" cx=\"325\" cy=\"-145.864\" rx=\"18\" ry=\"18\"/>\n",
       "<text text-anchor=\"middle\" x=\"325\" y=\"-142.164\" font-family=\"Lato\" font-size=\"14.00\">2</text>\n",
       "</g>\n",
       "<!-- 1&#45;&gt;2 -->\n",
       "<g id=\"edge5\" class=\"edge\"><title>1&#45;&gt;2</title>\n",
       "<path fill=\"none\" stroke=\"black\" d=\"M210.764,-73.5053C217.847,-90.0299 229.392,-111.039 246,-123.864 261.451,-135.796 283.067,-141.256 299.625,-143.755\"/>\n",
       "<polygon fill=\"black\" stroke=\"black\" points=\"306.837,-144.708 299.485,-146.914 303.367,-144.25 299.897,-143.791 299.897,-143.791 299.897,-143.791 303.367,-144.25 300.31,-140.668 306.837,-144.708 306.837,-144.708\"/>\n",
       "<text text-anchor=\"start\" x=\"246\" y=\"-145.664\" font-family=\"Lato\" font-size=\"14.00\">!b &amp; !c</text>\n",
       "</g>\n",
       "<!-- 3 -->\n",
       "<g id=\"node5\" class=\"node\"><title>3</title>\n",
       "<ellipse fill=\"#ffffaa\" stroke=\"black\" cx=\"583\" cy=\"-75.864\" rx=\"26.7407\" ry=\"26.7407\"/>\n",
       "<text text-anchor=\"start\" x=\"578.5\" y=\"-79.664\" font-family=\"Lato\" font-size=\"14.00\">3</text>\n",
       "<text text-anchor=\"start\" x=\"576.5\" y=\"-64.664\" font-family=\"Lato\" font-size=\"14.00\" fill=\"#ff4da0\">❶</text>\n",
       "</g>\n",
       "<!-- 1&#45;&gt;3 -->\n",
       "<g id=\"edge6\" class=\"edge\"><title>1&#45;&gt;3</title>\n",
       "<path fill=\"none\" stroke=\"black\" d=\"M226.909,-40.5178C233.087,-38.7225 239.733,-37.0196 246,-35.864 349.151,-16.8426 378.924,-17.4417 482,-36.864 507.211,-41.6145 514.183,-41.3282 538,-50.864 543.161,-52.9306 548.46,-55.5031 553.512,-58.2051\"/>\n",
       "<polygon fill=\"black\" stroke=\"black\" points=\"559.751,-61.6686 552.102,-61.025 556.691,-59.9698 553.63,-58.2709 553.63,-58.2709 553.63,-58.2709 556.691,-59.9698 555.159,-55.5169 559.751,-61.6686 559.751,-61.6686\"/>\n",
       "<text text-anchor=\"start\" x=\"364.5\" y=\"-28.664\" font-family=\"Lato\" font-size=\"14.00\">b &amp; !c</text>\n",
       "</g>\n",
       "<!-- 4 -->\n",
       "<g id=\"node6\" class=\"node\"><title>4</title>\n",
       "<ellipse fill=\"#ffffaa\" stroke=\"black\" cx=\"452\" cy=\"-75.864\" rx=\"29.8983\" ry=\"29.8983\"/>\n",
       "<text text-anchor=\"start\" x=\"447.5\" y=\"-79.664\" font-family=\"Lato\" font-size=\"14.00\">4</text>\n",
       "<text text-anchor=\"start\" x=\"439\" y=\"-65.664\" font-family=\"Lato\" font-size=\"14.00\" fill=\"#ff4da0\">❶</text>\n",
       "<text text-anchor=\"start\" x=\"452\" y=\"-65.664\" font-family=\"Lato\" font-size=\"14.00\" fill=\"#6a3d9a\">❸</text>\n",
       "</g>\n",
       "<!-- 1&#45;&gt;4 -->\n",
       "<g id=\"edge7\" class=\"edge\"><title>1&#45;&gt;4</title>\n",
       "<path fill=\"none\" stroke=\"black\" d=\"M228.177,-51.7025C272.924,-56.5546 364.198,-66.4518 414.942,-71.9542\"/>\n",
       "<polygon fill=\"black\" stroke=\"black\" points=\"422.125,-72.733 414.826,-75.1099 418.645,-72.3556 415.166,-71.9783 415.166,-71.9783 415.166,-71.9783 418.645,-72.3556 415.505,-68.8466 422.125,-72.733 422.125,-72.733\"/>\n",
       "<text text-anchor=\"start\" x=\"309.5\" y=\"-68.664\" font-family=\"Lato\" font-size=\"14.00\">b &amp; c</text>\n",
       "</g>\n",
       "<!-- 2&#45;&gt;1 -->\n",
       "<g id=\"edge8\" class=\"edge\"><title>2&#45;&gt;1</title>\n",
       "<path fill=\"none\" stroke=\"black\" d=\"M313.916,-131.563C307.305,-122.975 298.048,-112.307 288,-104.864 271.537,-92.6693 263.337,-96.7818 246,-85.864 239.405,-81.7105 232.738,-76.6479 226.659,-71.6175\"/>\n",
       "<polygon fill=\"black\" stroke=\"black\" points=\"221.259,-67.0337 228.634,-69.1623 223.927,-69.2987 226.595,-71.5637 226.595,-71.5637 226.595,-71.5637 223.927,-69.2987 224.557,-73.9652 221.259,-67.0337 221.259,-67.0337\"/>\n",
       "<text text-anchor=\"start\" x=\"248.5\" y=\"-108.664\" font-family=\"Lato\" font-size=\"14.00\">!b &amp; c</text>\n",
       "</g>\n",
       "<!-- 2&#45;&gt;2 -->\n",
       "<g id=\"edge9\" class=\"edge\"><title>2&#45;&gt;2</title>\n",
       "<path fill=\"none\" stroke=\"black\" d=\"M315.187,-161.031C312.213,-171.528 315.484,-181.864 325,-181.864 332.285,-181.864 335.91,-175.805 335.875,-168.254\"/>\n",
       "<polygon fill=\"black\" stroke=\"black\" points=\"334.813,-161.031 338.948,-167.498 335.322,-164.493 335.831,-167.956 335.831,-167.956 335.831,-167.956 335.322,-164.493 332.715,-168.414 334.813,-161.031 334.813,-161.031\"/>\n",
       "<text text-anchor=\"start\" x=\"304\" y=\"-185.664\" font-family=\"Lato\" font-size=\"14.00\">!b &amp; !c</text>\n",
       "</g>\n",
       "<!-- 2&#45;&gt;3 -->\n",
       "<g id=\"edge10\" class=\"edge\"><title>2&#45;&gt;3</title>\n",
       "<path fill=\"none\" stroke=\"black\" d=\"M334.483,-161.686C340.702,-171.589 350.119,-183.617 362,-189.864 431.234,-226.27 475.528,-236.938 538,-189.864 563.089,-170.959 573.875,-135.782 578.51,-109.483\"/>\n",
       "<polygon fill=\"black\" stroke=\"black\" points=\"579.662,-102.322 581.661,-109.733 579.106,-105.777 578.551,-109.233 578.551,-109.233 578.551,-109.233 579.106,-105.777 575.441,-108.733 579.662,-102.322 579.662,-102.322\"/>\n",
       "<text text-anchor=\"start\" x=\"433.5\" y=\"-224.664\" font-family=\"Lato\" font-size=\"14.00\">b &amp; !c</text>\n",
       "</g>\n",
       "<!-- 2&#45;&gt;4 -->\n",
       "<g id=\"edge11\" class=\"edge\"><title>2&#45;&gt;4</title>\n",
       "<path fill=\"none\" stroke=\"black\" d=\"M343.134,-143.647C359.65,-140.928 384.88,-135.206 404,-123.864 412.633,-118.743 420.773,-111.64 427.776,-104.467\"/>\n",
       "<polygon fill=\"black\" stroke=\"black\" points=\"432.899,-98.9995 430.412,-106.261 430.506,-101.554 428.113,-104.108 428.113,-104.108 428.113,-104.108 430.506,-101.554 425.814,-101.954 432.899,-98.9995 432.899,-98.9995\"/>\n",
       "<text text-anchor=\"start\" x=\"367.5\" y=\"-143.664\" font-family=\"Lato\" font-size=\"14.00\">b &amp; c</text>\n",
       "</g>\n",
       "<!-- 3&#45;&gt;1 -->\n",
       "<g id=\"edge12\" class=\"edge\"><title>3&#45;&gt;1</title>\n",
       "<path fill=\"none\" stroke=\"black\" d=\"M564.243,-56.5828C556.761,-49.4631 547.572,-41.9095 538,-36.864 483.741,-8.26352 464.898,-11.1742 404,-3.86404 333.665,4.57894 312.803,-1.29195 246,-24.864 240.807,-26.6963 235.493,-29.0892 230.435,-31.6536\"/>\n",
       "<polygon fill=\"black\" stroke=\"black\" points=\"224.194,-34.9644 228.901,-28.9014 227.286,-33.3243 230.378,-31.6842 230.378,-31.6842 230.378,-31.6842 227.286,-33.3243 231.854,-34.467 224.194,-34.9644 224.194,-34.9644\"/>\n",
       "<text text-anchor=\"start\" x=\"364.5\" y=\"-7.66404\" font-family=\"Lato\" font-size=\"14.00\">!b &amp; c</text>\n",
       "</g>\n",
       "<!-- 3&#45;&gt;2 -->\n",
       "<g id=\"edge13\" class=\"edge\"><title>3&#45;&gt;2</title>\n",
       "<path fill=\"none\" stroke=\"black\" d=\"M562.963,-93.5572C543.963,-110.145 513.178,-134.229 482,-146.864 432.325,-166.995 414.797,-168.105 362,-158.864 357.533,-158.082 352.889,-156.793 348.48,-155.323\"/>\n",
       "<polygon fill=\"black\" stroke=\"black\" points=\"341.804,-152.911 349.458,-152.327 345.095,-154.1 348.387,-155.29 348.387,-155.29 348.387,-155.29 345.095,-154.1 347.316,-158.252 341.804,-152.911 341.804,-152.911\"/>\n",
       "<text text-anchor=\"start\" x=\"431\" y=\"-168.664\" font-family=\"Lato\" font-size=\"14.00\">!b &amp; !c</text>\n",
       "</g>\n",
       "<!-- 3&#45;&gt;3 -->\n",
       "<g id=\"edge14\" class=\"edge\"><title>3&#45;&gt;3</title>\n",
       "<path fill=\"none\" stroke=\"black\" d=\"M571.188,-99.8513C570.062,-110.583 574,-119.864 583,-119.864 589.891,-119.864 593.814,-114.424 594.769,-107.057\"/>\n",
       "<polygon fill=\"black\" stroke=\"black\" points=\"594.812,-99.8513 597.92,-106.87 594.791,-103.351 594.77,-106.851 594.77,-106.851 594.77,-106.851 594.791,-103.351 591.62,-106.832 594.812,-99.8513 594.812,-99.8513\"/>\n",
       "<text text-anchor=\"start\" x=\"564.5\" y=\"-123.664\" font-family=\"Lato\" font-size=\"14.00\">b &amp; !c</text>\n",
       "</g>\n",
       "<!-- 3&#45;&gt;4 -->\n",
       "<g id=\"edge15\" class=\"edge\"><title>3&#45;&gt;4</title>\n",
       "<path fill=\"none\" stroke=\"black\" d=\"M555.777,-75.864C536.608,-75.864 510.372,-75.864 489.206,-75.864\"/>\n",
       "<polygon fill=\"black\" stroke=\"black\" points=\"481.95,-75.864 488.95,-72.7141 485.45,-75.8641 488.95,-75.8641 488.95,-75.8641 488.95,-75.8641 485.45,-75.8641 488.95,-79.0141 481.95,-75.864 481.95,-75.864\"/>\n",
       "<text text-anchor=\"start\" x=\"503.5\" y=\"-79.664\" font-family=\"Lato\" font-size=\"14.00\">b &amp; c</text>\n",
       "</g>\n",
       "<!-- 4&#45;&gt;1 -->\n",
       "<g id=\"edge16\" class=\"edge\"><title>4&#45;&gt;1</title>\n",
       "<path fill=\"none\" stroke=\"black\" d=\"M424.287,-64.8416C402.97,-56.6701 372.122,-46.2246 344,-41.864 306.786,-36.0937 263.493,-39.6877 234.584,-43.5337\"/>\n",
       "<polygon fill=\"black\" stroke=\"black\" points=\"227.557,-44.5114 234.056,-40.4267 231.024,-44.029 234.49,-43.5467 234.49,-43.5467 234.49,-43.5467 231.024,-44.029 234.924,-46.6666 227.557,-44.5114 227.557,-44.5114\"/>\n",
       "<text text-anchor=\"start\" x=\"306.5\" y=\"-45.664\" font-family=\"Lato\" font-size=\"14.00\">!b &amp; c</text>\n",
       "</g>\n",
       "<!-- 4&#45;&gt;2 -->\n",
       "<g id=\"edge17\" class=\"edge\"><title>4&#45;&gt;2</title>\n",
       "<path fill=\"none\" stroke=\"black\" d=\"M422.425,-81.0857C404.068,-85.3885 380.319,-92.7931 362,-104.864 353.843,-110.239 346.416,-117.937 340.454,-125.214\"/>\n",
       "<polygon fill=\"black\" stroke=\"black\" points=\"335.808,-131.167 337.631,-123.711 337.961,-128.408 340.115,-125.649 340.115,-125.649 340.115,-125.649 337.961,-128.408 342.598,-127.587 335.808,-131.167 335.808,-131.167\"/>\n",
       "<text text-anchor=\"start\" x=\"362\" y=\"-108.664\" font-family=\"Lato\" font-size=\"14.00\">!b &amp; !c</text>\n",
       "</g>\n",
       "<!-- 4&#45;&gt;3 -->\n",
       "<g id=\"edge18\" class=\"edge\"><title>4&#45;&gt;3</title>\n",
       "<path fill=\"none\" stroke=\"black\" d=\"M479.299,-63.1768C485.907,-60.5677 493.088,-58.2082 500,-56.864 516.578,-53.6399 521.461,-53.4456 538,-56.864 542.708,-57.8372 547.533,-59.339 552.181,-61.0812\"/>\n",
       "<polygon fill=\"black\" stroke=\"black\" points=\"558.831,-63.7722 551.161,-64.0664 555.587,-62.4593 552.342,-61.1464 552.342,-61.1464 552.342,-61.1464 555.587,-62.4593 553.524,-58.2264 558.831,-63.7722 558.831,-63.7722\"/>\n",
       "<text text-anchor=\"start\" x=\"500.5\" y=\"-60.664\" font-family=\"Lato\" font-size=\"14.00\">b &amp; !c</text>\n",
       "</g>\n",
       "<!-- 4&#45;&gt;4 -->\n",
       "<g id=\"edge19\" class=\"edge\"><title>4&#45;&gt;4</title>\n",
       "<path fill=\"none\" stroke=\"black\" d=\"M439.701,-102.911C439.006,-113.759 443.105,-122.864 452,-122.864 458.81,-122.864 462.809,-117.527 463.998,-110.156\"/>\n",
       "<polygon fill=\"black\" stroke=\"black\" points=\"464.299,-102.911 467.156,-110.036 464.154,-106.408 464.008,-109.905 464.008,-109.905 464.008,-109.905 464.154,-106.408 460.861,-109.774 464.299,-102.911 464.299,-102.911\"/>\n",
       "<text text-anchor=\"start\" x=\"436.5\" y=\"-126.664\" font-family=\"Lato\" font-size=\"14.00\">b &amp; c</text>\n",
       "</g>\n",
       "</g>\n",
       "</svg>\n"
      ],
      "text/plain": [
       "<spot.impl.twa_graph; proxy of <Swig Object of type 'std::shared_ptr< spot::twa_graph > *' at 0x7fd06c3c2ae0> >"
      ]
     },
     "execution_count": 84,
     "metadata": {},
     "output_type": "execute_result"
    }
   ],
   "source": [
    "rab.aut_for_id(38,'R4')"
   ]
  },
  {
   "cell_type": "markdown",
   "metadata": {},
   "source": [
    "# Generalized automata"
   ]
  },
  {
   "cell_type": "markdown",
   "metadata": {},
   "source": [
    "## Tools' settings"
   ]
  },
  {
   "cell_type": "code",
   "execution_count": 85,
   "metadata": {},
   "outputs": [],
   "source": [
    "### Tools' setting ###\n",
    "end = \" > %O\"\n",
    "tools = {\"R3\" : 'java -jar Rab3/rabinizer3.1.jar -silent -format=hoa -out=std %f > %O',\n",
    "         \"R4\" : 'Rab4/bin/ltl2dgra %f > %O',\n",
    "        }\n",
    "### Order in which we want to sort the translations\n",
    "rab_order = [\"R1\",\"R2\",\"R3\",\"R4\"]\n",
    "### File with measured statistics ###\n",
    "rab_gen_csv = 'rabinizers_gen.csv'"
   ]
  },
  {
   "cell_type": "code",
   "execution_count": 86,
   "metadata": {},
   "outputs": [],
   "source": [
    "rerun = True"
   ]
  },
  {
   "cell_type": "code",
   "execution_count": 87,
   "metadata": {},
   "outputs": [],
   "source": [
    "rab_gen = LtlcrossRunner(tools,res_filename=rab_gen_csv,\n",
    "                        formula_files=[fg_f],\n",
    "                        cols=[\"states\",\"transitions\",\"acc\",\"time\"])\n",
    "if rerun:\n",
    "    rab_gen.run_ltlcross(timeout='60')\n",
    "rab_gen.parse_results()"
   ]
  },
  {
   "cell_type": "code",
   "execution_count": 88,
   "metadata": {},
   "outputs": [
    {
     "data": {
      "text/plain": [
       "tool\n",
       "R3    249\n",
       "R4    175\n",
       "dtype: int64"
      ]
     },
     "execution_count": 88,
     "metadata": {},
     "output_type": "execute_result"
    }
   ],
   "source": [
    "rab_gen.cummulative()"
   ]
  },
  {
   "cell_type": "code",
   "execution_count": 89,
   "metadata": {},
   "outputs": [
    {
     "data": {
      "text/html": [
       "<div>\n",
       "<style scoped>\n",
       "    .dataframe tbody tr th:only-of-type {\n",
       "        vertical-align: middle;\n",
       "    }\n",
       "\n",
       "    .dataframe tbody tr th {\n",
       "        vertical-align: top;\n",
       "    }\n",
       "\n",
       "    .dataframe thead th {\n",
       "        text-align: right;\n",
       "    }\n",
       "</style>\n",
       "<table border=\"1\" class=\"dataframe\">\n",
       "  <thead>\n",
       "    <tr style=\"text-align: right;\">\n",
       "      <th></th>\n",
       "      <th>tool</th>\n",
       "      <th>R3</th>\n",
       "      <th>R4</th>\n",
       "    </tr>\n",
       "    <tr>\n",
       "      <th>form_id</th>\n",
       "      <th>formula</th>\n",
       "      <th></th>\n",
       "      <th></th>\n",
       "    </tr>\n",
       "  </thead>\n",
       "  <tbody>\n",
       "  </tbody>\n",
       "</table>\n",
       "</div>"
      ],
      "text/plain": [
       "Empty DataFrame\n",
       "Columns: [R3, R4]\n",
       "Index: []"
      ]
     },
     "execution_count": 89,
     "metadata": {},
     "output_type": "execute_result"
    }
   ],
   "source": [
    "rab_gen.smaller_than('R3','R4')"
   ]
  },
  {
   "cell_type": "code",
   "execution_count": 90,
   "metadata": {},
   "outputs": [
    {
     "data": {
      "text/plain": [
       "44"
      ]
     },
     "execution_count": 90,
     "metadata": {},
     "output_type": "execute_result"
    }
   ],
   "source": [
    "len(rab_gen.smaller_than('R4','R3'))"
   ]
  }
 ],
 "metadata": {
  "kernelspec": {
   "display_name": "Python 3",
   "language": "python",
   "name": "python3"
  },
  "language_info": {
   "codemirror_mode": {
    "name": "ipython",
    "version": 3
   },
   "file_extension": ".py",
   "mimetype": "text/x-python",
   "name": "python",
   "nbconvert_exporter": "python",
   "pygments_lexer": "ipython3",
   "version": "3.5.2"
  }
 },
 "nbformat": 4,
 "nbformat_minor": 2
}
