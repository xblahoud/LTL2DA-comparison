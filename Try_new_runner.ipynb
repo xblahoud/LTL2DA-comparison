{
 "cells": [
  {
   "cell_type": "code",
   "execution_count": 1,
   "metadata": {},
   "outputs": [],
   "source": [
    "from ltlcross_runner import LtlcrossRunner\n",
    "import spot\n",
    "spot.setup()"
   ]
  },
  {
   "cell_type": "code",
   "execution_count": 2,
   "metadata": {},
   "outputs": [],
   "source": [
    "forms = 'formulae/try.ltl'\n",
    "with open(forms,'w') as f:\n",
    "    f.write('\\n'.join(['FGa','G(Fb & a)']))"
   ]
  },
  {
   "cell_type": "code",
   "execution_count": 3,
   "metadata": {},
   "outputs": [],
   "source": [
    "### Tools' setting ###\n",
    "end = \" > %O\"\n",
    "tools = {#\"R1\" : 'java -jar Rab1/Rabinizer.jar -ltl2dstar %F a; mv a.dst %O',\n",
    "         #\"R2\" : 'java -jar Rab2/rabinizer.jar -ltl2dstar %F > %O',\n",
    "         \"R3\" : 'java -jar Rab3/rabinizer3.1.jar -silent -format=hoa -auto=sr -out=std %f > %O',\n",
    "         \"R4\" : 'Rab4/bin/ltl2dra %f | autfilt -S > %O',\n",
    "        }\n",
    "### Order in which we want to sort the translations\n",
    "rab_order = [\"R1\",\"R2\",\"R3\",\"R4\"]\n",
    "### File with measured statistics ###\n",
    "rab_csv = 'rabinizers.csv'"
   ]
  },
  {
   "cell_type": "code",
   "execution_count": 4,
   "metadata": {},
   "outputs": [],
   "source": [
    "rerun = True"
   ]
  },
  {
   "cell_type": "code",
   "execution_count": 5,
   "metadata": {},
   "outputs": [],
   "source": [
    "rab = LtlcrossRunner(tools,res_filename=rab_csv,\n",
    "                        formula_files=[forms],\n",
    "                        cols=[\"states\",\"transitions\",\"acc\",\"time\"])\n",
    "if rerun:\n",
    "    rab.run_ltlcross(timeout='60')\n",
    "rab.parse_results()"
   ]
  },
  {
   "cell_type": "code",
   "execution_count": 6,
   "metadata": {},
   "outputs": [
    {
     "name": "stdout",
     "output_type": "stream",
     "text": [
      "No problem detected.\r\n",
      "0\r\n"
     ]
    }
   ],
   "source": [
    "cat rabinizers.log | tail -n2"
   ]
  }
 ],
 "metadata": {
  "kernelspec": {
   "display_name": "Python 3",
   "language": "python",
   "name": "python3"
  },
  "language_info": {
   "codemirror_mode": {
    "name": "ipython",
    "version": 3
   },
   "file_extension": ".py",
   "mimetype": "text/x-python",
   "name": "python",
   "nbconvert_exporter": "python",
   "pygments_lexer": "ipython3",
   "version": "3.4.3"
  }
 },
 "nbformat": 4,
 "nbformat_minor": 2
}
