{
 "cells": [
  {
   "cell_type": "markdown",
   "metadata": {},
   "source": [
    "# Ltlcross_runner tool settings"
   ]
  },
  {
   "cell_type": "code",
   "execution_count": 1,
   "metadata": {},
   "outputs": [],
   "source": [
    "rab4 = 'Rab4/bin/'\n",
    "dev_spot = '/home/xblahoud/spot_dev/bin/'"
   ]
  },
  {
   "cell_type": "code",
   "execution_count": 2,
   "metadata": {},
   "outputs": [],
   "source": [
    "def ltl_to_ba(tgba=False):\n",
    "    spot_n = 'Spot'\n",
    "    spot_o = '' if tgba else ' -B'\n",
    "    ltl3ba_n = 'LTL3BA'\n",
    "    ltl3ba_o = ' -H2' if tgba else ' -H3' \n",
    "    tgba_suff = '_gen' if tgba else ''\n",
    "    tools = {\n",
    "        '{}{}'.format(spot_n,tgba_suff) :  \\\n",
    "            'ltl2tgba{} -f %f'.format(spot_o),\n",
    "        '{}{}'.format(ltl3ba_n,tgba_suff) :  \\\n",
    "            'ltl3ba -M0{} -f %s'.format(ltl3ba_o),\n",
    "        '{}d{}'.format(ltl3ba_n,tgba_suff) :  \\\n",
    "            'ltl3ba -M1{} -f %s'.format(ltl3ba_o),\n",
    "    }\n",
    "    if tgba:\n",
    "        tools['LTL3TELA'] = 'ltl3tela -f %f'\n",
    "    return tools"
   ]
  },
  {
   "cell_type": "code",
   "execution_count": 3,
   "metadata": {},
   "outputs": [
    {
     "data": {
      "text/plain": [
       "{'LTL3BA_gen': 'ltl3ba -M0 -H2 -f %s',\n",
       " 'LTL3BAd_gen': 'ltl3ba -M1 -H2 -f %s',\n",
       " 'LTL3TELA': 'ltl3tela -f %f',\n",
       " 'Spot_gen': 'ltl2tgba -f %f'}"
      ]
     },
     "execution_count": 3,
     "metadata": {},
     "output_type": "execute_result"
    }
   ],
   "source": [
    "ltl_to_ba(True)"
   ]
  },
  {
   "cell_type": "code",
   "execution_count": 4,
   "metadata": {},
   "outputs": [
    {
     "data": {
      "text/plain": [
       "{'LTL3BA': 'ltl3ba -M0 -H3 -f %s',\n",
       " 'LTL3BAd': 'ltl3ba -M1 -H3 -f %s',\n",
       " 'Spot': 'ltl2tgba -B -f %f'}"
      ]
     },
     "execution_count": 4,
     "metadata": {},
     "output_type": "execute_result"
    }
   ],
   "source": [
    "ltl_to_ba()"
   ]
  },
  {
   "cell_type": "code",
   "execution_count": 5,
   "metadata": {},
   "outputs": [],
   "source": [
    "def det_pair(det_tool, ltl_to_ba, dstar=False):\n",
    "    '''produces a dictionary that combines tool for\n",
    "    determinization with tools for LTL->BA translation\n",
    "    \n",
    "    Parameters\n",
    "    ----------\n",
    "    `det_tool`  : a pair of `name` and `command`\n",
    "    `ltl_to_ba` : a `dict` of name->command\n",
    "    `dstar`     : `Bool` that indicates whether to use ltl2dstar interface\n",
    "    '''\n",
    "    if not dstar:\n",
    "        tools = {\n",
    "            '{}+{}'.format(det_tool[0],name) :\n",
    "                '{} | {} > %O'.format(cmd,det_tool[1]) for\n",
    "                    name, cmd in ltl_to_ba.items()\n",
    "        }\n",
    "    else:\n",
    "        tools = {\n",
    "            '{}+{}'.format(det_tool[0],name) :\n",
    "                '{} -t \"{} > %%H\" %L %O'.format(det_tool[1],cmd.replace('%s','%%s').replace('%f','%%s')) for\n",
    "                    name, cmd in ltl_to_ba.items()\n",
    "    }\n",
    "    return tools"
   ]
  },
  {
   "cell_type": "code",
   "execution_count": 6,
   "metadata": {},
   "outputs": [],
   "source": [
    "# name, command, generalized, dstar_interface\n",
    "determinization_tools = [\n",
    "    ('Spot','autfilt -DG',False, False),\n",
    "    ('SpotG','autfilt -DG',True, False),\n",
    "    ('devSpot',dev_spot+'autfilt -DG',False, False),\n",
    "    ('devSpotG',dev_spot+'autfilt -DG',True, False),\n",
    "    ('ltl2dstar','ltl2dstar -H',False, True),\n",
    "    ('ltl2dstarNBA','ltl2dstar -B -H - -',False, False)\n",
    "]\n",
    "full_tools = {}\n",
    "for tool in determinization_tools:\n",
    "    full_tools.update(det_pair((tool[0],tool[1]),ltl_to_ba(tool[2]),tool[3]))"
   ]
  },
  {
   "cell_type": "code",
   "execution_count": 7,
   "metadata": {},
   "outputs": [
    {
     "data": {
      "text/plain": [
       "{'Spot+LTL3BA': 'ltl3ba -M0 -H3 -f %s | autfilt -DG > %O',\n",
       " 'Spot+LTL3BAd': 'ltl3ba -M1 -H3 -f %s | autfilt -DG > %O',\n",
       " 'Spot+Spot': 'ltl2tgba -B -f %f | autfilt -DG > %O',\n",
       " 'SpotG+LTL3BA_gen': 'ltl3ba -M0 -H2 -f %s | autfilt -DG > %O',\n",
       " 'SpotG+LTL3BAd_gen': 'ltl3ba -M1 -H2 -f %s | autfilt -DG > %O',\n",
       " 'SpotG+LTL3TELA': 'ltl3tela -f %f | autfilt -DG > %O',\n",
       " 'SpotG+Spot_gen': 'ltl2tgba -f %f | autfilt -DG > %O',\n",
       " 'devSpot+LTL3BA': 'ltl3ba -M0 -H3 -f %s | /home/xblahoud/spot_dev/bin/autfilt -DG > %O',\n",
       " 'devSpot+LTL3BAd': 'ltl3ba -M1 -H3 -f %s | /home/xblahoud/spot_dev/bin/autfilt -DG > %O',\n",
       " 'devSpot+Spot': 'ltl2tgba -B -f %f | /home/xblahoud/spot_dev/bin/autfilt -DG > %O',\n",
       " 'devSpotG+LTL3BA_gen': 'ltl3ba -M0 -H2 -f %s | /home/xblahoud/spot_dev/bin/autfilt -DG > %O',\n",
       " 'devSpotG+LTL3BAd_gen': 'ltl3ba -M1 -H2 -f %s | /home/xblahoud/spot_dev/bin/autfilt -DG > %O',\n",
       " 'devSpotG+LTL3TELA': 'ltl3tela -f %f | /home/xblahoud/spot_dev/bin/autfilt -DG > %O',\n",
       " 'devSpotG+Spot_gen': 'ltl2tgba -f %f | /home/xblahoud/spot_dev/bin/autfilt -DG > %O',\n",
       " 'ltl2dstar+LTL3BA': 'ltl2dstar -H -t \"ltl3ba -M0 -H3 -f %%s > %%H\" %L %O',\n",
       " 'ltl2dstar+LTL3BAd': 'ltl2dstar -H -t \"ltl3ba -M1 -H3 -f %%s > %%H\" %L %O',\n",
       " 'ltl2dstar+Spot': 'ltl2dstar -H -t \"ltl2tgba -B -f %%s > %%H\" %L %O',\n",
       " 'ltl2dstarNBA+LTL3BA': 'ltl3ba -M0 -H3 -f %s | ltl2dstar -B -H - - > %O',\n",
       " 'ltl2dstarNBA+LTL3BAd': 'ltl3ba -M1 -H3 -f %s | ltl2dstar -B -H - - > %O',\n",
       " 'ltl2dstarNBA+Spot': 'ltl2tgba -B -f %f | ltl2dstar -B -H - - > %O'}"
      ]
     },
     "execution_count": 7,
     "metadata": {},
     "output_type": "execute_result"
    }
   ],
   "source": [
    "full_tools"
   ]
  },
  {
   "cell_type": "code",
   "execution_count": 8,
   "metadata": {},
   "outputs": [],
   "source": [
    "sacc = ' | autfilt -S > %O'\n",
    "rabinizers = {\n",
    "    \"R3\"      : 'java -jar Rab3/rabinizer3.1.jar -silent -format=hoa -out=std %[RWM]f > %O',\n",
    "    \"R3_dsra\" : 'java -jar Rab3/rabinizer3.1.jar -silent -format=hoa -out=std -auto=sr %[RWM]f > %O',\n",
    "    \"R4\"      : rab4 + 'ltl2dgra %f > %O',\n",
    "    \"R4_dsra\" : rab4 + 'ltl2dra %f' + sacc\n",
    "}\n",
    "ltl3dra = {\n",
    "    \"LTL3DRA\" : 'ltl3dra -f %s > %O',\n",
    "    \"LTL3DRA_dsra\" : 'ltl3dra -H3 -f %s > %O'\n",
    "}\n",
    "ltl2tgba = {\n",
    "    \"ltl2tgba\"      : 'ltl2tgba -DG -f %f > %O',\n",
    "    #\"ltl2tgba_dspa\" : 'ltl2tgba -DGS -f %f > %O',\n",
    "    \"devltl2tgba\"      : dev_spot+'ltl2tgba -DG -f %f > %O',\n",
    "    #\"devltl2tgba_dspa\" : dev_spot+'ltl2tgba -DGS -f %f > %O',\n",
    "}\n",
    "parity = {\n",
    "    \"ltl2dpa(ldba)\"      : rab4 + 'ltl2dpa --mode=ldba %f > %O',\n",
    "    #\"ltl2dpa(ldba)_dspa\" : rab4 + 'ltl2dpa --mode=ldba %f' + sacc,\n",
    "    \"ltl2dpa(Rab)\"       : rab4 + 'ltl2dpa --mode=rabinizer %f > %O',\n",
    "    #\"ltl2dpa(Rab)_dspa\"  : rab4 + 'ltl2dpa --mode=rabinizer %f' + sacc,\n",
    "}"
   ]
  },
  {
   "cell_type": "code",
   "execution_count": 9,
   "metadata": {},
   "outputs": [],
   "source": [
    "full_tools.update(rabinizers)\n",
    "full_tools.update(ltl2tgba)\n",
    "full_tools.update(parity)"
   ]
  },
  {
   "cell_type": "code",
   "execution_count": 10,
   "metadata": {},
   "outputs": [],
   "source": [
    "ltl3dra_tools = full_tools.copy()"
   ]
  },
  {
   "cell_type": "code",
   "execution_count": 11,
   "metadata": {},
   "outputs": [],
   "source": [
    "ltl3dra_tools.update(ltl3dra)"
   ]
  },
  {
   "cell_type": "raw",
   "metadata": {},
   "source": [
    "from ltlcross_runner import LtlcrossRunner"
   ]
  },
  {
   "cell_type": "raw",
   "metadata": {},
   "source": [
    "forms = 'formulae/fg.ltl'\n",
    "r = LtlcrossRunner(det_tools,res_filename='try.csv',\n",
    "                        formula_files=[forms],\n",
    "                        cols=[\"states\",\"transitions\",\"acc\",\"time\",\"nondet_states\"])\n",
    "r.run_ltlcross(timeout='60',check=True)\n",
    "r.parse_results()\n",
    "r.returncode"
   ]
  },
  {
   "cell_type": "code",
   "execution_count": 12,
   "metadata": {},
   "outputs": [
    {
     "data": {
      "text/plain": [
       "{'LTL3DRA': 'ltl3dra -f %s > %O',\n",
       " 'LTL3DRA_dsra': 'ltl3dra -H3 -f %s > %O',\n",
       " 'R3': 'java -jar Rab3/rabinizer3.1.jar -silent -format=hoa -out=std %f > %O',\n",
       " 'R3_dsra': 'java -jar Rab3/rabinizer3.1.jar -silent -format=hoa -out=std -auto=sr %f > %O',\n",
       " 'R4': 'Rab4/bin/ltl2dgra %f > %O',\n",
       " 'R4_dsra': 'Rab4/bin/ltl2dra %f | autfilt -S > %O',\n",
       " 'Spot+LTL3BA': 'ltl3ba -M0 -H3 -f %s | autfilt -DG > %O',\n",
       " 'Spot+LTL3BAd': 'ltl3ba -M1 -H3 -f %s | autfilt -DG > %O',\n",
       " 'Spot+Spot': 'ltl2tgba -B -f %f | autfilt -DG > %O',\n",
       " 'SpotG+LTL3BA_gen': 'ltl3ba -M0 -H2 -f %s | autfilt -DG > %O',\n",
       " 'SpotG+LTL3BAd_gen': 'ltl3ba -M1 -H2 -f %s | autfilt -DG > %O',\n",
       " 'SpotG+LTL3TELA': 'ltl3tela -f %f | autfilt -DG > %O',\n",
       " 'SpotG+Spot_gen': 'ltl2tgba -f %f | autfilt -DG > %O',\n",
       " 'devSpot+LTL3BA': 'ltl3ba -M0 -H3 -f %s | /home/xblahoud/spot_dev/bin/autfilt -DG > %O',\n",
       " 'devSpot+LTL3BAd': 'ltl3ba -M1 -H3 -f %s | /home/xblahoud/spot_dev/bin/autfilt -DG > %O',\n",
       " 'devSpot+Spot': 'ltl2tgba -B -f %f | /home/xblahoud/spot_dev/bin/autfilt -DG > %O',\n",
       " 'devSpotG+LTL3BA_gen': 'ltl3ba -M0 -H2 -f %s | /home/xblahoud/spot_dev/bin/autfilt -DG > %O',\n",
       " 'devSpotG+LTL3BAd_gen': 'ltl3ba -M1 -H2 -f %s | /home/xblahoud/spot_dev/bin/autfilt -DG > %O',\n",
       " 'devSpotG+LTL3TELA': 'ltl3tela -f %f | /home/xblahoud/spot_dev/bin/autfilt -DG > %O',\n",
       " 'devSpotG+Spot_gen': 'ltl2tgba -f %f | /home/xblahoud/spot_dev/bin/autfilt -DG > %O',\n",
       " 'devltl2tgba': '/home/xblahoud/spot_dev/bin/ltl2tgba -DG -f %f > %O',\n",
       " 'ltl2dpa(Rab)': 'Rab4/bin/ltl2dpa --mode=rabinizer %f > %O',\n",
       " 'ltl2dpa(ldba)': 'Rab4/bin/ltl2dpa --mode=ldba %f > %O',\n",
       " 'ltl2dstar+LTL3BA': 'ltl2dstar -H -t \"ltl3ba -M0 -H3 -f %%s > %%H\" %L %O',\n",
       " 'ltl2dstar+LTL3BAd': 'ltl2dstar -H -t \"ltl3ba -M1 -H3 -f %%s > %%H\" %L %O',\n",
       " 'ltl2dstar+Spot': 'ltl2dstar -H -t \"ltl2tgba -B -f %%s > %%H\" %L %O',\n",
       " 'ltl2dstarNBA+LTL3BA': 'ltl3ba -M0 -H3 -f %s | ltl2dstar -B -H - - > %O',\n",
       " 'ltl2dstarNBA+LTL3BAd': 'ltl3ba -M1 -H3 -f %s | ltl2dstar -B -H - - > %O',\n",
       " 'ltl2dstarNBA+Spot': 'ltl2tgba -B -f %f | ltl2dstar -B -H - - > %O',\n",
       " 'ltl2tgba': 'ltl2tgba -DG -f %f > %O'}"
      ]
     },
     "execution_count": 12,
     "metadata": {},
     "output_type": "execute_result"
    }
   ],
   "source": [
    "ltl3dra_tools"
   ]
  },
  {
   "cell_type": "code",
   "execution_count": 13,
   "metadata": {},
   "outputs": [
    {
     "data": {
      "text/plain": [
       "{'R3': 'java -jar Rab3/rabinizer3.1.jar -silent -format=hoa -out=std %f > %O',\n",
       " 'R3_dsra': 'java -jar Rab3/rabinizer3.1.jar -silent -format=hoa -out=std -auto=sr %f > %O',\n",
       " 'R4': 'Rab4/bin/ltl2dgra %f > %O',\n",
       " 'R4_dsra': 'Rab4/bin/ltl2dra %f | autfilt -S > %O',\n",
       " 'Spot+LTL3BA': 'ltl3ba -M0 -H3 -f %s | autfilt -DG > %O',\n",
       " 'Spot+LTL3BAd': 'ltl3ba -M1 -H3 -f %s | autfilt -DG > %O',\n",
       " 'Spot+Spot': 'ltl2tgba -B -f %f | autfilt -DG > %O',\n",
       " 'SpotG+LTL3BA_gen': 'ltl3ba -M0 -H2 -f %s | autfilt -DG > %O',\n",
       " 'SpotG+LTL3BAd_gen': 'ltl3ba -M1 -H2 -f %s | autfilt -DG > %O',\n",
       " 'SpotG+LTL3TELA': 'ltl3tela -f %f | autfilt -DG > %O',\n",
       " 'SpotG+Spot_gen': 'ltl2tgba -f %f | autfilt -DG > %O',\n",
       " 'devSpot+LTL3BA': 'ltl3ba -M0 -H3 -f %s | /home/xblahoud/spot_dev/bin/autfilt -DG > %O',\n",
       " 'devSpot+LTL3BAd': 'ltl3ba -M1 -H3 -f %s | /home/xblahoud/spot_dev/bin/autfilt -DG > %O',\n",
       " 'devSpot+Spot': 'ltl2tgba -B -f %f | /home/xblahoud/spot_dev/bin/autfilt -DG > %O',\n",
       " 'devSpotG+LTL3BA_gen': 'ltl3ba -M0 -H2 -f %s | /home/xblahoud/spot_dev/bin/autfilt -DG > %O',\n",
       " 'devSpotG+LTL3BAd_gen': 'ltl3ba -M1 -H2 -f %s | /home/xblahoud/spot_dev/bin/autfilt -DG > %O',\n",
       " 'devSpotG+LTL3TELA': 'ltl3tela -f %f | /home/xblahoud/spot_dev/bin/autfilt -DG > %O',\n",
       " 'devSpotG+Spot_gen': 'ltl2tgba -f %f | /home/xblahoud/spot_dev/bin/autfilt -DG > %O',\n",
       " 'devltl2tgba': '/home/xblahoud/spot_dev/bin/ltl2tgba -DG -f %f > %O',\n",
       " 'ltl2dpa(Rab)': 'Rab4/bin/ltl2dpa --mode=rabinizer %f > %O',\n",
       " 'ltl2dpa(ldba)': 'Rab4/bin/ltl2dpa --mode=ldba %f > %O',\n",
       " 'ltl2dstar+LTL3BA': 'ltl2dstar -H -t \"ltl3ba -M0 -H3 -f %%s > %%H\" %L %O',\n",
       " 'ltl2dstar+LTL3BAd': 'ltl2dstar -H -t \"ltl3ba -M1 -H3 -f %%s > %%H\" %L %O',\n",
       " 'ltl2dstar+Spot': 'ltl2dstar -H -t \"ltl2tgba -B -f %%s > %%H\" %L %O',\n",
       " 'ltl2dstarNBA+LTL3BA': 'ltl3ba -M0 -H3 -f %s | ltl2dstar -B -H - - > %O',\n",
       " 'ltl2dstarNBA+LTL3BAd': 'ltl3ba -M1 -H3 -f %s | ltl2dstar -B -H - - > %O',\n",
       " 'ltl2dstarNBA+Spot': 'ltl2tgba -B -f %f | ltl2dstar -B -H - - > %O',\n",
       " 'ltl2tgba': 'ltl2tgba -DG -f %f > %O'}"
      ]
     },
     "execution_count": 13,
     "metadata": {},
     "output_type": "execute_result"
    }
   ],
   "source": [
    "full_tools"
   ]
  }
 ],
 "metadata": {
  "kernelspec": {
   "display_name": "Python 3",
   "language": "python",
   "name": "python3"
  },
  "language_info": {
   "codemirror_mode": {
    "name": "ipython",
    "version": 3
   },
   "file_extension": ".py",
   "mimetype": "text/x-python",
   "name": "python",
   "nbconvert_exporter": "python",
   "pygments_lexer": "ipython3",
   "version": "3.5.2"
  }
 },
 "nbformat": 4,
 "nbformat_minor": 2
}
