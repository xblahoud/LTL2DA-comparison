{
 "cells": [
  {
   "cell_type": "markdown",
   "metadata": {},
   "source": [
    "# Ltlcross_runner tool settings"
   ]
  },
  {
   "cell_type": "code",
   "execution_count": 1,
   "metadata": {},
   "outputs": [],
   "source": [
    "def ltl_to_ba(tgba=False):\n",
    "    spot_n = 'Spot'\n",
    "    spot_o = '' if tgba else ' -B'\n",
    "    ltl3ba_n = 'LTL3BA'\n",
    "    ltl3ba_o = ' -H2' if tgba else ' -H3' \n",
    "    ba_suff = '.TGBA' if tgba else '.NBA'\n",
    "    tools = {\n",
    "        '{}{}'.format(spot_n,ba_suff) :  \\\n",
    "            'ltl2tgba{} -f %f'.format(spot_o),\n",
    "        '{}{}'.format(ltl3ba_n,ba_suff) :  \\\n",
    "            'ltl3ba -M0{} -f %s'.format(ltl3ba_o),\n",
    "        '{}d{}'.format(ltl3ba_n,ba_suff) :  \\\n",
    "            'ltl3ba -M1{} -f %s'.format(ltl3ba_o),\n",
    "    }\n",
    "    if tgba:\n",
    "        tools['LTL3TELA'] = 'ltl3tela -f %f'\n",
    "    return tools"
   ]
  },
  {
   "cell_type": "code",
   "execution_count": 2,
   "metadata": {},
   "outputs": [
    {
     "data": {
      "text/plain": [
       "{'LTL3BA.TGBA': 'ltl3ba -M0 -H2 -f %s',\n",
       " 'LTL3BAd.TGBA': 'ltl3ba -M1 -H2 -f %s',\n",
       " 'LTL3TELA': 'ltl3tela -f %f',\n",
       " 'Spot.TGBA': 'ltl2tgba -f %f'}"
      ]
     },
     "execution_count": 2,
     "metadata": {},
     "output_type": "execute_result"
    }
   ],
   "source": [
    "ltl_to_ba(True)"
   ]
  },
  {
   "cell_type": "code",
   "execution_count": 3,
   "metadata": {},
   "outputs": [
    {
     "data": {
      "text/plain": [
       "{'LTL3BA.NBA': 'ltl3ba -M0 -H3 -f %s',\n",
       " 'LTL3BAd.NBA': 'ltl3ba -M1 -H3 -f %s',\n",
       " 'Spot.NBA': 'ltl2tgba -B -f %f'}"
      ]
     },
     "execution_count": 3,
     "metadata": {},
     "output_type": "execute_result"
    }
   ],
   "source": [
    "ltl_to_ba()"
   ]
  },
  {
   "cell_type": "code",
   "execution_count": 4,
   "metadata": {},
   "outputs": [],
   "source": [
    "def det_pair(det_tool, ltl_to_ba, dstar=False):\n",
    "    '''produces a dictionary that combines tool for\n",
    "    determinization with tools for LTL->BA translation\n",
    "    \n",
    "    Parameters\n",
    "    ----------\n",
    "    `det_tool`  : a pair of `name` and `command`\n",
    "    `ltl_to_ba` : a `dict` of name->command\n",
    "    `dstar`     : `Bool` that indicates whether to use ltl2dstar interface\n",
    "    '''\n",
    "    if not dstar:\n",
    "        tools = {\n",
    "            '{}+{}'.format(det_tool[0],name) :\n",
    "                '{} | {} > %O'.format(cmd,det_tool[1]) for\n",
    "                    name, cmd in ltl_to_ba.items()\n",
    "        }\n",
    "    else:\n",
    "        tools = {\n",
    "            '{}+{}'.format(det_tool[0],name) :\n",
    "                '{} -t \"{} > %%H\" %L %O'.format(det_tool[1],cmd.replace('%s','%%s').replace('%f','%%s')) for\n",
    "                    name, cmd in ltl_to_ba.items()\n",
    "    }\n",
    "    return tools"
   ]
  },
  {
   "cell_type": "code",
   "execution_count": 5,
   "metadata": {},
   "outputs": [],
   "source": [
    "# name, command, generalized, dstar_interface\n",
    "determinization_tools = [\n",
    "    ('Spot','autfilt -DG',False, False),\n",
    "    ('Spot','autfilt -DG',True, False),\n",
    "    ('ltl2dstar','ltl2dstar -H',False, True),\n",
    "    ('ltl2dstar(NBA)','ltl2dstar -B -H - -',False, False)\n",
    "]\n",
    "full_tools = {}\n",
    "for tool in determinization_tools:\n",
    "    full_tools.update(det_pair((tool[0],tool[1]),ltl_to_ba(tool[2]),tool[3]))"
   ]
  },
  {
   "cell_type": "code",
   "execution_count": 6,
   "metadata": {},
   "outputs": [
    {
     "data": {
      "text/plain": [
       "{'Spot+LTL3BA.NBA': 'ltl3ba -M0 -H3 -f %s | autfilt -DG > %O',\n",
       " 'Spot+LTL3BA.TGBA': 'ltl3ba -M0 -H2 -f %s | autfilt -DG > %O',\n",
       " 'Spot+LTL3BAd.NBA': 'ltl3ba -M1 -H3 -f %s | autfilt -DG > %O',\n",
       " 'Spot+LTL3BAd.TGBA': 'ltl3ba -M1 -H2 -f %s | autfilt -DG > %O',\n",
       " 'Spot+LTL3TELA': 'ltl3tela -f %f | autfilt -DG > %O',\n",
       " 'Spot+Spot.NBA': 'ltl2tgba -B -f %f | autfilt -DG > %O',\n",
       " 'Spot+Spot.TGBA': 'ltl2tgba -f %f | autfilt -DG > %O',\n",
       " 'ltl2dstar(NBA)+LTL3BA.NBA': 'ltl3ba -M0 -H3 -f %s | ltl2dstar -B -H - - > %O',\n",
       " 'ltl2dstar(NBA)+LTL3BAd.NBA': 'ltl3ba -M1 -H3 -f %s | ltl2dstar -B -H - - > %O',\n",
       " 'ltl2dstar(NBA)+Spot.NBA': 'ltl2tgba -B -f %f | ltl2dstar -B -H - - > %O',\n",
       " 'ltl2dstar+LTL3BA.NBA': 'ltl2dstar -H -t \"ltl3ba -M0 -H3 -f %%s > %%H\" %L %O',\n",
       " 'ltl2dstar+LTL3BAd.NBA': 'ltl2dstar -H -t \"ltl3ba -M1 -H3 -f %%s > %%H\" %L %O',\n",
       " 'ltl2dstar+Spot.NBA': 'ltl2dstar -H -t \"ltl2tgba -B -f %%s > %%H\" %L %O'}"
      ]
     },
     "execution_count": 6,
     "metadata": {},
     "output_type": "execute_result"
    }
   ],
   "source": [
    "full_tools"
   ]
  },
  {
   "cell_type": "code",
   "execution_count": 7,
   "metadata": {},
   "outputs": [],
   "source": [
    "rab4 = 'Rab4/bin/'\n",
    "sacc = ' | autfilt -S > %O'\n",
    "rabinizers = {\n",
    "    \"R3\"      : 'java -jar Rab3/rabinizer3.1.jar -silent -format=hoa -out=std %[eiRWM]f > %O',\n",
    "    \"R3.DSRA\" : 'java -jar Rab3/rabinizer3.1.jar -silent -format=hoa -out=std -auto=sr %[eiRWM]f > %O',\n",
    "    \"R4\"      : rab4 + 'ltl2dgra %f > %O',\n",
    "    \"R4.DSRA\" : rab4 + 'ltl2dra %f' + sacc\n",
    "}\n",
    "ltl3dra = {\n",
    "    \"LTL3DRA\" : 'ltl3dra -f %s > %O',\n",
    "    \"LTL3DRA.DSRA\" : 'ltl3dra -H3 -f %s > %O'\n",
    "}\n",
    "ltl2tgba = {\n",
    "    \"ltl2tgba\"      : 'ltl2tgba -DG -f %f > %O',\n",
    "}\n",
    "parity = {\n",
    "    \"ltl2dpa(ldba)\"      : rab4 + 'ltl2dpa --mode=ldba %f > %O',\n",
    "    \"ltl2dpa(Rab)\"       : rab4 + 'ltl2dpa --mode=rabinizer %f > %O',\n",
    "}"
   ]
  },
  {
   "cell_type": "code",
   "execution_count": 8,
   "metadata": {},
   "outputs": [],
   "source": [
    "full_tools.update(rabinizers)\n",
    "full_tools.update(ltl2tgba)\n",
    "full_tools.update(parity)"
   ]
  },
  {
   "cell_type": "code",
   "execution_count": 9,
   "metadata": {},
   "outputs": [],
   "source": [
    "ltl3dra_tools = full_tools.copy()"
   ]
  },
  {
   "cell_type": "code",
   "execution_count": 10,
   "metadata": {},
   "outputs": [],
   "source": [
    "ltl3dra_tools.update(ltl3dra)"
   ]
  },
  {
   "cell_type": "code",
   "execution_count": 11,
   "metadata": {},
   "outputs": [
    {
     "data": {
      "text/plain": [
       "{'LTL3DRA': 'ltl3dra -f %s > %O',\n",
       " 'LTL3DRA.DSRA': 'ltl3dra -H3 -f %s > %O',\n",
       " 'R3': 'java -jar Rab3/rabinizer3.1.jar -silent -format=hoa -out=std %[RWM]f > %O',\n",
       " 'R3.DSRA': 'java -jar Rab3/rabinizer3.1.jar -silent -format=hoa -out=std -auto=sr %[RWM]f > %O',\n",
       " 'R4': 'Rab4/bin/ltl2dgra %f > %O',\n",
       " 'R4.DSRA': 'Rab4/bin/ltl2dra %f | autfilt -S > %O',\n",
       " 'Spot+LTL3BA.NBA': 'ltl3ba -M0 -H3 -f %s | autfilt -DG > %O',\n",
       " 'Spot+LTL3BA.TGBA': 'ltl3ba -M0 -H2 -f %s | autfilt -DG > %O',\n",
       " 'Spot+LTL3BAd.NBA': 'ltl3ba -M1 -H3 -f %s | autfilt -DG > %O',\n",
       " 'Spot+LTL3BAd.TGBA': 'ltl3ba -M1 -H2 -f %s | autfilt -DG > %O',\n",
       " 'Spot+LTL3TELA': 'ltl3tela -f %f | autfilt -DG > %O',\n",
       " 'Spot+Spot.NBA': 'ltl2tgba -B -f %f | autfilt -DG > %O',\n",
       " 'Spot+Spot.TGBA': 'ltl2tgba -f %f | autfilt -DG > %O',\n",
       " 'ltl2dpa(Rab)': 'Rab4/bin/ltl2dpa --mode=rabinizer %f > %O',\n",
       " 'ltl2dpa(ldba)': 'Rab4/bin/ltl2dpa --mode=ldba %f > %O',\n",
       " 'ltl2dstar(NBA)+LTL3BA.NBA': 'ltl3ba -M0 -H3 -f %s | ltl2dstar -B -H - - > %O',\n",
       " 'ltl2dstar(NBA)+LTL3BAd.NBA': 'ltl3ba -M1 -H3 -f %s | ltl2dstar -B -H - - > %O',\n",
       " 'ltl2dstar(NBA)+Spot.NBA': 'ltl2tgba -B -f %f | ltl2dstar -B -H - - > %O',\n",
       " 'ltl2dstar+LTL3BA.NBA': 'ltl2dstar -H -t \"ltl3ba -M0 -H3 -f %%s > %%H\" %L %O',\n",
       " 'ltl2dstar+LTL3BAd.NBA': 'ltl2dstar -H -t \"ltl3ba -M1 -H3 -f %%s > %%H\" %L %O',\n",
       " 'ltl2dstar+Spot.NBA': 'ltl2dstar -H -t \"ltl2tgba -B -f %%s > %%H\" %L %O',\n",
       " 'ltl2tgba': 'ltl2tgba -DG -f %f > %O'}"
      ]
     },
     "execution_count": 11,
     "metadata": {},
     "output_type": "execute_result"
    }
   ],
   "source": [
    "ltl3dra_tools"
   ]
  },
  {
   "cell_type": "code",
   "execution_count": 12,
   "metadata": {},
   "outputs": [
    {
     "data": {
      "text/plain": [
       "{'R3': 'java -jar Rab3/rabinizer3.1.jar -silent -format=hoa -out=std %[RWM]f > %O',\n",
       " 'R3.DSRA': 'java -jar Rab3/rabinizer3.1.jar -silent -format=hoa -out=std -auto=sr %[RWM]f > %O',\n",
       " 'R4': 'Rab4/bin/ltl2dgra %f > %O',\n",
       " 'R4.DSRA': 'Rab4/bin/ltl2dra %f | autfilt -S > %O',\n",
       " 'Spot+LTL3BA.NBA': 'ltl3ba -M0 -H3 -f %s | autfilt -DG > %O',\n",
       " 'Spot+LTL3BA.TGBA': 'ltl3ba -M0 -H2 -f %s | autfilt -DG > %O',\n",
       " 'Spot+LTL3BAd.NBA': 'ltl3ba -M1 -H3 -f %s | autfilt -DG > %O',\n",
       " 'Spot+LTL3BAd.TGBA': 'ltl3ba -M1 -H2 -f %s | autfilt -DG > %O',\n",
       " 'Spot+LTL3TELA': 'ltl3tela -f %f | autfilt -DG > %O',\n",
       " 'Spot+Spot.NBA': 'ltl2tgba -B -f %f | autfilt -DG > %O',\n",
       " 'Spot+Spot.TGBA': 'ltl2tgba -f %f | autfilt -DG > %O',\n",
       " 'ltl2dpa(Rab)': 'Rab4/bin/ltl2dpa --mode=rabinizer %f > %O',\n",
       " 'ltl2dpa(ldba)': 'Rab4/bin/ltl2dpa --mode=ldba %f > %O',\n",
       " 'ltl2dstar(NBA)+LTL3BA.NBA': 'ltl3ba -M0 -H3 -f %s | ltl2dstar -B -H - - > %O',\n",
       " 'ltl2dstar(NBA)+LTL3BAd.NBA': 'ltl3ba -M1 -H3 -f %s | ltl2dstar -B -H - - > %O',\n",
       " 'ltl2dstar(NBA)+Spot.NBA': 'ltl2tgba -B -f %f | ltl2dstar -B -H - - > %O',\n",
       " 'ltl2dstar+LTL3BA.NBA': 'ltl2dstar -H -t \"ltl3ba -M0 -H3 -f %%s > %%H\" %L %O',\n",
       " 'ltl2dstar+LTL3BAd.NBA': 'ltl2dstar -H -t \"ltl3ba -M1 -H3 -f %%s > %%H\" %L %O',\n",
       " 'ltl2dstar+Spot.NBA': 'ltl2dstar -H -t \"ltl2tgba -B -f %%s > %%H\" %L %O',\n",
       " 'ltl2tgba': 'ltl2tgba -DG -f %f > %O'}"
      ]
     },
     "execution_count": 12,
     "metadata": {},
     "output_type": "execute_result"
    }
   ],
   "source": [
    "full_tools"
   ]
  },
  {
   "cell_type": "code",
   "execution_count": 27,
   "metadata": {},
   "outputs": [],
   "source": [
    "def mint(s):\n",
    "    return(\"\\\\mintinline{bash}{\"+s+\"}\")"
   ]
  },
  {
   "cell_type": "code",
   "execution_count": 30,
   "metadata": {},
   "outputs": [],
   "source": [
    "def latex(d):\n",
    "    for name, cmd in sorted(d.items()):\n",
    "        print(\"    & {}\\n    & {}\\\\\\\\\".format(name,mint(cmd)))"
   ]
  },
  {
   "cell_type": "raw",
   "metadata": {},
   "source": [
    "latex(ltl3dra_tools)"
   ]
  },
  {
   "cell_type": "code",
   "execution_count": null,
   "metadata": {},
   "outputs": [],
   "source": []
  }
 ],
 "metadata": {
  "kernelspec": {
   "display_name": "Python 3",
   "language": "python",
   "name": "python3"
  },
  "language_info": {
   "codemirror_mode": {
    "name": "ipython",
    "version": 3
   },
   "file_extension": ".py",
   "mimetype": "text/x-python",
   "name": "python",
   "nbconvert_exporter": "python",
   "pygments_lexer": "ipython3",
   "version": "3.5.2"
  }
 },
 "nbformat": 4,
 "nbformat_minor": 2
}
