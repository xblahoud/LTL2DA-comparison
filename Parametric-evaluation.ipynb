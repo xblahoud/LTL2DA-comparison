{
 "cells": [
  {
   "cell_type": "code",
   "execution_count": null,
   "metadata": {},
   "outputs": [],
   "source": [
    "import re\n",
    "from ltlcross_runner import param_runner, LtlcrossRunner\n",
    "from tools_hier import get_tools, tool_order\n",
    "from evaluation_utils import split_cols, sort_by_tools, to_tuples"
   ]
  },
  {
   "cell_type": "markdown",
   "metadata": {},
   "source": [
    "## Helper functions to format the latex tables"
   ]
  },
  {
   "cell_type": "code",
   "execution_count": null,
   "metadata": {},
   "outputs": [],
   "source": [
    "def add_type_lines(filename,Safra=True,vertical=False,end=None):\n",
    "    cline = '\\cmidrule[\\lightrulewidth]{2-'+ str(end) +'}' \\\n",
    "        if vertical else '\\midrule'\n",
    "    todo = [(r'(\\\\multirow\\{2\\}\\{\\*\\}\\{ltl2dpa\\})',''),\n",
    "            (r'(\\\\multirow\\{3\\}\\{\\*\\}\\{ltl2dstar\\})','')]\n",
    "    if not Safra:\n",
    "        todo = [todo[0]]\n",
    "    if vertical:\n",
    "        todo = [(r\"&\\s+\"+t[0], ' & ') for t in todo]\n",
    "    for rplc, pref in todo:\n",
    "        with open(filename) as f:\n",
    "            lines = f.read()\n",
    "            lines = re.sub(rplc,cline + pref + r'\\1',lines)\n",
    "        with open(filename,\"w\") as f1:\n",
    "            f1.write(lines)"
   ]
  },
  {
   "cell_type": "code",
   "execution_count": null,
   "metadata": {},
   "outputs": [],
   "source": [
    "def fix_lines(filename, end=12, vertical=False):\n",
    "    end = str(end)\n",
    "    todo = [(r\"(\\\\multirow\\{2\\}\\{\\*\\}\\{ltl2dpa\\})\",1,''),\n",
    "        (r\"(& \\\\multirow\\{2\\}\\{\\*\\}\\{Spot\\})\",2,'')]\n",
    "    if vertical:\n",
    "        todo = [(r\"&\\s+\"+t[0],t[1]+1, ' & ') for t in todo]\n",
    "    for rplc, start, pref in todo:\n",
    "        with open(filename) as f:\n",
    "            lines = f.read()\n",
    "        lines = re.sub(rplc,\n",
    "                       \"\\cmidrule{\" +\n",
    "                       \"{}-{}\".format(start,end) +\n",
    "                       \"}\" + pref + r\"\\1\",\n",
    "                       lines)\n",
    "        with open(filename,\"w\") as f1:\n",
    "            f1.write(lines)\n",
    "    with open(filename) as f:\n",
    "        lines = f.read()\n",
    "    lines = lines.replace('cline','cmidrule')\n",
    "    lines = lines.replace('$nan$','---')\n",
    "    if vertical:\n",
    "        rplc = \"\\cmidrule{1-\" + str(end) + \"}\"\n",
    "        lines = lines.replace(rplc,\"\\midrule[\\heavyrulewidth]\")\n",
    "    # Remove cmidrules in front of midrule\n",
    "    lines = re.sub(r\"(\\\\cmidrule\\{\\d+-\\d+\\}\\n?)*\\\\midrule\\[\\\\heavyrulewidth\\](\\s*\\n*\\s*\\\\cmidrule\\{\\d+-\\d+\\}\\s*\\n?)*\", \"\\\\midrule[\\\\heavyrulewidth] \", lines)\n",
    "    lines = re.sub(r\"(\\\\cmidrule\\{\\d+-\\d+\\}\\s*\\n?)*(\\\\cmidrule\\[\\\\lightrulewidth\\]\\{\\d+-\\d+\\})(\\s*\\n*\\s*\\\\cmidrule\\{\\d+-\\d+\\}\\s*\\n?)*\", r\"\\2 \", lines)\n",
    "    with open(filename,\"w\") as f1:\n",
    "        f1.write(lines)"
   ]
  },
  {
   "cell_type": "code",
   "execution_count": null,
   "metadata": {},
   "outputs": [],
   "source": [
    "def fix_tools(tool):\n",
    "    tool = tool.replace('ltl2dstar(NBA)',\n",
    "                        '\\parbox[c]{1.3cm}{\\centering ltl2dstar NBA}')\n",
    "    if tool == 'ltl2dstar':\n",
    "        tool = '\\parbox[c]{1.3cm}{\\centering ltl2dstar LTL}'\n",
    "    tool = tool.replace('Spot',\n",
    "                        #'\\rotatebox[origin=c]{90}{Spot (autfilt)}')\n",
    "                        '\\parbox[c]{1.3cm}{\\centering Spot autfilt}')\n",
    "    tool = tool.replace('R3','Rabinizer 3').replace('R4','Rabinizer 4')\n",
    "    tool = tool.replace('ltl2tgba','Spot')\n",
    "    return tool"
   ]
  },
  {
   "cell_type": "code",
   "execution_count": null,
   "metadata": {},
   "outputs": [],
   "source": [
    "def color_table(filename, extrarowheight='.75ex'):\n",
    "    setup = '''\\\\newcolumntype{{a}}{{>{{\\\\columncolor{{blue!20}}}}r}}\n",
    "\\\\newcolumntype{{b}}{{>{{\\\\columncolor{{blue!20}}}}c}}\n",
    "\\\\setlength{{\\\\aboverulesep}}{{0pt}}\n",
    "\\\\setlength{{\\\\belowrulesep}}{{0pt}}\n",
    "\\\\setlength{{\\\\extrarowheight}}{{{}}}\n",
    "\\\\setlength{{\\\\heavyrulewidth}}{{2pt}}\n",
    "\\\\setlength{{\\\\lightrulewidth}}{{1.2pt}}\n",
    "\\\\def\\\\high{{\\\\cellcolor{{darkgreen!40}}}}\n",
    "'''.format(extrarowheight)\n",
    "    with open(filename) as f:\n",
    "        lines = f.read()\n",
    "    lines = fix_header_colors(lines)\n",
    "    with open(filename,\"w\") as f1:\n",
    "        f1.write(setup + lines)"
   ]
  },
  {
   "cell_type": "code",
   "execution_count": null,
   "metadata": {},
   "outputs": [],
   "source": [
    "def make_heading(filename):\n",
    "    with open(filename) as f:\n",
    "        lines = f.read()\n",
    "    lines = re.sub(r\"(\\s+)&\\s+&\\s+&\\s+states\", \n",
    "        r\"\\1main tool & intermediate & acc & states\",\n",
    "        lines)\n",
    "    lines = re.sub(r\"(\\s+)&\\s+&\\s+&\\s+&\\s+0\", \n",
    "        r\"\\1main tool & intermediate & acc & \\# & 0\",\n",
    "        lines)\n",
    "    lines = re.sub(r\"(\\s+)&\\s+&\\s+&\\s+\\$n\",\n",
    "        r\"\\1main tool & intermediate & acc & $n\",\n",
    "        lines)\n",
    "    with open(filename,\"w\") as f1:\n",
    "        f1.write(lines)"
   ]
  },
  {
   "cell_type": "code",
   "execution_count": null,
   "metadata": {},
   "outputs": [],
   "source": [
    "def fix_header_colors(lines):\n",
    "    lines = lines.replace('{c}','{b}',1)\n",
    "    i = lines.find('{c}')\n",
    "    return lines[:i+1] + lines[i+1:].replace('{c}','{b}',1)"
   ]
  },
  {
   "cell_type": "markdown",
   "metadata": {},
   "source": [
    "## Get the edge where all tools succeed"
   ]
  },
  {
   "cell_type": "code",
   "execution_count": null,
   "metadata": {},
   "outputs": [],
   "source": [
    "def param_get_edge_n(self,only_timeout=True,tool_subset=None):\n",
    "    if tool_subset is None:\n",
    "        tool_subset = self.tools.keys()\n",
    "    v = self.values.states[list(tool_subset)]\n",
    "    max_n = len(v.dropna())\n",
    "    if only_timeout:\n",
    "        es = self.exit_status.iloc[max_n]\n",
    "        while len(es[es == 'timeout']) == 0:\n",
    "            max_n += 1\n",
    "            es = r.exit_status.iloc[max_n]\n",
    "    return max_n"
   ]
  },
  {
   "cell_type": "markdown",
   "metadata": {},
   "source": [
    "## Compute n for each tool"
   ]
  },
  {
   "cell_type": "code",
   "execution_count": null,
   "metadata": {},
   "outputs": [],
   "source": [
    "def param_get_max_n(self,tool):\n",
    "    v = self.values.states[tool]\n",
    "    max_n = len(v.dropna())\n",
    "    return max_n"
   ]
  },
  {
   "cell_type": "markdown",
   "metadata": {},
   "source": [
    "## get_nX_states"
   ]
  },
  {
   "cell_type": "code",
   "execution_count": null,
   "metadata": {},
   "outputs": [],
   "source": [
    "def param_get_value_for(self,tool,n,col='states'):\n",
    "    v = self.values[col][tool]\n",
    "    return v.iloc[n-1]"
   ]
  },
  {
   "cell_type": "markdown",
   "metadata": {},
   "source": [
    "## Prepare table"
   ]
  },
  {
   "cell_type": "code",
   "execution_count": null,
   "metadata": {},
   "outputs": [],
   "source": [
    "import pandas as pd"
   ]
  },
  {
   "cell_type": "code",
   "execution_count": null,
   "metadata": {},
   "outputs": [],
   "source": [
    "def my_highlight_best_min(data):\n",
    "    \"\"\"highlight the minimum of a row.\"\"\"\n",
    "    return ['background-color: #3db709' if m == data.min() else ''\n",
    "            for m in data]\n",
    "\n",
    "def my_highlight_best_max(data):\n",
    "    \"\"\"highlight the maxinum of a row.\"\"\"\n",
    "    return ['background-color: #3db709' if m == data.max() else ''\n",
    "            for m in data]\n",
    "\n",
    "def my_highlight_max(data):\n",
    "    \"\"\"highlight the maximum of a row, and also highlight values that are not far away.\"\"\"\n",
    "    m = data.max()\n",
    "    is_max = data == m\n",
    "    is_good = (data >= (m/1.05)) | (data >= m-0.005)\n",
    "    return ['background-color: #ff5050' if m else\n",
    "            'background-color: #ff9999' if g else ''\n",
    "            for m,g in zip(is_max, is_good)]"
   ]
  },
  {
   "cell_type": "code",
   "execution_count": null,
   "metadata": {},
   "outputs": [],
   "source": [
    "#maxn = \"max $n$\"\n",
    "maxn = \"max\"\n",
    "n_str = '$n = {}$'\n",
    "ne_str = '$n_e = {}$'\n",
    "nt_str = '$n_t = {}$'\n",
    "def compute_param(self,col='states',tool_subset=None):\n",
    "    if tool_subset is None:\n",
    "        tool_subset = self.tools.keys()\n",
    "    nt = param_get_edge_n(self,tool_subset=tool_subset)\n",
    "    ne = param_get_edge_n(self,False,tool_subset=tool_subset)\n",
    "    \n",
    "    if ne == nt:\n",
    "        n_i = n_str.format(ne)\n",
    "        cols = [n_i,maxn]\n",
    "    else:\n",
    "        ne_i = ne_str.format(ne)\n",
    "        nt_i = nt_str.format(nt)\n",
    "        cols = [ne_i,nt_i,maxn]\n",
    "    idx = pd.Index(data=cols)\n",
    "    df = pd.DataFrame(columns=tool_subset,index=idx)\n",
    "\n",
    "    v = self.values[col]\n",
    "    if ne == nt:\n",
    "        df.loc[n_i] = v[df.columns].iloc[ne-1]\n",
    "    else:\n",
    "        df.loc[nt_i] = v[df.columns].iloc[nt-1]\n",
    "        df.loc[ne_i] = v[df.columns].iloc[ne-1]\n",
    "    for tool in tool_subset:\n",
    "        df.loc[maxn].loc[tool] = float(param_get_max_n(self,tool))\n",
    "    #tmp = df.copy()\n",
    "    return df#tmp.style.apply(my_highlight_min, axis=1)"
   ]
  },
  {
   "cell_type": "code",
   "execution_count": null,
   "metadata": {},
   "outputs": [],
   "source": [
    "ltlgux = ['gh-e','gh-c1','gh-c2','gh-q','gh-r',\n",
    "          'gh-s','gh-u','gh-u2','ms-phi-r',\n",
    "          'ms-phi-s','and-fg','or-fg','go-theta']\n",
    "full = ['kr-n','kr-nlogn','ms-phi-h']"
   ]
  },
  {
   "cell_type": "code",
   "execution_count": null,
   "metadata": {},
   "outputs": [],
   "source": [
    "','.join(ltlgux)"
   ]
  },
  {
   "cell_type": "code",
   "execution_count": null,
   "metadata": {},
   "outputs": [],
   "source": [
    "data = []\n",
    "for f in ltlgux:\n",
    "    r = param_runner(f,get_tools('ltl-gux'))\n",
    "    r.parse_results()\n",
    "    data.append(compute_param(r))\n",
    "    \n",
    "for f in full:\n",
    "    r = param_runner(f,get_tools('full'))\n",
    "    r.parse_results()\n",
    "    data.append(compute_param(r))\n",
    "\n",
    "res = pd.concat(data,keys=ltlgux+full)"
   ]
  },
  {
   "cell_type": "code",
   "execution_count": null,
   "metadata": {},
   "outputs": [],
   "source": [
    "def highlight_best(res, latex=False):  \n",
    "    if latex:\n",
    "        res = res.T\n",
    "    # Choose all rows for numbers of states\n",
    "    a = res.index.levels[1]\n",
    "    for_min = a.delete(a.get_loc(maxn))\n",
    "\n",
    "    idx = pd.IndexSlice\n",
    "    # Color the best values\n",
    "    if not latex:\n",
    "        return res.style\\\n",
    "            .apply(my_highlight_best_min, axis=1,subset=idx[idx[:,for_min],:])\\\n",
    "            .apply(my_highlight_best_max, axis=1,subset=idx[idx[:,maxn],:])\n",
    "    else:\n",
    "        res.loc[idx[idx[:,for_min],:]] = res.loc[idx[idx[:,for_min],:]].astype(float)\\\n",
    "            .apply(high_min, axis=1)\n",
    "        res.loc[idx[idx[:,maxn],:]] = res.loc[idx[idx[:,maxn],:]].astype(float)\\\n",
    "            .apply(high_max, axis=1)\n",
    "        return res.T"
   ]
  },
  {
   "cell_type": "code",
   "execution_count": null,
   "metadata": {},
   "outputs": [],
   "source": [
    "def high_min(data):\n",
    "    return ['\\high ${:0.0f}$'.format(m) if \n",
    "            m == data.min() else m for m in data]\n",
    "\n",
    "def high_max(data):\n",
    "    return ['\\high ${:0.0f}$'.format(m) if \n",
    "            m == data.max() else m for m in data]"
   ]
  },
  {
   "cell_type": "code",
   "execution_count": null,
   "metadata": {},
   "outputs": [],
   "source": [
    "h = highlight_best(res)\n",
    "h"
   ]
  },
  {
   "cell_type": "raw",
   "metadata": {},
   "source": [
    "res.to_latex()"
   ]
  },
  {
   "cell_type": "code",
   "execution_count": null,
   "metadata": {},
   "outputs": [],
   "source": [
    "res = sort_by_tools(res,tool_order,axis=1)\n",
    "split = split_cols(res)\n",
    "i = [(fix_tools(t[0]),t[1],t[2].replace('TEL.TP','TEL.TEL'))\\\n",
    "         for t in split.columns.values]\n",
    "split.columns=pd.MultiIndex.from_tuples(i)"
   ]
  },
  {
   "cell_type": "code",
   "execution_count": null,
   "metadata": {},
   "outputs": [],
   "source": [
    "def color_str_multiindex_cols(df, color_type='a', def_type='r'):\n",
    "    col_f = '' # string to acummulate the columns' types\n",
    "    i = 0 # iterates over labels\n",
    "    c = 0 # remembers if this one should be colored\n",
    "    while i < len(df.columns):\n",
    "        col = df.columns.labels[0][i]\n",
    "        current_lab = df.columns.levels[0][col]\n",
    "        col_nums = len(df[current_lab].columns)\n",
    "        i += col_nums # moves to next column\n",
    "        if c % 2 == 0:\n",
    "            col_f += color_type*col_nums\n",
    "        else:\n",
    "            col_f += def_type*col_nums\n",
    "        if len(df[current_lab]) > 0:\n",
    "            c += 1\n",
    "    return col_f"
   ]
  },
  {
   "cell_type": "code",
   "execution_count": null,
   "metadata": {},
   "outputs": [],
   "source": [
    "def param_to_latex(res, filename='param.tex', transpose=False, color=True):\n",
    "    if transpose:\n",
    "        res = res.T\n",
    "        col_f = color_str_multiindex_cols(res) if color else 'r'*len(res.columns)\n",
    "        col_f = 'ccr' + col_f\n",
    "    else:\n",
    "        color = False\n",
    "        col_f = 'cc' + 'r'*len(res.columns)\n",
    "    if color:\n",
    "        res = highlight_best(res, latex=True)\n",
    "    res.to_latex(buf=open(filename,'w'), multirow=True, escape=False,\n",
    "                 na_rep='---', float_format=lambda x: '$' + '%0.0f' % x + '$',\n",
    "                 column_format=col_f, multicolumn_format='c')\n",
    "    if color:\n",
    "        color_table(filename,'.2ex')\n",
    "    if transpose:\n",
    "        length = len(res.columns) + len(res.index.levels)\n",
    "        fix_lines(filename,length)\n",
    "        add_type_lines(filename)\n",
    "        make_heading(filename)"
   ]
  },
  {
   "cell_type": "code",
   "execution_count": null,
   "metadata": {},
   "outputs": [],
   "source": [
    "groups = {\n",
    "'gh' : ['gh-e','gh-c1','gh-c2','gh-q'],\n",
    "'gh2' : ['gh-r','gh-s','gh-u','gh-u2'],\n",
    "'ms+go' : ['go-theta','ms-phi-h','ms-phi-r','ms-phi-s'],\n",
    "'dexp+other' : ['kr-n','kr-nlogn','and-fg','or-fg'],\n",
    "}"
   ]
  },
  {
   "cell_type": "code",
   "execution_count": null,
   "metadata": {},
   "outputs": [],
   "source": [
    "for name, group in groups.items():\n",
    "    param_to_latex(split.loc(axis=0)[group],\n",
    "                   filename='param_{}.tex'.format(name),\n",
    "                   transpose=True)\n",
    "#    print('''\\\\begin{{table*}}\n",
    "#\\\\small%\n",
    "#\\\\classiccaptionstyle%\n",
    "#\\\\centering%\n",
    "#\\\\input{{\\\\dataDir/param_{0}}}%\n",
    "#\\\\caption{{PARAM {0}}}%\n",
    "#\\\\label{{TODO}}\n",
    "#\\\\end{{table*}}\n",
    "#'''.format(name))"
   ]
  }
 ],
 "metadata": {
  "kernelspec": {
   "display_name": "Python 3",
   "language": "python",
   "name": "python3"
  },
  "language_info": {
   "codemirror_mode": {
    "name": "ipython",
    "version": 3
   },
   "file_extension": ".py",
   "mimetype": "text/x-python",
   "name": "python",
   "nbconvert_exporter": "python",
   "pygments_lexer": "ipython3",
   "version": "3.4.3"
  }
 },
 "nbformat": 4,
 "nbformat_minor": 2
}
