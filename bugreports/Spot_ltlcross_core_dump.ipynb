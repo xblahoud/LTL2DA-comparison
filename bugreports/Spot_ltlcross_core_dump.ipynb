{
 "cells": [
  {
   "cell_type": "markdown",
   "metadata": {},
   "source": [
    "# ltlcross core dumps\n",
    "ltlcross core dumps during sanity checks. It seems that it creates an automaton it cannot handle -- too many accptance sets.\n",
    "\n",
    "It is an issue for both the master and next branch"
   ]
  },
  {
   "cell_type": "code",
   "execution_count": 1,
   "metadata": {},
   "outputs": [
    {
     "name": "stdout",
     "output_type": "stream",
     "text": [
      "\u001b[1m((p0) & (((G((p1) | (G(!(p1))))) & ((p2) R (X(!(p0))))) | ((F((!(p1)) & (F(p1)))) & ((!(p2)) U (X(p0)))))) | ((!(p0)) & (((G((p1) | (G(!(p1))))) & ((!(p2)) U (X(p0)))) | (((p2) R (X(!(p0)))) & (F((!(p1)) & (F(p1)))))))\u001b[m\n",
      "Running [P0]: java -jar ../Rab3/rabinizer3.1.jar -silent -format=hoa -out=std '((p0) & (((F((!(p1)) & (F(p1)))) & ((!(p2)) U (X(p0)))) | ((G((p1) | (G(!(p1))))) & ((X(!(p0))) U (((p2) & (X(!(p0)))) | (G(X(!(p0))))))))) | ((!(p0)) & (((G((p1) | (G(!(p1))))) & ((!(p2)) U (X(p0)))) | ((F((!(p1)) & (F(p1)))) & ((X(!(p0))) U (((p2) & (X(!(p0)))) | (G(X(!(p0)))))))))' > 'lcr-o0-7Pxbvg'\n",
      "Running [N0]: java -jar ../Rab3/rabinizer3.1.jar -silent -format=hoa -out=std '!(((p0) & (((F((!(p1)) & (F(p1)))) & ((!(p2)) U (X(p0)))) | ((G((p1) | (G(!(p1))))) & ((X(!(p0))) U (((p2) & (X(!(p0)))) | (G(X(!(p0))))))))) | ((!(p0)) & (((G((p1) | (G(!(p1))))) & ((!(p2)) U (X(p0)))) | ((F((!(p1)) & (F(p1)))) & ((X(!(p0))) U (((p2) & (X(!(p0)))) | (G(X(!(p0))))))))))' > 'lcr-o0-xgfMyf'\n",
      "Performing sanity checks and gathering statistics...\n",
      "terminate called after throwing an instance of 'std::runtime_error'\n",
      "  what():  Too many acceptance sets used.\n",
      "Aborted (core dumped)\n"
     ]
    }
   ],
   "source": [
    "!ltlcross '{R3}java -jar ../Rab3/rabinizer3.1.jar -silent -format=hoa -out=std %[RWM]f > %O' --timeout=120 --automata --products=0 --csv=test.csv -f \"((p0) & (((G((p1) | (G(!(p1))))) & ((p2) R (X(!(p0))))) | ((F((!(p1)) & (F(p1)))) & ((!(p2)) U (X(p0)))))) | ((!(p0)) & (((G((p1) | (G(!(p1))))) & ((!(p2)) U (X(p0)))) | (((p2) R (X(!(p0)))) & (F((!(p1)) & (F(p1)))))))\""
   ]
  },
  {
   "cell_type": "code",
   "execution_count": 2,
   "metadata": {},
   "outputs": [],
   "source": [
    "!java -jar ../Rab3/rabinizer3.1.jar -silent -format=hoa -out=std '((p0) & (((F((!(p1)) & (F(p1)))) & ((!(p2)) U (X(p0)))) | ((G((p1) | (G(!(p1))))) & ((X(!(p0))) U (((p2) & (X(!(p0)))) | (G(X(!(p0))))))))) | ((!(p0)) & (((G((p1) | (G(!(p1))))) & ((!(p2)) U (X(p0)))) | ((F((!(p1)) & (F(p1)))) & ((X(!(p0))) U (((p2) & (X(!(p0)))) | (G(X(!(p0)))))))))' > spot_core_dump_p.hoa"
   ]
  },
  {
   "cell_type": "code",
   "execution_count": 3,
   "metadata": {},
   "outputs": [],
   "source": [
    "!java -jar ../Rab3/rabinizer3.1.jar -silent -format=hoa -out=std '!(((p0) & (((F((!(p1)) & (F(p1)))) & ((!(p2)) U (X(p0)))) | ((G((p1) | (G(!(p1))))) & ((X(!(p0))) U (((p2) & (X(!(p0)))) | (G(X(!(p0))))))))) | ((!(p0)) & (((G((p1) | (G(!(p1))))) & ((!(p2)) U (X(p0)))) | ((F((!(p1)) & (F(p1)))) & ((X(!(p0))) U (((p2) & (X(!(p0)))) | (G(X(!(p0))))))))))' > spot_core_dump_n.hoa"
   ]
  },
  {
   "cell_type": "markdown",
   "metadata": {},
   "source": [
    "## Product is not the issue\n",
    "In both Python and autfilt the product does not crashes with core dump."
   ]
  },
  {
   "cell_type": "code",
   "execution_count": 4,
   "metadata": {},
   "outputs": [
    {
     "name": "stdout",
     "output_type": "stream",
     "text": [
      "autfilt: Too many acceptance sets used.\n"
     ]
    }
   ],
   "source": [
    "!autfilt spot_core_dump_p.hoa --product=spot_core_dump_n.hoa"
   ]
  },
  {
   "cell_type": "code",
   "execution_count": 5,
   "metadata": {},
   "outputs": [],
   "source": [
    "import spot"
   ]
  },
  {
   "cell_type": "code",
   "execution_count": 6,
   "metadata": {},
   "outputs": [],
   "source": [
    "p = spot.automaton(filename='spot_core_dump_p.hoa')"
   ]
  },
  {
   "cell_type": "code",
   "execution_count": 7,
   "metadata": {},
   "outputs": [],
   "source": [
    "n = spot.automaton(filename='spot_core_dump_n.hoa')"
   ]
  },
  {
   "cell_type": "code",
   "execution_count": 8,
   "metadata": {},
   "outputs": [
    {
     "ename": "RuntimeError",
     "evalue": "Too many acceptance sets used.",
     "output_type": "error",
     "traceback": [
      "\u001b[0;31m---------------------------------------------------------------------------\u001b[0m",
      "\u001b[0;31mRuntimeError\u001b[0m                              Traceback (most recent call last)",
      "\u001b[0;32m<ipython-input-8-c2d81ca7f520>\u001b[0m in \u001b[0;36m<module>\u001b[0;34m()\u001b[0m\n\u001b[0;32m----> 1\u001b[0;31m \u001b[0mspot\u001b[0m\u001b[0;34m.\u001b[0m\u001b[0mproduct\u001b[0m\u001b[0;34m(\u001b[0m\u001b[0mp\u001b[0m\u001b[0;34m,\u001b[0m\u001b[0mn\u001b[0m\u001b[0;34m)\u001b[0m\u001b[0;34m\u001b[0m\u001b[0m\n\u001b[0m",
      "\u001b[0;31mRuntimeError\u001b[0m: Too many acceptance sets used."
     ]
    }
   ],
   "source": [
    "spot.product(p,n)"
   ]
  }
 ],
 "metadata": {
  "kernelspec": {
   "display_name": "Python 3",
   "language": "python",
   "name": "python3"
  },
  "language_info": {
   "codemirror_mode": {
    "name": "ipython",
    "version": 3
   },
   "file_extension": ".py",
   "mimetype": "text/x-python",
   "name": "python",
   "nbconvert_exporter": "python",
   "pygments_lexer": "ipython3",
   "version": "3.5.2"
  }
 },
 "nbformat": 4,
 "nbformat_minor": 2
}
