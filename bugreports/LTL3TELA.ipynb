{
 "cells": [
  {
   "cell_type": "markdown",
   "metadata": {},
   "source": [
    "# LTL3TELA seg fault"
   ]
  },
  {
   "cell_type": "code",
   "execution_count": 1,
   "metadata": {},
   "outputs": [
    {
     "name": "stdout",
     "output_type": "stream",
     "text": [
      "\u001b[1m(F(p0)) | ((!(p0)) & (F(p2)))\u001b[m\n",
      "Running [P0]: ltl2tgba -H '(F(p0)) | ((!(p0)) & (F(p2)))'>'lcr-o0-Xo6FSF'\n",
      "Running [P1]: ltl3tela -f '(F(p0)) | ((!(p0)) & (F(p2)))'>'lcr-o1-2CtPwi'\n",
      "\u001b[1;31merror: execution terminated by signal 11.\n",
      "\u001b[mRunning [N0]: ltl2tgba -H '!((F(p0)) | ((!(p0)) & (F(p2))))'>'lcr-o0-omyZAV'\n",
      "Running [N1]: ltl3tela -f '!((F(p0)) | ((!(p0)) & (F(p2))))'>'lcr-o1-xbH2Gy'\n",
      "\u001b[1;31merror: execution terminated by signal 11.\n",
      "\u001b[mPerforming sanity checks and gathering statistics...\n",
      "\n",
      "\u001b[1;31merror: some error was detected during the above runs,\n",
      "       please search for 'error:' messages in the above trace.\n",
      "\u001b[m"
     ]
    }
   ],
   "source": [
    "!ltlcross -t ltl2tgba -t ltl3tela -f 'Fp0 | (!p0 & Fp2)'"
   ]
  },
  {
   "cell_type": "code",
   "execution_count": 2,
   "metadata": {},
   "outputs": [
    {
     "name": "stdout",
     "output_type": "stream",
     "text": [
      "Segmentation fault (core dumped)\n"
     ]
    }
   ],
   "source": [
    "!ltl3tela -f '(F(p0)) | ((!(p0)) & (F(p2)))'"
   ]
  },
  {
   "cell_type": "code",
   "execution_count": 3,
   "metadata": {},
   "outputs": [
    {
     "name": "stdout",
     "output_type": "stream",
     "text": [
      "Segmentation fault (core dumped)\n"
     ]
    }
   ],
   "source": [
    "!ltl3tela -f '!((F(p0)) | ((!(p0)) & (F(p2))))'"
   ]
  }
 ],
 "metadata": {
  "kernelspec": {
   "display_name": "Python 3",
   "language": "python",
   "name": "python3"
  },
  "language_info": {
   "codemirror_mode": {
    "name": "ipython",
    "version": 3
   },
   "file_extension": ".py",
   "mimetype": "text/x-python",
   "name": "python",
   "nbconvert_exporter": "python",
   "pygments_lexer": "ipython3",
   "version": "3.5.2"
  }
 },
 "nbformat": 4,
 "nbformat_minor": 2
}
