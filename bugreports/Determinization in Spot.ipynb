{
 "cells": [
  {
   "cell_type": "markdown",
   "metadata": {},
   "source": [
    "# Spot TELA->TGBA bug\n",
    "The bug was discovered due the determinization of TELA automata, however it seems more like bug in the preceeding TELA->TGBA conversion."
   ]
  },
  {
   "cell_type": "code",
   "execution_count": 3,
   "metadata": {},
   "outputs": [
    {
     "name": "stdout",
     "output_type": "stream",
     "text": [
      "\u001b[1mF((G(a)) | (G((b) | (F(c)))))\u001b[m\n",
      "Running [P0]: ltl3tela -f 'F((G(a)) | (G((b) | (F(c)))))' | autfilt -DG > 'lcr-o0-FIj9yk'\n",
      "Running [P1]: ltl3tela -f 'F((G(a)) | (G((b) | (F(c)))))' | autfilt --tgba > 'lcr-o1-TyVtuX'\n",
      "Running [P2]: ltl3tela -f 'F((G(a)) | (G((b) | (F(c)))))'>'lcr-o2-GBOTrA'\n",
      "Running [P3]: ltl2tgba -H 'F((G(a)) | (G((b) | (F(c)))))'>'lcr-o3-dZjkrd'\n",
      "Running [N0]: ltl3tela -f '!(F((G(a)) | (G((b) | (F(c))))))' | autfilt -DG > 'lcr-o0-1g2IsQ'\n",
      "Running [N1]: ltl3tela -f '!(F((G(a)) | (G((b) | (F(c))))))' | autfilt --tgba > 'lcr-o1-z5Tywt'\n",
      "Running [N2]: ltl3tela -f '!(F((G(a)) | (G((b) | (F(c))))))'>'lcr-o2-NYLtC6'\n",
      "Running [N3]: ltl2tgba -H '!(F((G(a)) | (G((b) | (F(c))))))'>'lcr-o3-1NXqKJ'\n",
      "Performing sanity checks and gathering statistics...\n",
      "\u001b[1;31merror: P0*N0 is nonempty; both automata accept the infinite word:\n",
      "       \u001b[0;1mcycle{!a & !b & !c}\n",
      "\u001b[m\u001b[1;31merror: P0*N1 is nonempty; both automata accept the infinite word:\n",
      "       \u001b[0;1mcycle{!a & !b & !c}\n",
      "\u001b[m\u001b[1;31merror: P0*N2 is nonempty; both automata accept the infinite word:\n",
      "       \u001b[0;1mcycle{!a & !b & !c}\n",
      "\u001b[m\u001b[1;31merror: P0*N3 is nonempty; both automata accept the infinite word:\n",
      "       \u001b[0;1mcycle{!a & !b & !c}\n",
      "\u001b[m\u001b[1;31merror: P1*N0 is nonempty; both automata accept the infinite word:\n",
      "       \u001b[0;1mcycle{!a & !b & !c}\n",
      "\u001b[m\u001b[1;31merror: P1*N1 is nonempty; both automata accept the infinite word:\n",
      "       \u001b[0;1mcycle{!a & !b & !c}\n",
      "\u001b[m\u001b[1;31merror: P1*N2 is nonempty; both automata accept the infinite word:\n",
      "       \u001b[0;1mcycle{!a & !b & !c}\n",
      "\u001b[m\u001b[1;31merror: P1*N3 is nonempty; both automata accept the infinite word:\n",
      "       \u001b[0;1mcycle{!a & !b & !c}\n",
      "\u001b[m\n",
      "\u001b[1;31merror: some error was detected during the above runs,\n",
      "       please search for 'error:' messages in the above trace.\n",
      "\u001b[m"
     ]
    }
   ],
   "source": [
    "!ltlcross -t 'ltl3tela -f %f | autfilt -DG > %O' -t 'ltl3tela -f %f | autfilt --tgba > %O' -t ltl3tela -t ltl2tgba -f 'F((G(a)) | (G((b) | (F(c)))))'"
   ]
  },
  {
   "cell_type": "code",
   "execution_count": 12,
   "metadata": {},
   "outputs": [
    {
     "name": "stdout",
     "output_type": "stream",
     "text": [
      "\u001b[1mF((F(!(c))) & ((G(c)) | (F(d))))\u001b[m\n",
      "Running [P0]: ltl2tgba -H 'F((F(!(c))) & ((G(c)) | (F(d))))'>'lcr-o0-9atvGz'\n",
      "Running [P1]: ltl3tela -f 'F((F(!(c))) & ((G(c)) | (F(d))))'>'lcr-o1-ai81k5'\n",
      "Running [P2]: ltl3tela -f 'F((F(!(c))) & ((G(c)) | (F(d))))' | autfilt --tgba > 'lcr-o2-SS4L2A'\n",
      "Running [N0]: ltl2tgba -H '!(F((F(!(c))) & ((G(c)) | (F(d)))))'>'lcr-o0-SceON6'\n",
      "Running [N1]: ltl3tela -f '!(F((F(!(c))) & ((G(c)) | (F(d)))))'>'lcr-o1-OvfZBC'\n",
      "Running [N2]: ltl3tela -f '!(F((F(!(c))) & ((G(c)) | (F(d)))))' | autfilt --tgba > 'lcr-o2-T1jst8'\n",
      "Performing sanity checks and gathering statistics...\n",
      "\u001b[1;31merror: P2*N0 is nonempty; both automata accept the infinite word:\n",
      "       \u001b[0;1mcycle{!c & !d}\n",
      "\u001b[m\u001b[1;31merror: P2*N1 is nonempty; both automata accept the infinite word:\n",
      "       \u001b[0;1mcycle{c & d}\n",
      "\u001b[m\u001b[1;31merror: P2*N2 is nonempty; both automata accept the infinite word:\n",
      "       \u001b[0;1mcycle{c & d}\n",
      "\u001b[m\n",
      "\u001b[1m(F((G(p0)) | (G(p1)))) & (G((p0) | (F(p1))))\u001b[m\n",
      "Running [P0]: ltl2tgba -H '(F((G(p0)) | (G(p1)))) & (G((p0) | (F(p1))))'>'lcr-o0-jO6ksE'\n",
      "Running [P1]: ltl3tela -f '(F((G(p0)) | (G(p1)))) & (G((p0) | (F(p1))))'>'lcr-o1-pJGKua'\n",
      "Running [P2]: ltl3tela -f '(F((G(p0)) | (G(p1)))) & (G((p0) | (F(p1))))' | autfilt --tgba > 'lcr-o2-JyzbAG'\n",
      "Running [N0]: ltl2tgba -H '!((F((G(p0)) | (G(p1)))) & (G((p0) | (F(p1)))))'>'lcr-o0-TGk9Hc'\n",
      "Running [N1]: ltl3tela -f '!((F((G(p0)) | (G(p1)))) & (G((p0) | (F(p1)))))'>'lcr-o1-AxpeSI'\n",
      "Running [N2]: ltl3tela -f '!((F((G(p0)) | (G(p1)))) & (G((p0) | (F(p1)))))' | autfilt --tgba > 'lcr-o2-s6yj4e'\n",
      "Performing sanity checks and gathering statistics...\n",
      "\u001b[1;31merror: P2*N0 is nonempty; both automata accept the infinite word:\n",
      "       \u001b[0;1m!p0 & !p1; cycle{p0 & !p1}\n",
      "\u001b[m\u001b[1;31merror: P2*N1 is nonempty; both automata accept the infinite word:\n",
      "       \u001b[0;1m!p0 & !p1; cycle{p0 & !p1}\n",
      "\u001b[m\u001b[1;31merror: P2*N2 is nonempty; both automata accept the infinite word:\n",
      "       \u001b[0;1m!p0 & !p1; cycle{p0 & !p1}\n",
      "\u001b[m\n",
      "\u001b[1mF((G(p0)) | ((F(p1)) & (F(p0))))\u001b[m\n",
      "Running [P0]: ltl2tgba -H 'F((G(p0)) | ((F(p1)) & (F(p0))))'>'lcr-o0-JOKLnL'\n",
      "Running [P1]: ltl3tela -f 'F((G(p0)) | ((F(p1)) & (F(p0))))'>'lcr-o1-KNwzKh'\n",
      "Running [P2]: ltl3tela -f 'F((G(p0)) | ((F(p1)) & (F(p0))))' | autfilt --tgba > 'lcr-o2-LStnaO'\n",
      "Running [N0]: ltl2tgba -H '!(F((G(p0)) | ((F(p1)) & (F(p0)))))'>'lcr-o0-qKlpDk'\n",
      "Running [N1]: ltl3tela -f '!(F((G(p0)) | ((F(p1)) & (F(p0)))))'>'lcr-o1-7XtE9Q'\n",
      "Running [N2]: ltl3tela -f '!(F((G(p0)) | ((F(p1)) & (F(p0)))))' | autfilt --tgba > 'lcr-o2-HWAXIn'\n",
      "Performing sanity checks and gathering statistics...\n",
      "\u001b[1;31merror: P2*N0 is nonempty; both automata accept the infinite word:\n",
      "       \u001b[0;1mcycle{!p0 & p1}\n",
      "\u001b[m\u001b[1;31merror: P2*N1 is nonempty; both automata accept the infinite word:\n",
      "       \u001b[0;1mp0 & !p1; cycle{!p0 & !p1}\n",
      "\u001b[m\u001b[1;31merror: P2*N2 is nonempty; both automata accept the infinite word:\n",
      "       \u001b[0;1mp0 & !p1; cycle{!p0 & !p1}\n",
      "\u001b[m\n",
      "\u001b[1;31merror: some error was detected during the above runs,\n",
      "       please search for 'error:' messages in the above trace.\n",
      "\u001b[m"
     ]
    }
   ],
   "source": [
    "!ltlcross -t ltl2tgba -t ltl3tela -t 'ltl3tela -f %f | autfilt --tgba > %O' -f 'F(F!c & (Gc | Fd))' -f 'F(Gp0 | Gp1) & G(p0 | Fp1)' -f 'F(Gp0 | (Fp0 & Fp1))'"
   ]
  },
  {
   "cell_type": "code",
   "execution_count": null,
   "metadata": {},
   "outputs": [],
   "source": []
  }
 ],
 "metadata": {
  "kernelspec": {
   "display_name": "Python 3",
   "language": "python",
   "name": "python3"
  },
  "language_info": {
   "codemirror_mode": {
    "name": "ipython",
    "version": 3
   },
   "file_extension": ".py",
   "mimetype": "text/x-python",
   "name": "python",
   "nbconvert_exporter": "python",
   "pygments_lexer": "ipython3",
   "version": "3.5.2"
  }
 },
 "nbformat": 4,
 "nbformat_minor": 2
}
