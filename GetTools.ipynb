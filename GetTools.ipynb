{
 "cells": [
  {
   "cell_type": "code",
   "execution_count": 9,
   "metadata": {},
   "outputs": [],
   "source": [
    "import os"
   ]
  },
  {
   "cell_type": "code",
   "execution_count": 7,
   "metadata": {},
   "outputs": [],
   "source": [
    "def mkdir(directory):\n",
    "    if not os.path.exists(directory):\n",
    "        os.makedirs(directory)"
   ]
  },
  {
   "cell_type": "markdown",
   "metadata": {},
   "source": [
    "## Rabinizer 1\n",
    "Rabinizer 1 have to be downloaded manually from [Rabinizer webpage](https://rabinizer.informatik.tu-muenchen.de/)"
   ]
  },
  {
   "cell_type": "markdown",
   "metadata": {},
   "source": [
    "## Rabinizer 2\n",
    "Available [here](https://www7.in.tum.de/~kretinsk/rabinizer2/rabinizer.jar)"
   ]
  },
  {
   "cell_type": "code",
   "execution_count": 12,
   "metadata": {},
   "outputs": [],
   "source": [
    "if not os.path.exists('Rab2/rabinizer.jar'):\n",
    "    mkdir('Rab2')\n",
    "    !wget -P 'Rab2' https://www7.in.tum.de/~kretinsk/rabinizer2/rabinizer.jar"
   ]
  },
  {
   "cell_type": "code",
   "execution_count": 51,
   "metadata": {},
   "outputs": [
    {
     "name": "stdout",
     "output_type": "stream",
     "text": [
      "******************************************************************************\r\n",
      "* Rabinizer 2                                                                *\r\n",
      "******************************************************************************\r\n",
      "* The constructor of deterministic Rabin automata for LTL[F,G,X,U]-formulas  *\r\n",
      "* Release: Mon Oct 21 11:50:56 CEST 2013                                     *\r\n",
      "* Version 1 by Andreas Gaiser                                                *\r\n",
      "* Version 2 by Ruslan Ledesma-Garza                                          *\r\n",
      "* Technical University Munich (Chair 7)                                      *\r\n",
      "******************************************************************************\r\n",
      "Arguments: -h\r\n",
      "Usage: rabinizer [options] <ltlfile>\r\n",
      "   Read LTL[F,G,X,U]-formula from file <ltlfile> and\r\n",
      "   compute the corresponding Gen Rabin automaton\r\n",
      "   and the corresponding Rabin automaton.\r\n",
      "   By default, dump each constructed item to a corresponding\r\n",
      "   file <ltlfile.*>.\r\n",
      "Options:\r\n",
      "   -h          : print this help and exit\r\n",
      "   -v          : verbose terminal output\r\n",
      "   -nodump     : only construct, do not dump results to files\r\n",
      "   -nodot      : (deprecated) same as -nodump\r\n",
      "   -ltl2dstar  : dump formula in reverse polish notation and exit\r\n",
      "\r\n"
     ]
    }
   ],
   "source": [
    "!java -jar Rab2/rabinizer.jar -h"
   ]
  },
  {
   "cell_type": "markdown",
   "metadata": {},
   "source": [
    "## Rabinizer 3\n",
    "Available [here](https://www7.in.tum.de/~kretinsk/rabinizer3/rabinizer3.1.jar)"
   ]
  },
  {
   "cell_type": "code",
   "execution_count": 23,
   "metadata": {},
   "outputs": [],
   "source": [
    "if not os.path.exists('Rab3/rabinizer3.1.jar'):\n",
    "    mkdir('Rab3')\n",
    "    !wget -P 'Rab3' https://www7.in.tum.de/~kretinsk/rabinizer3/rabinizer3.1.jar"
   ]
  },
  {
   "cell_type": "code",
   "execution_count": 50,
   "metadata": {},
   "outputs": [
    {
     "name": "stdout",
     "output_type": "stream",
     "text": [
      "\r\n",
      "Usage: rabinizer [options] <ltlfile>\r\n",
      "Options:\r\n",
      "   -help         : print this help and exit\r\n",
      "   -postfix      : dump formula in reverse Polish notation and exit\r\n",
      "   -silent       : silent terminal output, no messages, only the result\r\n",
      "\r\n",
      "   -auto=tgr     : creates generalized Rabin automaton with condition on transitions (default)\r\n",
      "   -auto=sgr     : creates generalized Rabin automaton with condition on states\r\n",
      "   -auto=tr      : creates Rabin automaton with condition on transitions\r\n",
      "   -auto=sr      : creates Rabin automaton with condition on states\r\n",
      "   -format=hoa   : HOA (Hanoi omega-automata) format \r\n",
      "   -format=dot   : dotty format (default)\r\n",
      "   -format=size  : print only size of automaton\r\n",
      "   -how=isabelle : stick to mechanically proven construction\r\n",
      "   -how=optimize : use optimizations (default) \r\n",
      "   -in=formula   : formula is input as an argument (default)\r\n",
      "   -in=file      : batch processing of one or more formula per line in the file passed as an argument\r\n",
      "   -out=file     : print automaton to file(s) (default)\r\n",
      "   -out=std      : print automaton to terminal\r\n",
      "\r\n",
      "\r\n"
     ]
    }
   ],
   "source": [
    "!java -jar Rab3/rabinizer3.1.jar -h"
   ]
  },
  {
   "cell_type": "markdown",
   "metadata": {},
   "source": [
    "## Rabinizer 4\n",
    "Available [here](https://www7.in.tum.de/~meggendo/artifacts/owl/current.txz)"
   ]
  },
  {
   "cell_type": "code",
   "execution_count": 46,
   "metadata": {},
   "outputs": [],
   "source": [
    "%%bash --err err\n",
    "if [ ! -f Rab4/bin/ltl2dgra ]; then\n",
    "    mkdir -p Rab4\n",
    "    cd Rab4\n",
    "    wget https://www7.in.tum.de/~meggendo/artifacts/owl/current.txz\n",
    "    tar --xz -xf current.txz\n",
    "    mv owl-1.2.0-SNAPSHOT/* .\n",
    "    rm -rf owl-1.2.0-SNAPSHOT\n",
    "    rm current.txz\n",
    "    cd ..\n",
    "fi"
   ]
  },
  {
   "cell_type": "code",
   "execution_count": 47,
   "metadata": {},
   "outputs": [
    {
     "name": "stdout",
     "output_type": "stream",
     "text": [
      "\u001b[0m\u001b[01;34mbin\u001b[0m/  \u001b[01;34mdoc\u001b[0m/  \u001b[01;34mlib\u001b[0m/  \u001b[01;34msrc\u001b[0m/\r\n"
     ]
    }
   ],
   "source": [
    "ls Rab4/"
   ]
  }
 ],
 "metadata": {
  "kernelspec": {
   "display_name": "Python 3",
   "language": "python",
   "name": "python3"
  },
  "language_info": {
   "codemirror_mode": {
    "name": "ipython",
    "version": 3
   },
   "file_extension": ".py",
   "mimetype": "text/x-python",
   "name": "python",
   "nbconvert_exporter": "python",
   "pygments_lexer": "ipython3",
   "version": "3.4.3"
  }
 },
 "nbformat": 4,
 "nbformat_minor": 2
}
