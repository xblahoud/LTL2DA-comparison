{
 "cells": [
  {
   "cell_type": "code",
   "execution_count": null,
   "metadata": {},
   "outputs": [],
   "source": [
    "import os"
   ]
  },
  {
   "cell_type": "code",
   "execution_count": null,
   "metadata": {},
   "outputs": [],
   "source": [
    "def mkdir(directory):\n",
    "    if not os.path.exists(directory):\n",
    "        os.makedirs(directory)"
   ]
  },
  {
   "cell_type": "markdown",
   "metadata": {},
   "source": [
    "## Rabinizer 1\n",
    "Rabinizer 1 have to be downloaded manually from [Rabinizer webpage](https://rabinizer.informatik.tu-muenchen.de/)"
   ]
  },
  {
   "cell_type": "markdown",
   "metadata": {},
   "source": [
    "## Rabinizer 2\n",
    "Available [here](https://www7.in.tum.de/~kretinsk/rabinizer2/rabinizer.jar)"
   ]
  },
  {
   "cell_type": "code",
   "execution_count": null,
   "metadata": {},
   "outputs": [],
   "source": [
    "if not os.path.exists('Rab2/rabinizer.jar'):\n",
    "    mkdir('Rab2')\n",
    "    !wget -P 'Rab2' https://www7.in.tum.de/~kretinsk/rabinizer2/rabinizer.jar"
   ]
  },
  {
   "cell_type": "code",
   "execution_count": null,
   "metadata": {},
   "outputs": [],
   "source": [
    "!java -jar Rab2/rabinizer.jar -h"
   ]
  },
  {
   "cell_type": "markdown",
   "metadata": {},
   "source": [
    "## Rabinizer 3\n",
    "Available [here](https://www7.in.tum.de/~kretinsk/rabinizer3/rabinizer3.1.jar)"
   ]
  },
  {
   "cell_type": "code",
   "execution_count": null,
   "metadata": {},
   "outputs": [],
   "source": [
    "if not os.path.exists('Rab3/rabinizer3.1.jar'):\n",
    "    mkdir('Rab3')\n",
    "    !wget -P 'Rab3' https://www7.in.tum.de/~kretinsk/rabinizer3/rabinizer3.1.jar"
   ]
  },
  {
   "cell_type": "code",
   "execution_count": null,
   "metadata": {},
   "outputs": [],
   "source": [
    "!java -jar Rab3/rabinizer3.1.jar -h"
   ]
  },
  {
   "cell_type": "markdown",
   "metadata": {},
   "source": [
    "## Rabinizer 4\n",
    "Available [here](https://www7.in.tum.de/~meggendo/artifacts/owl/current.txz)"
   ]
  },
  {
   "cell_type": "code",
   "execution_count": null,
   "metadata": {},
   "outputs": [],
   "source": [
    "%%bash --err err\n",
    "if [ ! -f Rab4/bin/ltl2dgra ]; then\n",
    "    mkdir -p Rab4\n",
    "    cd Rab4\n",
    "    wget https://www7.in.tum.de/~meggendo/artifacts/owl/current.txz\n",
    "    tar --xz -xf current.txz\n",
    "    mv owl-1.2.0-SNAPSHOT/* .\n",
    "    rm -rf owl-1.2.0-SNAPSHOT\n",
    "    rm current.txz\n",
    "    cd ..\n",
    "fi"
   ]
  },
  {
   "cell_type": "code",
   "execution_count": null,
   "metadata": {},
   "outputs": [],
   "source": [
    "ls Rab4/"
   ]
  }
 ],
 "metadata": {
  "kernelspec": {
   "display_name": "Python 3",
   "language": "python",
   "name": "python3"
  },
  "language_info": {
   "codemirror_mode": {
    "name": "ipython",
    "version": 3
   },
   "file_extension": ".py",
   "mimetype": "text/x-python",
   "name": "python",
   "nbconvert_exporter": "python",
   "pygments_lexer": "ipython3",
   "version": "3.5.2"
  }
 },
 "nbformat": 4,
 "nbformat_minor": 2
}
