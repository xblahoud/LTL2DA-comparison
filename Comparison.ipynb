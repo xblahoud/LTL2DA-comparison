{
 "cells": [
  {
   "cell_type": "code",
   "execution_count": 1,
   "metadata": {},
   "outputs": [],
   "source": [
    "import os\n",
    "from datetime import datetime\n",
    "from ltlcross_runner import LtlcrossRunner\n",
    "from tools_hier import get_tools, ltl3dra_tools, full_tools, tool_order\n",
    "from evaluation_utils import sort_by_tools, split_cols\n",
    "import pandas as pd\n",
    "import spot\n",
    "spot.setup()"
   ]
  },
  {
   "cell_type": "markdown",
   "metadata": {},
   "source": [
    "# Comparison of LTL to deterministic automata translators \n",
    "\n",
    "$\\newcommand{\\F}{\\mathsf{F}}\\newcommand{\\G}{\\mathsf{G}}\\newcommand{\\U}{\\mathsf{U}}\\newcommand{\\X}{\\mathsf{X}}$\n",
    "## Tools\n",
    "We have \n",
    "* tools that translate \\[fragments\\] of LTL into (generalized) Rabin automata:\n",
    " - [Rabinizer 3.1](https://www7.in.tum.de/~kretinsk/rabinizer3.html)\n",
    " - [Rabinizer 4](https://www7.in.tum.de/~kretinsk/rabinizer4.html)\n",
    " - [LTL3DRA](https://sourceforge.net/projects/ltl3dra/) v.0.2.6 \\[LTL$\\smallsetminus\\G$($\\U\\X$)\\]\n",
    "* tools that chain translation of LTL into cut-deterministic Büchi automata (aka LDBA) or into deterministic Rabin automata with a construction that create deterministic parity automaton. They avoid Safra-like determinization. Both are from the [owl/Rabinizer4 library](https://www7.in.tum.de/~kretinsk/rabinizer4.html)\n",
    " - ltl2dpa --mode=ldba\n",
    " - ltl2dpa --mode=rabinizer (relies on transition-based index appearance record)\n",
    "* tools that perform Safra-based determinization of N\\[G\\]BA into {Rabin/Parity} automata that use intermediete NBA\n",
    " - [ltl2dstar](http://ltl2dstar.de) \\[NBA only\\] {Rabin)}\n",
    " - autfilt from [Spot](https://spot.lrde.epita.fr/) 2.5 {parity}\n",
    " - here we use the following LTL2TGBA/LTL2NBA translators:\n",
    "   - ltl2tgba from [Spot](https://spot.lrde.epita.fr/) 2.5\n",
    "   - [LTL3BA](https://sourceforge.net/p/ltl3ba/) v. 1.1.3; we use LTL3BA in two settings:\n",
    "     - `ltl3ba` {LTL3BA}\n",
    "     - `ltl3ba -d` {LTL3BAd} which prefer more deterministic automata to smaller ones\n",
    " - we further use experimentaly for autfilt the LTL to Emerson-Lei automata translator\n",
    "   - [LTL3TELA](https://github.com/jurajmajor/ltl3tela) v.1.1.1\n",
    "* Safra's based determinization into deterministic parity automata that uses information about the LTL formula\n",
    " - `ltl2tgba -DG` from [Spot](https://spot.lrde.epita.fr/) 2.5"
   ]
  },
  {
   "cell_type": "code",
   "execution_count": 2,
   "metadata": {},
   "outputs": [],
   "source": [
    "runners = {}\n",
    "cols=[\"states\",\"transitions\",\"acc\",\"time\",\"nondet_states\"]\n",
    "for source in ('literature','random'):\n",
    "    for t in ('full','ltl3dra'):\n",
    "        name = '{}_{}'.format(source,t)\n",
    "        tools = full_tools if t=='full' else ltl3dra_tools\n",
    "        runners[name] = \\\n",
    "            LtlcrossRunner(tools,\\\n",
    "                    res_filename='data/{}.csv'.format(name),\\\n",
    "                    formula_files=['formulae/{}.ltl'.format(name)],\\\n",
    "                    cols=cols)\n",
    "\n",
    "name = 'random_fg'\n",
    "tools = ltl3dra_tools\n",
    "runners[name] = LtlcrossRunner(tools,\\\n",
    "                    res_filename='data/{}.csv'.format(name),\\\n",
    "                    formula_files=['formulae/{}.ltl'.format(name)],\\\n",
    "                    cols=cols)"
   ]
  },
  {
   "cell_type": "code",
   "execution_count": 3,
   "metadata": {},
   "outputs": [
    {
     "name": "stdout",
     "output_type": "stream",
     "text": [
      "[01.02.2018 18:00:48]: Working on random_ltl3dra\n",
      "[01.02.2018 18:00:49]: Working on random_fg\n",
      "[01.02.2018 18:00:49]: Working on literature_ltl3dra\n",
      "[01.02.2018 18:00:55]: Working on literature_full\n",
      "[01.02.2018 18:00:55]: Working on random_full\n"
     ]
    }
   ],
   "source": [
    "for name, r in runners.items():\n",
    "    print('{}: Working on {}'.format(datetime.now().strftime('[%d.%m.%Y %T]'),name))\n",
    "    r.name = name\n",
    "    r.parse_results()\n",
    "    r.na_incorrect()\n",
    "    r.orig_count = len(r.values)\n",
    "    r.clean_count = len(r.values.dropna())"
   ]
  },
  {
   "cell_type": "code",
   "execution_count": 4,
   "metadata": {},
   "outputs": [
    {
     "name": "stdout",
     "output_type": "stream",
     "text": [
      "The benchmark random_ltl3dra started with 498 formulae and has valid data for 492 formulae\n"
     ]
    },
    {
     "data": {
      "text/html": [
       "<div>\n",
       "<style scoped>\n",
       "    .dataframe tbody tr th:only-of-type {\n",
       "        vertical-align: middle;\n",
       "    }\n",
       "\n",
       "    .dataframe tbody tr th {\n",
       "        vertical-align: top;\n",
       "    }\n",
       "\n",
       "    .dataframe thead th {\n",
       "        text-align: right;\n",
       "    }\n",
       "</style>\n",
       "<table border=\"1\" class=\"dataframe\">\n",
       "  <thead>\n",
       "    <tr style=\"text-align: right;\">\n",
       "      <th></th>\n",
       "      <th>error type</th>\n",
       "      <th>count</th>\n",
       "    </tr>\n",
       "  </thead>\n",
       "  <tbody>\n",
       "    <tr>\n",
       "      <th>0</th>\n",
       "      <td>crash</td>\n",
       "      <td>1</td>\n",
       "    </tr>\n",
       "    <tr>\n",
       "      <th>1</th>\n",
       "      <td>incorrect</td>\n",
       "      <td>2</td>\n",
       "    </tr>\n",
       "    <tr>\n",
       "      <th>2</th>\n",
       "      <td>parse error</td>\n",
       "      <td>6</td>\n",
       "    </tr>\n",
       "  </tbody>\n",
       "</table>\n",
       "</div>"
      ],
      "text/plain": [
       "    error type  count\n",
       "0        crash      1\n",
       "1    incorrect      2\n",
       "2  parse error      6"
      ]
     },
     "metadata": {},
     "output_type": "display_data"
    },
    {
     "name": "stdout",
     "output_type": "stream",
     "text": [
      "The benchmark random_fg started with 488 formulae and has valid data for 487 formulae\n"
     ]
    },
    {
     "data": {
      "text/html": [
       "<div>\n",
       "<style scoped>\n",
       "    .dataframe tbody tr th:only-of-type {\n",
       "        vertical-align: middle;\n",
       "    }\n",
       "\n",
       "    .dataframe tbody tr th {\n",
       "        vertical-align: top;\n",
       "    }\n",
       "\n",
       "    .dataframe thead th {\n",
       "        text-align: right;\n",
       "    }\n",
       "</style>\n",
       "<table border=\"1\" class=\"dataframe\">\n",
       "  <thead>\n",
       "    <tr style=\"text-align: right;\">\n",
       "      <th></th>\n",
       "      <th>error type</th>\n",
       "      <th>count</th>\n",
       "    </tr>\n",
       "  </thead>\n",
       "  <tbody>\n",
       "    <tr>\n",
       "      <th>0</th>\n",
       "      <td>incorrect</td>\n",
       "      <td>1</td>\n",
       "    </tr>\n",
       "  </tbody>\n",
       "</table>\n",
       "</div>"
      ],
      "text/plain": [
       "  error type  count\n",
       "0  incorrect      1"
      ]
     },
     "metadata": {},
     "output_type": "display_data"
    },
    {
     "name": "stdout",
     "output_type": "stream",
     "text": [
      "The benchmark literature_ltl3dra started with 92 formulae and has valid data for 89 formulae\n"
     ]
    },
    {
     "data": {
      "text/html": [
       "<div>\n",
       "<style scoped>\n",
       "    .dataframe tbody tr th:only-of-type {\n",
       "        vertical-align: middle;\n",
       "    }\n",
       "\n",
       "    .dataframe tbody tr th {\n",
       "        vertical-align: top;\n",
       "    }\n",
       "\n",
       "    .dataframe thead th {\n",
       "        text-align: right;\n",
       "    }\n",
       "</style>\n",
       "<table border=\"1\" class=\"dataframe\">\n",
       "  <thead>\n",
       "    <tr style=\"text-align: right;\">\n",
       "      <th></th>\n",
       "      <th>error type</th>\n",
       "      <th>count</th>\n",
       "    </tr>\n",
       "  </thead>\n",
       "  <tbody>\n",
       "    <tr>\n",
       "      <th>0</th>\n",
       "      <td>parse error</td>\n",
       "      <td>2</td>\n",
       "    </tr>\n",
       "    <tr>\n",
       "      <th>1</th>\n",
       "      <td>timeout</td>\n",
       "      <td>3</td>\n",
       "    </tr>\n",
       "  </tbody>\n",
       "</table>\n",
       "</div>"
      ],
      "text/plain": [
       "    error type  count\n",
       "0  parse error      2\n",
       "1      timeout      3"
      ]
     },
     "metadata": {},
     "output_type": "display_data"
    },
    {
     "name": "stdout",
     "output_type": "stream",
     "text": [
      "The benchmark literature_full started with 129 formulae and has valid data for 121 formulae\n"
     ]
    },
    {
     "data": {
      "text/html": [
       "<div>\n",
       "<style scoped>\n",
       "    .dataframe tbody tr th:only-of-type {\n",
       "        vertical-align: middle;\n",
       "    }\n",
       "\n",
       "    .dataframe tbody tr th {\n",
       "        vertical-align: top;\n",
       "    }\n",
       "\n",
       "    .dataframe thead th {\n",
       "        text-align: right;\n",
       "    }\n",
       "</style>\n",
       "<table border=\"1\" class=\"dataframe\">\n",
       "  <thead>\n",
       "    <tr style=\"text-align: right;\">\n",
       "      <th></th>\n",
       "      <th>error type</th>\n",
       "      <th>count</th>\n",
       "    </tr>\n",
       "  </thead>\n",
       "  <tbody>\n",
       "    <tr>\n",
       "      <th>0</th>\n",
       "      <td>parse error</td>\n",
       "      <td>5</td>\n",
       "    </tr>\n",
       "    <tr>\n",
       "      <th>1</th>\n",
       "      <td>timeout</td>\n",
       "      <td>5</td>\n",
       "    </tr>\n",
       "  </tbody>\n",
       "</table>\n",
       "</div>"
      ],
      "text/plain": [
       "    error type  count\n",
       "0  parse error      5\n",
       "1      timeout      5"
      ]
     },
     "metadata": {},
     "output_type": "display_data"
    },
    {
     "name": "stdout",
     "output_type": "stream",
     "text": [
      "The benchmark random_full started with 500 formulae and has valid data for 479 formulae\n"
     ]
    },
    {
     "data": {
      "text/html": [
       "<div>\n",
       "<style scoped>\n",
       "    .dataframe tbody tr th:only-of-type {\n",
       "        vertical-align: middle;\n",
       "    }\n",
       "\n",
       "    .dataframe tbody tr th {\n",
       "        vertical-align: top;\n",
       "    }\n",
       "\n",
       "    .dataframe thead th {\n",
       "        text-align: right;\n",
       "    }\n",
       "</style>\n",
       "<table border=\"1\" class=\"dataframe\">\n",
       "  <thead>\n",
       "    <tr style=\"text-align: right;\">\n",
       "      <th></th>\n",
       "      <th>error type</th>\n",
       "      <th>count</th>\n",
       "    </tr>\n",
       "  </thead>\n",
       "  <tbody>\n",
       "    <tr>\n",
       "      <th>0</th>\n",
       "      <td>parse error</td>\n",
       "      <td>27</td>\n",
       "    </tr>\n",
       "  </tbody>\n",
       "</table>\n",
       "</div>"
      ],
      "text/plain": [
       "    error type  count\n",
       "0  parse error     27"
      ]
     },
     "metadata": {},
     "output_type": "display_data"
    }
   ],
   "source": [
    "for name, r in runners.items():\n",
    "    print('The benchmark {} started with {} formulae and has valid data for {} formulae'.format(name,r.orig_count,r.clean_count))\n",
    "    r.errors = {}\n",
    "    for e in ['timeout', 'parse error', 'incorrect', 'crash', 'no output']:\n",
    "        s = r.get_error_count(e).sum()\n",
    "        if not pd.isna(s):\n",
    "            r.errors[e] = r.get_error_count(e).sum()\n",
    "    s = pd.Series(r.errors, name='count')\n",
    "    s.index.name = 'error type'\n",
    "    display(s.reset_index())"
   ]
  },
  {
   "cell_type": "markdown",
   "metadata": {},
   "source": [
    "## Gather data"
   ]
  },
  {
   "cell_type": "code",
   "execution_count": 5,
   "metadata": {},
   "outputs": [],
   "source": [
    "def compute_runner(self,cols=['states','acc','time'],\n",
    "                   tool_subset=None, split_col_names=True, col_lev_names=None,\n",
    "                   counts = True):\n",
    "    '''Returns a dataframe with rows indexed by tools in\n",
    "    `tool_subset (or `self.tools.keys()`) and columns by\n",
    "    cols. The values are cummulative sums for respective\n",
    "    tool and column.'''\n",
    "    if tool_subset is None:\n",
    "        tool_subset = self.tools.keys()\n",
    "    name = self.name\n",
    "    name = name.replace('ltl3dra','ltl-gux')\n",
    "    if counts:\n",
    "        name = '{} ({})'.format(name,self.clean_count)\n",
    "    col_names = ['{}_{}'.format(name,c) for c in cols]\n",
    "    df = pd.DataFrame(columns=col_names,index=tool_subset)\n",
    "    for col in cols:\n",
    "        df['{}_{}'.format(name,col)] = self.cummulative(col).map(lambda x: '%0.0f' % x)\n",
    "    if split_col_names:\n",
    "        res = split_cols(df,axis=1,symbol='_',names=col_lev_names)\n",
    "    else:\n",
    "        res = df\n",
    "    return res "
   ]
  },
  {
   "cell_type": "code",
   "execution_count": 6,
   "metadata": {},
   "outputs": [
    {
     "data": {
      "text/html": [
       "<div>\n",
       "<style scoped>\n",
       "    .dataframe tbody tr th:only-of-type {\n",
       "        vertical-align: middle;\n",
       "    }\n",
       "\n",
       "    .dataframe tbody tr th {\n",
       "        vertical-align: top;\n",
       "    }\n",
       "\n",
       "    .dataframe thead tr th {\n",
       "        text-align: left;\n",
       "    }\n",
       "</style>\n",
       "<table border=\"1\" class=\"dataframe\">\n",
       "  <thead>\n",
       "    <tr>\n",
       "      <th></th>\n",
       "      <th colspan=\"3\" halign=\"left\">random</th>\n",
       "    </tr>\n",
       "    <tr>\n",
       "      <th></th>\n",
       "      <th colspan=\"3\" halign=\"left\">full (479)</th>\n",
       "    </tr>\n",
       "    <tr>\n",
       "      <th></th>\n",
       "      <th>states</th>\n",
       "      <th>acc</th>\n",
       "      <th>time</th>\n",
       "    </tr>\n",
       "  </thead>\n",
       "  <tbody>\n",
       "    <tr>\n",
       "      <th>Spot/LTL3BAd/NBA.DTPA</th>\n",
       "      <td>4281</td>\n",
       "      <td>1049</td>\n",
       "      <td>10</td>\n",
       "    </tr>\n",
       "    <tr>\n",
       "      <th>Spot/LTL3BAd/TGBA.DTPA</th>\n",
       "      <td>3807</td>\n",
       "      <td>1052</td>\n",
       "      <td>11</td>\n",
       "    </tr>\n",
       "    <tr>\n",
       "      <th>ltl2dstar(NBA)/LTL3BAd/NBA.DSRA</th>\n",
       "      <td>11844</td>\n",
       "      <td>1772</td>\n",
       "      <td>9</td>\n",
       "    </tr>\n",
       "    <tr>\n",
       "      <th>ltl2dpa/Rab/DTPA</th>\n",
       "      <td>4422</td>\n",
       "      <td>1324</td>\n",
       "      <td>952</td>\n",
       "    </tr>\n",
       "    <tr>\n",
       "      <th>ltl2dstar(NBA)/Spot/NBA.DSRA</th>\n",
       "      <td>10137</td>\n",
       "      <td>1672</td>\n",
       "      <td>13</td>\n",
       "    </tr>\n",
       "  </tbody>\n",
       "</table>\n",
       "</div>"
      ],
      "text/plain": [
       "                                    random           \n",
       "                                full (479)           \n",
       "                                    states   acc time\n",
       "Spot/LTL3BAd/NBA.DTPA                 4281  1049   10\n",
       "Spot/LTL3BAd/TGBA.DTPA                3807  1052   11\n",
       "ltl2dstar(NBA)/LTL3BAd/NBA.DSRA      11844  1772    9\n",
       "ltl2dpa/Rab/DTPA                      4422  1324  952\n",
       "ltl2dstar(NBA)/Spot/NBA.DSRA         10137  1672   13"
      ]
     },
     "metadata": {},
     "output_type": "display_data"
    },
    {
     "data": {
      "text/html": [
       "<div>\n",
       "<style scoped>\n",
       "    .dataframe tbody tr th:only-of-type {\n",
       "        vertical-align: middle;\n",
       "    }\n",
       "\n",
       "    .dataframe tbody tr th {\n",
       "        vertical-align: top;\n",
       "    }\n",
       "\n",
       "    .dataframe thead th {\n",
       "        text-align: right;\n",
       "    }\n",
       "</style>\n",
       "<table border=\"1\" class=\"dataframe\">\n",
       "  <thead>\n",
       "    <tr style=\"text-align: right;\">\n",
       "      <th></th>\n",
       "      <th>random_full (479)_states</th>\n",
       "      <th>random_full (479)_acc</th>\n",
       "      <th>random_full (479)_time</th>\n",
       "    </tr>\n",
       "  </thead>\n",
       "  <tbody>\n",
       "    <tr>\n",
       "      <th>Spot/LTL3BAd/NBA.DTPA</th>\n",
       "      <td>4281</td>\n",
       "      <td>1049</td>\n",
       "      <td>10</td>\n",
       "    </tr>\n",
       "    <tr>\n",
       "      <th>Spot/LTL3BAd/TGBA.DTPA</th>\n",
       "      <td>3807</td>\n",
       "      <td>1052</td>\n",
       "      <td>11</td>\n",
       "    </tr>\n",
       "    <tr>\n",
       "      <th>ltl2dstar(NBA)/LTL3BAd/NBA.DSRA</th>\n",
       "      <td>11844</td>\n",
       "      <td>1772</td>\n",
       "      <td>9</td>\n",
       "    </tr>\n",
       "    <tr>\n",
       "      <th>ltl2dpa/Rab/DTPA</th>\n",
       "      <td>4422</td>\n",
       "      <td>1324</td>\n",
       "      <td>952</td>\n",
       "    </tr>\n",
       "    <tr>\n",
       "      <th>ltl2dstar(NBA)/Spot/NBA.DSRA</th>\n",
       "      <td>10137</td>\n",
       "      <td>1672</td>\n",
       "      <td>13</td>\n",
       "    </tr>\n",
       "  </tbody>\n",
       "</table>\n",
       "</div>"
      ],
      "text/plain": [
       "                                random_full (479)_states  \\\n",
       "Spot/LTL3BAd/NBA.DTPA                               4281   \n",
       "Spot/LTL3BAd/TGBA.DTPA                              3807   \n",
       "ltl2dstar(NBA)/LTL3BAd/NBA.DSRA                    11844   \n",
       "ltl2dpa/Rab/DTPA                                    4422   \n",
       "ltl2dstar(NBA)/Spot/NBA.DSRA                       10137   \n",
       "\n",
       "                                random_full (479)_acc random_full (479)_time  \n",
       "Spot/LTL3BAd/NBA.DTPA                            1049                     10  \n",
       "Spot/LTL3BAd/TGBA.DTPA                           1052                     11  \n",
       "ltl2dstar(NBA)/LTL3BAd/NBA.DSRA                  1772                      9  \n",
       "ltl2dpa/Rab/DTPA                                 1324                    952  \n",
       "ltl2dstar(NBA)/Spot/NBA.DSRA                     1672                     13  "
      ]
     },
     "metadata": {},
     "output_type": "display_data"
    },
    {
     "data": {
      "text/html": [
       "<div>\n",
       "<style scoped>\n",
       "    .dataframe tbody tr th:only-of-type {\n",
       "        vertical-align: middle;\n",
       "    }\n",
       "\n",
       "    .dataframe tbody tr th {\n",
       "        vertical-align: top;\n",
       "    }\n",
       "\n",
       "    .dataframe thead tr th {\n",
       "        text-align: left;\n",
       "    }\n",
       "</style>\n",
       "<table border=\"1\" class=\"dataframe\">\n",
       "  <thead>\n",
       "    <tr>\n",
       "      <th>source</th>\n",
       "      <th colspan=\"3\" halign=\"left\">random</th>\n",
       "    </tr>\n",
       "    <tr>\n",
       "      <th>fragment</th>\n",
       "      <th colspan=\"3\" halign=\"left\">full (479)</th>\n",
       "    </tr>\n",
       "    <tr>\n",
       "      <th>metric</th>\n",
       "      <th>states</th>\n",
       "      <th>acc</th>\n",
       "      <th>time</th>\n",
       "    </tr>\n",
       "  </thead>\n",
       "  <tbody>\n",
       "    <tr>\n",
       "      <th>Spot/LTL3BAd/NBA.DTPA</th>\n",
       "      <td>4281</td>\n",
       "      <td>1049</td>\n",
       "      <td>10</td>\n",
       "    </tr>\n",
       "    <tr>\n",
       "      <th>Spot/LTL3BAd/TGBA.DTPA</th>\n",
       "      <td>3807</td>\n",
       "      <td>1052</td>\n",
       "      <td>11</td>\n",
       "    </tr>\n",
       "    <tr>\n",
       "      <th>ltl2dstar(NBA)/LTL3BAd/NBA.DSRA</th>\n",
       "      <td>11844</td>\n",
       "      <td>1772</td>\n",
       "      <td>9</td>\n",
       "    </tr>\n",
       "    <tr>\n",
       "      <th>ltl2dpa/Rab/DTPA</th>\n",
       "      <td>4422</td>\n",
       "      <td>1324</td>\n",
       "      <td>952</td>\n",
       "    </tr>\n",
       "    <tr>\n",
       "      <th>ltl2dstar(NBA)/Spot/NBA.DSRA</th>\n",
       "      <td>10137</td>\n",
       "      <td>1672</td>\n",
       "      <td>13</td>\n",
       "    </tr>\n",
       "  </tbody>\n",
       "</table>\n",
       "</div>"
      ],
      "text/plain": [
       "source                              random           \n",
       "fragment                        full (479)           \n",
       "metric                              states   acc time\n",
       "Spot/LTL3BAd/NBA.DTPA                 4281  1049   10\n",
       "Spot/LTL3BAd/TGBA.DTPA                3807  1052   11\n",
       "ltl2dstar(NBA)/LTL3BAd/NBA.DSRA      11844  1772    9\n",
       "ltl2dpa/Rab/DTPA                      4422  1324  952\n",
       "ltl2dstar(NBA)/Spot/NBA.DSRA         10137  1672   13"
      ]
     },
     "execution_count": 6,
     "metadata": {},
     "output_type": "execute_result"
    }
   ],
   "source": [
    "display(compute_runner(r).head())\n",
    "display(compute_runner(r,split_col_names=False).head())\n",
    "compute_runner(r,col_lev_names=['source','fragment','metric']).head()"
   ]
  },
  {
   "cell_type": "code",
   "execution_count": 7,
   "metadata": {},
   "outputs": [],
   "source": [
    "data = []\n",
    "order = [\n",
    "    ('literature','full'),\n",
    "    ('literature','ltl3dra'),\n",
    "    ('random','full'),\n",
    "    ('random','ltl3dra'),\n",
    "    ('random','fg'),\n",
    "]\n",
    "for o in order:\n",
    "    data.append(compute_runner(runners['{}_{}'.format(o[0],o[1])]))\n",
    "res = pd.concat(data,axis=1)\n",
    "res = split_cols(res,axis=0,symbol='/')"
   ]
  },
  {
   "cell_type": "code",
   "execution_count": 8,
   "metadata": {},
   "outputs": [],
   "source": [
    "def fix_acc(acc):\n",
    "    acc = acc.replace('TGBA','TGB').replace('NBA','SB')\n",
    "    acc = acc.replace('DPA','DTPA').replace('DTPA','TP')\n",
    "    acc = acc.replace('DSRA','SR').replace('DTGRA','TGR')\n",
    "    return acc.replace('DTELA','TEL').replace('TEL.TP','TEL.TEL')"
   ]
  },
  {
   "cell_type": "code",
   "execution_count": 9,
   "metadata": {},
   "outputs": [],
   "source": [
    "def fix_tools(tool):\n",
    "    tool = tool.replace('ltl2dstar(NBA)',\n",
    "                        '\\parbox[c]{1.3cm}{\\centering ltl2dstar NBA}')\n",
    "    tool = tool.replace('Spot',\n",
    "                        '\\rotatebox[origin=c]{90}{Spot (autfilt)}')\n",
    "    tool = tool.replace('R3','Rabinizer 3').replace('R4','Rabinizer 4')\n",
    "    return tool"
   ]
  },
  {
   "cell_type": "code",
   "execution_count": 10,
   "metadata": {},
   "outputs": [],
   "source": [
    "def fix_fragment(fr):\n",
    "    fr = fr.replace('full','full LTL')\n",
    "    fr = fr.replace('ltl-gux','\\LTLGUX')\n",
    "    return fr.replace('fg','\\FG').replace('(','[$').replace(')','$]')"
   ]
  },
  {
   "cell_type": "code",
   "execution_count": 11,
   "metadata": {},
   "outputs": [],
   "source": [
    "def shorten_index(df):\n",
    "    i = [(fix_tools(t[0]),t[1],fix_acc(t[2])) for t in df.index.values]\n",
    "    df.index=pd.MultiIndex.from_tuples(i)\n",
    "    ci = [(t[0],fix_fragment(t[1]),t[2]) for t in df.columns.values]\n",
    "    df.columns=pd.MultiIndex.from_tuples(ci)\n",
    "    "
   ]
  },
  {
   "cell_type": "code",
   "execution_count": 12,
   "metadata": {},
   "outputs": [],
   "source": [
    "def fix_lines(filename):\n",
    "    filename = 'cumm_rand.tex'\n",
    "    todo = [('\\multirow{2}{*}{ltl2dpa}','\\cline{1-12}'),\n",
    "     ('& \\multirow{2}{*}{Spot}','\\cline{2-12}')]\n",
    "    for rplc, cline in todo:\n",
    "        with open(filename) as f:\n",
    "            lines = f.read().replace(\"{}\".format(rplc),\n",
    "                                     \"{}{}\".format(cline,rplc))\n",
    "        with open(filename,\"w\") as f1:\n",
    "            f1.write(lines)"
   ]
  },
  {
   "cell_type": "code",
   "execution_count": 50,
   "metadata": {},
   "outputs": [],
   "source": [
    "def color_table(filename):\n",
    "    setup = '''\\\\newcolumntype{a}{>{\\\\columncolor{blue!20}}r}\n",
    "\\\\newcolumntype{b}{>{\\\\columncolor{blue!20}}c}\n",
    "\\\\setlength{\\\\aboverulesep}{0pt}\n",
    "\\\\setlength{\\\\belowrulesep}{0pt}\n",
    "\\\\setlength{\\\\extrarowheight}{.75ex}\n",
    "\\\\def\\\\high{\\\\cellcolor{darkgreen!40}}\n",
    "'''\n",
    "    with open(filename) as f:\n",
    "        lines = f.read()\n",
    "    lines = fix_header_colors(lines)\n",
    "    lines = lines.replace('cline','cmidrule')\n",
    "    lines = lines.replace('$nan$','---')\n",
    "    with open(filename,\"w\") as f1:\n",
    "        f1.write(setup + lines)"
   ]
  },
  {
   "cell_type": "code",
   "execution_count": 51,
   "metadata": {},
   "outputs": [],
   "source": [
    "def fix_header_colors(lines):\n",
    "    lines = lines.replace('{c}','{b}',1)\n",
    "    i = lines.find('{c}')\n",
    "    return lines[:i+1] + lines[i+1:].replace('{c}','{b}',1)"
   ]
  },
  {
   "cell_type": "code",
   "execution_count": 52,
   "metadata": {},
   "outputs": [],
   "source": [
    "def cummulative_to_latex(res,file='cumm.tex',transpose=False):\n",
    "    if transpose:\n",
    "        res = res.T\n",
    "    col_f = 'ccr'\n",
    "    for i in range(len(res.columns)//3):\n",
    "        if i % 2 == 0:\n",
    "            col_f += 'aaa'\n",
    "        else:\n",
    "            col_f += 'rrr'\n",
    "    res = res\n",
    "    res.to_latex(buf=open(file,'w'),multirow=True,escape=False,na_rep='---',float_format=lambda x: '$' + '%0.0f' % x + '$',column_format=col_f,multicolumn_format='c')"
   ]
  },
  {
   "cell_type": "code",
   "execution_count": 63,
   "metadata": {},
   "outputs": [],
   "source": [
    "def high_min(data):\n",
    "    return ['\\high ${:0.0f}$'.format(m) if \n",
    "            m == data.min() else m for m in data]"
   ]
  },
  {
   "cell_type": "code",
   "execution_count": 64,
   "metadata": {},
   "outputs": [],
   "source": [
    "sorted_all = sort_by_tools(res,tool_order)\n",
    "shorten_index(sorted_all)\n",
    "sorted_all = sorted_all.astype(float).apply(high_min)"
   ]
  },
  {
   "cell_type": "code",
   "execution_count": 65,
   "metadata": {},
   "outputs": [],
   "source": [
    "cummulative_to_latex(sorted_all.random, file='cumm_rand.tex', transpose=False)\n",
    "fix_lines('cumm_rand.tex')\n",
    "color_table('cumm_rand.tex')"
   ]
  },
  {
   "cell_type": "code",
   "execution_count": 66,
   "metadata": {},
   "outputs": [],
   "source": [
    "cummulative_to_latex(sorted_all.literature, file='cumm_lit.tex', transpose=False)\n",
    "fix_lines('cumm_lit.tex')\n",
    "color_table('cumm_lit.tex')"
   ]
  },
  {
   "cell_type": "code",
   "execution_count": null,
   "metadata": {},
   "outputs": [],
   "source": []
  }
 ],
 "metadata": {
  "kernelspec": {
   "display_name": "Python 3",
   "language": "python",
   "name": "python3"
  },
  "language_info": {
   "codemirror_mode": {
    "name": "ipython",
    "version": 3
   },
   "file_extension": ".py",
   "mimetype": "text/x-python",
   "name": "python",
   "nbconvert_exporter": "python",
   "pygments_lexer": "ipython3",
   "version": "3.5.2"
  }
 },
 "nbformat": 4,
 "nbformat_minor": 2
}
