{
 "cells": [
  {
   "cell_type": "code",
   "execution_count": 1,
   "metadata": {},
   "outputs": [],
   "source": [
    "import os\n",
    "from datetime import datetime\n",
    "from ltlcross_runner import LtlcrossRunner\n",
    "import spot\n",
    "spot.setup()"
   ]
  },
  {
   "cell_type": "markdown",
   "metadata": {},
   "source": [
    "# Comparison of LTL to deterministic automata translators \n",
    "\n",
    "$\\newcommand{\\F}{\\mathsf{F}}\\newcommand{\\G}{\\mathsf{G}}\\newcommand{\\U}{\\mathsf{U}}\\newcommand{\\X}{\\mathsf{X}}$\n",
    "## Tools\n",
    "We have \n",
    "* tools that translate \\[fragments\\] of LTL into (generalized) Rabin automata:\n",
    " - [Rabinizer 3.1](https://www7.in.tum.de/~kretinsk/rabinizer3.html)\n",
    " - [Rabinizer 4](https://www7.in.tum.de/~kretinsk/rabinizer4.html)\n",
    " - [LTL3DRA](https://sourceforge.net/projects/ltl3dra/) v.0.2.5 \\[LTL$\\smallsetminus\\G$($\\U\\X$)\\]\n",
    "* tools that chain translation of LTL into cut-deterministic Büchi automata (aka LDBA) or into deterministic Rabin automata with a construction that create deterministic parity automaton. They avoid Safra-like determinization. Both are from the [owl/Rabinizer4 library](https://www7.in.tum.de/~kretinsk/rabinizer4.html)\n",
    " - ltl2dpa --mode=ldba\n",
    " - ltl2dpa --mode=rabinizer (relies on transition-based index appearance record)\n",
    "* tools that perform Safra-based determinization of N\\[G\\]BA into {Rabin/Parity} automata that use intermediete NBA\n",
    " - [ltl2dstar](http://ltl2dstar.de) \\[NBA only\\] {Rabin)}\n",
    " - autfilt from [Spot](https://spot.lrde.epita.fr/) 2.4.3 {parity}\n",
    " - autfilt from [Spot](https://spot.lrde.epita.fr/) 2.4.3.dev (to be 2.5 in the future) {parity}\n",
    " - here we use the following LTL2TGBA/LTL2NBA translators:\n",
    "   - ltl2tgba from [Spot](https://spot.lrde.epita.fr/) 2.4.3\n",
    "   - [LTL3BA](https://sourceforge.net/p/ltl3ba/) v. 1.1.3; we use LTL3BA in two settings:\n",
    "     - `ltl3ba` {LTL3BA}\n",
    "     - `ltl3ba -d` {LTL3BAd} which prefer more deterministic automata to smaller ones\n",
    " - we further use experimentaly for autfilt the LTL to Emerson-Lei automata translator\n",
    "   - [LTL3TELA](https://github.com/jurajmajor/ltl3tela) v.1.1.0\n",
    "* Safra's based determinization into deterministic parity automata that uses information about the LTL formula\n",
    " - `ltl2tgba -DG` from [Spot](https://spot.lrde.epita.fr/) 2.4.4\n",
    " - `ltl2tgba -DG`from [Spot](https://spot.lrde.epita.fr/) 2.4.4.dev (to be 2.5 in the future)"
   ]
  },
  {
   "cell_type": "code",
   "execution_count": 2,
   "metadata": {},
   "outputs": [],
   "source": [
    "mkdir data formulae -p"
   ]
  },
  {
   "cell_type": "code",
   "execution_count": 3,
   "metadata": {},
   "outputs": [],
   "source": [
    "if not os.path.exists('formulae/random_full.ltl'):\n",
    "    %run Formulae.ipynb"
   ]
  },
  {
   "cell_type": "code",
   "execution_count": 4,
   "metadata": {},
   "outputs": [],
   "source": [
    "%run Tools.ipynb"
   ]
  },
  {
   "cell_type": "code",
   "execution_count": 5,
   "metadata": {},
   "outputs": [],
   "source": [
    "runners = {}\n",
    "cols=[\"states\",\"transitions\",\"acc\",\"time\",\"nondet_states\"]\n",
    "for source in ('literature','random'):\n",
    "    for t in ('full','ltl3dra'):\n",
    "        name = '{}_{}'.format(source,t)\n",
    "        tools = full_tools if t=='full' else ltl3dra_tools\n",
    "        runners[name] = \\\n",
    "            LtlcrossRunner(tools,\\\n",
    "                    res_filename='data/{}.csv'.format(name),\\\n",
    "                    formula_files=['formulae/{}.ltl'.format(name)],\\\n",
    "                    cols=cols)\n",
    "\n",
    "name = 'random_fg'\n",
    "tools = ltl3dra_tools\n",
    "runners[name] = LtlcrossRunner(tools,\\\n",
    "                    res_filename='data/{}.csv'.format(name),\\\n",
    "                    formula_files=['formulae/{}.ltl'.format(name)],\\\n",
    "                    cols=cols)"
   ]
  },
  {
   "cell_type": "code",
   "execution_count": 6,
   "metadata": {},
   "outputs": [],
   "source": [
    "rerun = False"
   ]
  },
  {
   "cell_type": "code",
   "execution_count": 7,
   "metadata": {},
   "outputs": [
    {
     "name": "stdout",
     "output_type": "stream",
     "text": [
      "[05.01.2018 14:19:43]: Working on literature_ltl3dra\n",
      "[05.01.2018 14:19:49]: Working on random_full\n",
      "[05.01.2018 14:19:50]: Working on random_fg\n",
      "[05.01.2018 14:19:50]: Working on literature_full\n",
      "[05.01.2018 14:19:51]: Working on random_ltl3dra\n"
     ]
    }
   ],
   "source": [
    "for name in runners.keys():\n",
    "    print('{}: Working on {}'.format(datetime.now().strftime('[%d.%m.%Y %T]'),name))\n",
    "    if rerun:\n",
    "        runners[name].run_ltlcross(timeout='120')\n",
    "    runners[name].parse_results()"
   ]
  },
  {
   "cell_type": "code",
   "execution_count": null,
   "metadata": {},
   "outputs": [],
   "source": []
  }
 ],
 "metadata": {
  "kernelspec": {
   "display_name": "Python 3",
   "language": "python",
   "name": "python3"
  },
  "language_info": {
   "codemirror_mode": {
    "name": "ipython",
    "version": 3
   },
   "file_extension": ".py",
   "mimetype": "text/x-python",
   "name": "python",
   "nbconvert_exporter": "python",
   "pygments_lexer": "ipython3",
   "version": "3.5.2"
  }
 },
 "nbformat": 4,
 "nbformat_minor": 2
}
