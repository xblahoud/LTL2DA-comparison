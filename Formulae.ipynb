{
 "cells": [
  {
   "cell_type": "code",
   "execution_count": null,
   "metadata": {},
   "outputs": [],
   "source": [
    "import spot\n",
    "spot.setup()"
   ]
  },
  {
   "cell_type": "markdown",
   "metadata": {},
   "source": [
    "# Formulae\n",
    "\n",
    "## LTL3DRA fragment check\n",
    "LTL3DRA works only for $\\text{LTL}\\setminus\\mathsf{G}(\\mathsf{UX})$"
   ]
  },
  {
   "cell_type": "code",
   "execution_count": null,
   "metadata": {},
   "outputs": [],
   "source": [
    "def is_in_ltlgux(form):\n",
    "    if type(form) == str:\n",
    "        f = spot.formula(form)\n",
    "    else:\n",
    "        f = form\n",
    "    res = !ltl3dra -C -f \"{f.to_str(format='spin')}\"\n",
    "    if len(res) == 0:\n",
    "        raise Exception(\"ltl3dra did not finished as expected\")\n",
    "    else:\n",
    "        if res[0] == '0':\n",
    "            return False\n",
    "        elif res[0] == '1':\n",
    "            return True\n",
    "        else:\n",
    "            raise Exception(\"ltl3dra did not finished as expected\")"
   ]
  },
  {
   "cell_type": "markdown",
   "metadata": {},
   "source": [
    "In this notebook we generate files with formulae that we further use for our evaluation. We use three types of formulae regarding their source. These are\n",
    "\n",
    "1. **classical benchmarking formulae from literature**,\n",
    "2. **parametric formulae from literature**, and\n",
    "3. **random formulae**."
   ]
  },
  {
   "cell_type": "markdown",
   "metadata": {},
   "source": [
    "## Formulae from literature"
   ]
  },
  {
   "cell_type": "markdown",
   "metadata": {},
   "source": [
    "* beem: R. Pelánek: _BEEM: Benchmarks for explicit model checkers._ Proceedings of Spin'07.  LNCS 4595.\n",
    "* hkrss: Holeček, T. Kratochvila, V. Řehák, D. Šafránek, and P. Šimeček: _Verification  Results  in  Liberouter Project._  Tech. Report 03, CESNET, 2004.\n",
    "* dac: M.  B.  Dwyer and G. S. Avrunin and J. C. Corbett: _Property Specification Patterns for Finite-state Verification._ Proceedings of FMSP'98.\n",
    "* eh: K. Etessami and G. J. Holzmann: _Optimizing Büchi Automata._  Proceedings of Concur'00.  LNCS 1877.\n",
    "* sb: F. Somenzi and R. Bloem: _Efficient Büchi Automata for LTL Formulae._  Proceedings of CAV'00.  LNCS 1855."
   ]
  },
  {
   "cell_type": "markdown",
   "metadata": {},
   "source": [
    "There are many duplicates among the sources mentioned above. Therefore, we process them to minimize the level of duplicates. The steps are:\n",
    "1. The temporal operators $\\mathsf{W}$ and $\\mathsf{M}$ are removed by applying standard equivalences.\n",
    "1. Atomic propositions are renamed in alphabetical order and also free boolean combinations of AP are replaced by fresh AP. For example, the formula $\\mathsf{G}(a \\lor b) \\land \\mathsf{G} c$ is relabelled to $\\mathsf{G} a \\land \\mathsf{G} b$.\n",
    "2. Formulae are simplified by SPOT's reductions techniques.\n",
    "3. Formulae equivallent to `True` or `False` are removed.\n",
    "\n",
    "Next, we add also a negations of already chosen formulae."
   ]
  },
  {
   "cell_type": "code",
   "execution_count": null,
   "metadata": {
    "collapsed": true
   },
   "outputs": [],
   "source": [
    "tmp_file      = 'formulae/tmp.ltl'\n",
    "lit_pref      = 'formulae/literature'\n",
    "lit_file      = lit_pref + '.ltl'\n",
    "rand_pref     = 'formulae/random'"
   ]
  },
  {
   "cell_type": "code",
   "execution_count": null,
   "metadata": {},
   "outputs": [],
   "source": [
    "!genltl --dac-patterns --eh-patterns --sb-patterns --beem-patterns --hkrss-patterns > $tmp_file"
   ]
  },
  {
   "cell_type": "code",
   "execution_count": null,
   "metadata": {},
   "outputs": [],
   "source": [
    "!ltlfilt --negate $tmp_file | \\\n",
    "ltlfilt $tmp_file -F - --unique -r3 --remove-wm --relabel-bool=abc | \\\n",
    "     ltlfilt -v --equivalent-to=0 | ltlfilt -v --equivalent-to=1> $lit_file"
   ]
  },
  {
   "cell_type": "code",
   "execution_count": null,
   "metadata": {},
   "outputs": [],
   "source": [
    "count = sum(1 for line in open(lit_file))\n",
    "print('Number of formulae from literature:\\t{}'.format(count))"
   ]
  },
  {
   "cell_type": "code",
   "execution_count": null,
   "metadata": {},
   "outputs": [],
   "source": [
    "!wc -l $lit_file"
   ]
  },
  {
   "cell_type": "markdown",
   "metadata": {},
   "source": [
    "### Categorize into fragments"
   ]
  },
  {
   "cell_type": "code",
   "execution_count": null,
   "metadata": {
    "collapsed": true
   },
   "outputs": [],
   "source": [
    "def categorize(form_file,prefix):\n",
    "    with open(form_file,'r') as source,\\\n",
    "         open('{}_ltl3dra.ltl'.format(prefix),'w') as ltl3dra,\\\n",
    "         open('{}_full.ltl'.format(prefix),'w') as full:\n",
    "        for form in source:\n",
    "            if is_in_ltlgux(form):\n",
    "                print(form,file=ltl3dra,end='')\n",
    "            else:\n",
    "                print(form,file=full,end='')"
   ]
  },
  {
   "cell_type": "code",
   "execution_count": null,
   "metadata": {
    "collapsed": true
   },
   "outputs": [],
   "source": [
    "categorize(lit_file,lit_pref)"
   ]
  },
  {
   "cell_type": "code",
   "execution_count": null,
   "metadata": {},
   "outputs": [],
   "source": [
    "def is_fg(f):\n",
    "    if 'U' in f or 'R' in f or 'X' in f or 'M' in f or 'W' in f:\n",
    "        return False\n",
    "    else:\n",
    "        return True"
   ]
  },
  {
   "cell_type": "code",
   "execution_count": null,
   "metadata": {},
   "outputs": [],
   "source": [
    "for t in ['ltl3dra','full']:\n",
    "    count = sum(1 for line in open('{}_{}.ltl'.format(lit_pref,t)))\n",
    "    print('Formulae from LTL fragment {}:\\t{}'.format(t,count))"
   ]
  },
  {
   "cell_type": "code",
   "execution_count": null,
   "metadata": {},
   "outputs": [],
   "source": [
    "with open('{}_{}.ltl'.format(lit_pref,'ltl3dra')) as file:\n",
    "    count = 0\n",
    "    for line in file:\n",
    "        if is_fg(line):\n",
    "            count += 1\n",
    "print('Formulae from LTL(F,G) that are included in the formulae of the fragment of ltl3dra:\\t{} '.format(count))"
   ]
  },
  {
   "cell_type": "markdown",
   "metadata": {},
   "source": [
    "## Parametric formulae"
   ]
  },
  {
   "cell_type": "markdown",
   "metadata": {},
   "source": [
    "## Random formulae"
   ]
  },
  {
   "cell_type": "code",
   "execution_count": null,
   "metadata": {
    "collapsed": true
   },
   "outputs": [],
   "source": [
    "def generate(n=100,func=(lambda x: True),filename=None,seed=0,priorities='M=0,W=0,xor=0',ap=['a','b','c','d','e']):\n",
    "    '''Generates a specified number of formulas that are\n",
    "    accepted by the given function. If filename specified\n",
    "    it prints them into the given file.\n",
    "    '''\n",
    "    if filename is None:\n",
    "        file_h = sys.stdout\n",
    "    else:\n",
    "        file_h = open(filename,'w')\n",
    "    f = spot.randltl(ap,ltl_priorities=priorities,\n",
    "                  simplify=3,tree_size=15,seed=seed).\\\n",
    "                  relabel_bse(spot.Pnn).unabbreviate('WM')\n",
    "    i = 0\n",
    "    printed = set()\n",
    "    c = spot.language_containment_checker()\n",
    "    while(i < n):\n",
    "        form = next(f)\n",
    "        #form = spot.negative_normal_form(form)\n",
    "        if form in printed:\n",
    "            continue\n",
    "        if func(form) and not c.equal(form, spot.formula.tt()) and not c.equal(form, spot.formula.ff()):\n",
    "            print(form,file=file_h)\n",
    "            printed.add(form)\n",
    "            i += 1"
   ]
  },
  {
   "cell_type": "markdown",
   "metadata": {},
   "source": [
    "generate 500 formulas for each fragment"
   ]
  },
  {
   "cell_type": "code",
   "execution_count": null,
   "metadata": {
    "collapsed": true
   },
   "outputs": [],
   "source": [
    "for t,f in [('ltl3dra',is_in_ltlgux),\\\n",
    "            ('full',(lambda x: not is_in_ltlgux(x)))]:\n",
    "    generate(500,f,'{}_{}.ltl'.format(rand_pref,t))"
   ]
  },
  {
   "cell_type": "code",
   "execution_count": null,
   "metadata": {},
   "outputs": [],
   "source": [
    "generate(500,filename='{}_fg.ltl'.format(rand_pref),priorities='xor=0,implies=0,equiv=0,X=0,W=0,M=0,R=0,U=0,F=3,G=3')"
   ]
  },
  {
   "cell_type": "code",
   "execution_count": null,
   "metadata": {},
   "outputs": [],
   "source": [
    "for t in ['fg','ltl3dra','full']:\n",
    "    count = sum(1 for line in open('{}_{}.ltl'.format(rand_pref,t)))\n",
    "    print('Formulae from LTL fragment {}:\\t{}'.format(t,count))"
   ]
  }
 ],
 "metadata": {
  "kernelspec": {
   "display_name": "Python 3",
   "language": "python",
   "name": "python3"
  },
  "language_info": {
   "codemirror_mode": {
    "name": "ipython",
    "version": 3
   },
   "file_extension": ".py",
   "mimetype": "text/x-python",
   "name": "python",
   "nbconvert_exporter": "python",
   "pygments_lexer": "ipython3",
   "version": "3.4.3"
  }
 },
 "nbformat": 4,
 "nbformat_minor": 2
}
