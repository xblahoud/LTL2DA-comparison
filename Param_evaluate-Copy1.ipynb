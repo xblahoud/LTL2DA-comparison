{
 "cells": [
  {
   "cell_type": "code",
   "execution_count": null,
   "metadata": {},
   "outputs": [],
   "source": [
    "from ltlcross_runner import param_runner, LtlcrossRunner\n",
    "from tools_hier import get_tools, tool_order\n",
    "from evaluation_utils import split_cols, sort_by_tools, to_tuples"
   ]
  },
  {
   "cell_type": "markdown",
   "metadata": {},
   "source": [
    "## Get the edge where all tools succeed"
   ]
  },
  {
   "cell_type": "code",
   "execution_count": null,
   "metadata": {},
   "outputs": [],
   "source": [
    "def param_get_edge_n(self,only_timeout=True,tool_subset=None):\n",
    "    if tool_subset is None:\n",
    "        tool_subset = self.tools.keys()\n",
    "    v = self.values.states[list(tool_subset)]\n",
    "    max_n = len(v.dropna())\n",
    "    if only_timeout:\n",
    "        es = self.exit_status.iloc[max_n]\n",
    "        while len(es[es == 'timeout']) == 0:\n",
    "            max_n += 1\n",
    "            es = r.exit_status.iloc[max_n]\n",
    "    return max_n"
   ]
  },
  {
   "cell_type": "markdown",
   "metadata": {},
   "source": [
    "## Compute n for each tool"
   ]
  },
  {
   "cell_type": "code",
   "execution_count": null,
   "metadata": {},
   "outputs": [],
   "source": [
    "def param_get_max_n(self,tool):\n",
    "    v = self.values.states[tool]\n",
    "    max_n = len(v.dropna())\n",
    "    return max_n"
   ]
  },
  {
   "cell_type": "markdown",
   "metadata": {},
   "source": [
    "## get_nX_states"
   ]
  },
  {
   "cell_type": "code",
   "execution_count": null,
   "metadata": {},
   "outputs": [],
   "source": [
    "def param_get_value_for(self,tool,n,col='states'):\n",
    "    v = self.values[col][tool]\n",
    "    return v.iloc[n-1]"
   ]
  },
  {
   "cell_type": "markdown",
   "metadata": {},
   "source": [
    "## Prepare table"
   ]
  },
  {
   "cell_type": "code",
   "execution_count": null,
   "metadata": {},
   "outputs": [],
   "source": [
    "import pandas as pd"
   ]
  },
  {
   "cell_type": "code",
   "execution_count": null,
   "metadata": {},
   "outputs": [],
   "source": [
    "def my_highlight_best_min(data):\n",
    "    \"\"\"highlight the minimum of a row.\"\"\"\n",
    "    return ['background-color: #3db709' if m == data.min() else ''\n",
    "            for m in data]\n",
    "\n",
    "def my_highlight_best_max(data):\n",
    "    \"\"\"highlight the maxinum of a row.\"\"\"\n",
    "    return ['background-color: #3db709' if m == data.max() else ''\n",
    "            for m in data]\n",
    "\n",
    "def my_highlight_max(data):\n",
    "    \"\"\"highlight the maximum of a row, and also highlight values that are not far away.\"\"\"\n",
    "    m = data.max()\n",
    "    is_max = data == m\n",
    "    is_good = (data >= (m/1.05)) | (data >= m-0.005)\n",
    "    return ['background-color: #ff5050' if m else\n",
    "            'background-color: #ff9999' if g else ''\n",
    "            for m,g in zip(is_max, is_good)]"
   ]
  },
  {
   "cell_type": "code",
   "execution_count": null,
   "metadata": {},
   "outputs": [],
   "source": [
    "#maxn = \"max $n$\"\n",
    "maxn = \"max\"\n",
    "n_str = '$n = {}$'\n",
    "ne_str = '$n_e = {}$'\n",
    "nt_str = '$n_t = {}$'\n",
    "def compute_param(self,col='states',tool_subset=None):\n",
    "    if tool_subset is None:\n",
    "        tool_subset = self.tools.keys()\n",
    "    nt = param_get_edge_n(self,tool_subset=tool_subset)\n",
    "    ne = param_get_edge_n(self,False,tool_subset=tool_subset)\n",
    "    \n",
    "    if ne == nt:\n",
    "        n_i = n_str.format(ne)\n",
    "        cols = [n_i,maxn]\n",
    "    else:\n",
    "        ne_i = ne_str.format(ne)\n",
    "        nt_i = nt_str.format(nt)\n",
    "        cols = [ne_i,nt_i,maxn]\n",
    "    idx = pd.Index(data=cols)\n",
    "    df = pd.DataFrame(columns=tool_subset,index=idx)\n",
    "\n",
    "    v = self.values[col]\n",
    "    if ne == nt:\n",
    "        df.loc[n_i] = v[df.columns].iloc[ne-1]\n",
    "    else:\n",
    "        df.loc[nt_i] = v[df.columns].iloc[nt-1]\n",
    "        df.loc[ne_i] = v[df.columns].iloc[ne-1]\n",
    "    for tool in tool_subset:\n",
    "        df.loc[maxn].loc[tool] = float(param_get_max_n(self,tool))\n",
    "    #tmp = df.copy()\n",
    "    return df#tmp.style.apply(my_highlight_min, axis=1)"
   ]
  },
  {
   "cell_type": "code",
   "execution_count": null,
   "metadata": {},
   "outputs": [],
   "source": [
    "ltlgux = ['gh-e','gh-c1','gh-c2','gh-q','gh-r',\n",
    "          'gh-s','gh-u','gh-u2','ms-phi-r',\n",
    "          'ms-phi-s','and-fg','or-fg','go-theta']\n",
    "full = ['kr-n','kr-nlogn','ms-phi-h']"
   ]
  },
  {
   "cell_type": "code",
   "execution_count": null,
   "metadata": {},
   "outputs": [],
   "source": [
    "','.join(ltlgux)"
   ]
  },
  {
   "cell_type": "code",
   "execution_count": null,
   "metadata": {},
   "outputs": [],
   "source": [
    "data = []\n",
    "for f in ltlgux:\n",
    "    r = param_runner(f,get_tools('ltl-gux'))\n",
    "    r.parse_results()\n",
    "    data.append(compute_param(r))\n",
    "    \n",
    "for f in full:\n",
    "    r = param_runner(f,get_tools('full'))\n",
    "    r.parse_results()\n",
    "    data.append(compute_param(r))\n",
    "\n",
    "res = pd.concat(data,keys=ltlgux+full)"
   ]
  },
  {
   "cell_type": "code",
   "execution_count": null,
   "metadata": {},
   "outputs": [],
   "source": [
    "def highlight_best(res):  \n",
    "    # Choose all rows for numbers of states\n",
    "    a = res.index.levels[1]\n",
    "    for_min = a.delete(a.get_loc(maxn))\n",
    "\n",
    "    idx = pd.IndexSlice\n",
    "    # Color the best values\n",
    "    return res.style\\\n",
    "        .apply(my_highlight_best_min, axis=1,subset=idx[idx[:,for_min],:])\\\n",
    "        .apply(my_highlight_best_max, axis=1,subset=idx[idx[:,maxn],:])"
   ]
  },
  {
   "cell_type": "code",
   "execution_count": null,
   "metadata": {},
   "outputs": [],
   "source": [
    "h = highlight_best(res)\n",
    "h"
   ]
  },
  {
   "cell_type": "raw",
   "metadata": {},
   "source": [
    "res.to_latex()"
   ]
  },
  {
   "cell_type": "code",
   "execution_count": null,
   "metadata": {},
   "outputs": [],
   "source": [
    "split = split_cols(res)\n",
    "split = sort_by_tools(split,tool_order,axis=1)\n",
    "highlight_best(split)"
   ]
  },
  {
   "cell_type": "code",
   "execution_count": null,
   "metadata": {},
   "outputs": [],
   "source": [
    "highlight_best(split[['R3','R4']])"
   ]
  },
  {
   "cell_type": "code",
   "execution_count": null,
   "metadata": {},
   "outputs": [],
   "source": [
    "def param_to_latex(res,file='param.tex',transpose=False):\n",
    "    if transpose:\n",
    "        res = res.T\n",
    "        col_f = 'rrr' + 'r'*len(res.columns)\n",
    "    else:\n",
    "        col_f = 'cc' + 'r'*len(res.columns)\n",
    "    res.to_latex(buf=open(file,'w'),multirow=True,escape=False,na_rep='---',float_format=lambda x: '$' + '%0.0f' % x + '$',column_format=col_f,multicolumn_format='c')"
   ]
  },
  {
   "cell_type": "code",
   "execution_count": null,
   "metadata": {},
   "outputs": [],
   "source": [
    "param_to_latex(split,transpose=False)"
   ]
  },
  {
   "cell_type": "code",
   "execution_count": null,
   "metadata": {},
   "outputs": [],
   "source": [
    "def multirow(s):\n",
    "    return '\\multirow[t]{2}{*}{'+s+'}'"
   ]
  },
  {
   "cell_type": "code",
   "execution_count": null,
   "metadata": {},
   "outputs": [],
   "source": [
    "idx = pd.IndexSlice\n",
    "split = split_cols(res)\n",
    "highlight_best(split.loc(axis=1)[idx[:,:,['DTPA','NBA.DTPA','TGBA.DTPA']]])"
   ]
  }
 ],
 "metadata": {
  "kernelspec": {
   "display_name": "Python 3",
   "language": "python",
   "name": "python3"
  },
  "language_info": {
   "codemirror_mode": {
    "name": "ipython",
    "version": 3
   },
   "file_extension": ".py",
   "mimetype": "text/x-python",
   "name": "python",
   "nbconvert_exporter": "python",
   "pygments_lexer": "ipython3",
   "version": "3.5.2"
  }
 },
 "nbformat": 4,
 "nbformat_minor": 2
}
