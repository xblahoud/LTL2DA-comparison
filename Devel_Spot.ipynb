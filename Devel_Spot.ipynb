{
 "cells": [
  {
   "cell_type": "markdown",
   "metadata": {},
   "source": [
    "# Install a development version of Spot\n",
    "The current version of Spot is 2.4.3. However, from personal communication with ADL I know that there are some enhancmens in the determinization procedures thatare not in this version yet. They have some technical problems at EPITA that prevents ADL from making futher releases. Therefore I will run 2.4.3 and also the development version of SPOT.\n",
    "\n",
    "We do not install the Python bindings and for all Python code of Spot we still use the stable version 2.4.3."
   ]
  },
  {
   "cell_type": "code",
   "execution_count": null,
   "metadata": {},
   "outputs": [],
   "source": [
    "%%bash\n",
    "cd /tmp\n",
    "rm -rf spot\n",
    "git clone https://gitlab.lrde.epita.fr/spot/spot.git\n",
    "cd spot\n",
    "git checkout next\n",
    "autoreconf -vfi\n",
    "touch doc/org-stamp\n",
    "./configure --disable-devel --disable-python --prefix=/home/xblahoud/spot_dev/\n",
    "touch doc/org-stamp\n",
    "make -j7 V=0\n",
    "make install"
   ]
  },
  {
   "cell_type": "code",
   "execution_count": null,
   "metadata": {},
   "outputs": [],
   "source": [
    "!ltl2tgba --version | head -n1\n",
    "!autfilt --version | head -n1\n",
    "!/home/xblahoud/spot_dev/bin/ltl2tgba --version | head -n1\n",
    "!/home/xblahoud/spot_dev/bin/autfilt --version | head -n1\n",
    "!/home/xblahoud/spot_dev/bin/ltl2tgba -f 'FGa' | head -n3"
   ]
  },
  {
   "cell_type": "code",
   "execution_count": null,
   "metadata": {},
   "outputs": [],
   "source": [
    "import spot\n",
    "spot.version()"
   ]
  }
 ],
 "metadata": {
  "kernelspec": {
   "display_name": "Python 3",
   "language": "python",
   "name": "python3"
  },
  "language_info": {
   "codemirror_mode": {
    "name": "ipython",
    "version": 3
   },
   "file_extension": ".py",
   "mimetype": "text/x-python",
   "name": "python",
   "nbconvert_exporter": "python",
   "pygments_lexer": "ipython3",
   "version": "3.5.2"
  }
 },
 "nbformat": 4,
 "nbformat_minor": 2
}
